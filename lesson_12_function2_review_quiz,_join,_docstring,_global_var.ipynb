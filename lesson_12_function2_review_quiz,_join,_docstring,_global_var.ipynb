{
  "cells": [
    {
      "cell_type": "markdown",
      "metadata": {
        "id": "view-in-github",
        "colab_type": "text"
      },
      "source": [
        "<a href=\"https://colab.research.google.com/github/hyunBBB/OMG/blob/main/lesson_12_function2_review_quiz%2C_join%2C_docstring%2C_global_var.ipynb\" target=\"_parent\"><img src=\"https://colab.research.google.com/assets/colab-badge.svg\" alt=\"Open In Colab\"/></a>"
      ]
    },
    {
      "cell_type": "markdown",
      "metadata": {
        "id": "MjcmwOZDAit0"
      },
      "source": [
        "### Quiz\n",
        "  OTP 생성기"
      ]
    },
    {
      "cell_type": "code",
      "execution_count": 6,
      "metadata": {
        "id": "ddAwxyCuAit4",
        "colab": {
          "base_uri": "https://localhost:8080/"
        },
        "outputId": "c2b7699f-f0f2-404d-ccb4-e35b4b01b6ff"
      },
      "outputs": [
        {
          "output_type": "execute_result",
          "data": {
            "text/plain": [
              "('984098', '993108')"
            ]
          },
          "metadata": {},
          "execution_count": 6
        }
      ],
      "source": [
        "def genPass():\n",
        "  import random\n",
        "  num= '0123456789'\n",
        "  password = ''\n",
        "\n",
        "  for i in range(6):\n",
        "    idx = random.randrange(len(num))\n",
        "    password += num[idx]\n",
        "\n",
        "  return password\n",
        "\n",
        "genPass(), genPass()"
      ]
    },
    {
      "cell_type": "code",
      "execution_count": null,
      "metadata": {
        "id": "azXECF2fAit4"
      },
      "outputs": [],
      "source": [
        ""
      ]
    },
    {
      "cell_type": "markdown",
      "metadata": {
        "id": "GOn-NaGhAit5"
      },
      "source": [
        "#### join 문법\n",
        "    - 하나의 문자열로 합칠 수 있는 함수"
      ]
    },
    {
      "cell_type": "code",
      "execution_count": 7,
      "metadata": {
        "id": "ZhkwPFnhAit5",
        "colab": {
          "base_uri": "https://localhost:8080/",
          "height": 35
        },
        "outputId": "bf9676e5-1b30-45f5-afe4-5c96d2aeb174"
      },
      "outputs": [
        {
          "output_type": "execute_result",
          "data": {
            "text/plain": [
              "\"pythonisfun,isn't it?\""
            ],
            "application/vnd.google.colaboratory.intrinsic+json": {
              "type": "string"
            }
          },
          "metadata": {},
          "execution_count": 7
        }
      ],
      "source": [
        "ls = [\"python\", \"is\", \"fun,\", \"isn't it?\"]\n",
        "\"\". join(ls) # list안의 데이터들을 한 칸씩 띄우고 합치기 인터넷에 있는 문자 그대로 가져올 수 있음. 리스트에 담고 콤마로 구분함 단어를 각각. 콤마가 없어야할 때도 있음. 조인함수 써\n",
        "# blank"
      ]
    },
    {
      "cell_type": "markdown",
      "metadata": {
        "id": "mvbdijooAit7"
      },
      "source": [
        "#### docstring\n",
        "    - 함수를 선언할 때 함수에 대한 설명"
      ]
    },
    {
      "cell_type": "code",
      "execution_count": 8,
      "metadata": {
        "id": "klwz_R8dAit7"
      },
      "outputs": [],
      "source": [
        "def exam_doc(subj):\n",
        "  \"\"\"\n",
        "  이 함수에 대한 설명을 여기에 작성하면 됩니다.\n",
        "  \"\"\"\n",
        "  print(\"docstring 예제\")"
      ]
    },
    {
      "cell_type": "markdown",
      "source": [
        "subj 에 아무거나 써도 됨.\n"
      ],
      "metadata": {
        "id": "2yECoYxEF4oA"
      }
    },
    {
      "cell_type": "markdown",
      "source": [
        ""
      ],
      "metadata": {
        "id": "diw-7nfeF4aL"
      }
    },
    {
      "cell_type": "code",
      "execution_count": 9,
      "metadata": {
        "id": "sIBht6JFAit7",
        "colab": {
          "base_uri": "https://localhost:8080/"
        },
        "outputId": "f6651078-8e68-42c3-d568-0e321e0c3ae3"
      },
      "outputs": [
        {
          "output_type": "stream",
          "name": "stdout",
          "text": [
            "docstring 예제\n"
          ]
        }
      ],
      "source": [
        "exam_doc(2)"
      ]
    },
    {
      "cell_type": "code",
      "execution_count": 10,
      "metadata": {
        "id": "L4TA1hzOAit8",
        "colab": {
          "base_uri": "https://localhost:8080/"
        },
        "outputId": "fc54557d-7561-46b0-dc61-312f95a779f6"
      },
      "outputs": [
        {
          "output_type": "stream",
          "name": "stdout",
          "text": [
            "Help on function exam_doc in module __main__:\n",
            "\n",
            "exam_doc(subj)\n",
            "    이 함수에 대한 설명을 여기에 작성하면 됩니다.\n",
            "\n"
          ]
        }
      ],
      "source": [
        "help(exam_doc)"
      ]
    },
    {
      "cell_type": "code",
      "source": [
        "exam_doc.__doc__"
      ],
      "metadata": {
        "colab": {
          "base_uri": "https://localhost:8080/",
          "height": 35
        },
        "id": "xFWjgPrhGDmx",
        "outputId": "68f1e6c3-c0a9-4a0a-940a-9a698bf81231"
      },
      "execution_count": 12,
      "outputs": [
        {
          "output_type": "execute_result",
          "data": {
            "text/plain": [
              "'\\n  이 함수에 대한 설명을 여기에 작성하면 됩니다.\\n  '"
            ],
            "application/vnd.google.colaboratory.intrinsic+json": {
              "type": "string"
            }
          },
          "metadata": {},
          "execution_count": 12
        }
      ]
    },
    {
      "cell_type": "markdown",
      "source": [
        "함수이름 ㅈ보고프면 help 써서"
      ],
      "metadata": {
        "id": "8EMtUBP4GAo0"
      }
    },
    {
      "cell_type": "markdown",
      "metadata": {
        "id": "w7aC-zWtAit8"
      },
      "source": [
        "#### 지역변수와 전역변수\n",
        "    - 함수 안에서 선언되는 변수와 밖에서 선언되는 변수의 범위\n",
        "    - global : 전역\n",
        "    - local : 지역"
      ]
    },
    {
      "cell_type": "code",
      "execution_count": 13,
      "metadata": {
        "id": "ijszdEZgAit8",
        "colab": {
          "base_uri": "https://localhost:8080/"
        },
        "outputId": "5411e29e-06a4-4dbc-c532-054dd8ae821b"
      },
      "outputs": [
        {
          "output_type": "stream",
          "name": "stdout",
          "text": [
            "수박\n"
          ]
        }
      ],
      "source": [
        "def exam():\n",
        "    print(global_v)\n",
        "\n",
        "global_v = '수박'\n",
        "\n",
        "exam()"
      ]
    },
    {
      "cell_type": "code",
      "execution_count": 16,
      "metadata": {
        "id": "MVsRBTReAit9",
        "colab": {
          "base_uri": "https://localhost:8080/"
        },
        "outputId": "79a551b4-607b-4dc3-b053-e4f761976f1b"
      },
      "outputs": [
        {
          "output_type": "stream",
          "name": "stdout",
          "text": [
            "바나나\n"
          ]
        }
      ],
      "source": [
        "def exam2():\n",
        "    global_v = '바나나' # 내부에서 변수가 선언되면 함수 내부의 값을 사용\n",
        "    print(global_v)\n",
        "\n",
        "exam2()"
      ]
    },
    {
      "cell_type": "code",
      "execution_count": 17,
      "metadata": {
        "id": "r9XiSN_GAit9",
        "colab": {
          "base_uri": "https://localhost:8080/",
          "height": 322
        },
        "outputId": "3a2bf563-544f-4566-94ee-e838e1be3f2d"
      },
      "outputs": [
        {
          "output_type": "error",
          "ename": "NameError",
          "evalue": "ignored",
          "traceback": [
            "\u001b[0;31m---------------------------------------------------------------------------\u001b[0m",
            "\u001b[0;31mNameError\u001b[0m                                 Traceback (most recent call last)",
            "\u001b[0;32m<ipython-input-17-3a33ac40b667>\u001b[0m in \u001b[0;36m<module>\u001b[0;34m()\u001b[0m\n\u001b[1;32m      7\u001b[0m \u001b[0mglobal_v\u001b[0m \u001b[0;34m=\u001b[0m \u001b[0;34m'수박'\u001b[0m\u001b[0;34m\u001b[0m\u001b[0;34m\u001b[0m\u001b[0m\n\u001b[1;32m      8\u001b[0m \u001b[0;34m\u001b[0m\u001b[0m\n\u001b[0;32m----> 9\u001b[0;31m \u001b[0mexam3\u001b[0m\u001b[0;34m(\u001b[0m\u001b[0;34m)\u001b[0m\u001b[0;34m\u001b[0m\u001b[0;34m\u001b[0m\u001b[0m\n\u001b[0m",
            "\u001b[0;32m<ipython-input-17-3a33ac40b667>\u001b[0m in \u001b[0;36mexam3\u001b[0;34m()\u001b[0m\n\u001b[1;32m      1\u001b[0m \u001b[0;32mdef\u001b[0m \u001b[0mexam3\u001b[0m\u001b[0;34m(\u001b[0m\u001b[0;34m)\u001b[0m\u001b[0;34m:\u001b[0m\u001b[0;34m\u001b[0m\u001b[0;34m\u001b[0m\u001b[0m\n\u001b[1;32m      2\u001b[0m     \u001b[0;32mglobal\u001b[0m  \u001b[0mglobal_v\u001b[0m\u001b[0;34m\u001b[0m\u001b[0;34m\u001b[0m\u001b[0m\n\u001b[0;32m----> 3\u001b[0;31m     \u001b[0mprint\u001b[0m\u001b[0;34m(\u001b[0m\u001b[0mglobal_V\u001b[0m\u001b[0;34m)\u001b[0m\u001b[0;34m\u001b[0m\u001b[0;34m\u001b[0m\u001b[0m\n\u001b[0m\u001b[1;32m      4\u001b[0m     \u001b[0mglobal_v\u001b[0m \u001b[0;34m=\u001b[0m \u001b[0;34m'바나나'\u001b[0m \u001b[0;31m# 여기서 global_v 는 지역변수\u001b[0m\u001b[0;34m\u001b[0m\u001b[0;34m\u001b[0m\u001b[0m\n\u001b[1;32m      5\u001b[0m     \u001b[0mprint\u001b[0m\u001b[0;34m(\u001b[0m\u001b[0mglobal_v\u001b[0m\u001b[0;34m)\u001b[0m\u001b[0;34m\u001b[0m\u001b[0;34m\u001b[0m\u001b[0m\n",
            "\u001b[0;31mNameError\u001b[0m: name 'global_V' is not defined"
          ]
        }
      ],
      "source": [
        "def exam3():\n",
        "    global  global_v\n",
        "    print(global_V)\n",
        "    global_v = '바나나' # 여기서 global_v 는 지역변수\n",
        "    print(global_v)\n",
        "\n",
        "global_v = '수박'\n",
        "\n",
        "exam3()"
      ]
    }
  ],
  "metadata": {
    "hide_input": false,
    "kernelspec": {
      "display_name": "Python 3",
      "language": "python",
      "name": "python3"
    },
    "language_info": {
      "codemirror_mode": {
        "name": "ipython",
        "version": 3
      },
      "file_extension": ".py",
      "mimetype": "text/x-python",
      "name": "python",
      "nbconvert_exporter": "python",
      "pygments_lexer": "ipython3",
      "version": "3.8.5"
    },
    "toc": {
      "base_numbering": 1,
      "nav_menu": {},
      "number_sections": true,
      "sideBar": true,
      "skip_h1_title": false,
      "title_cell": "Table of Contents",
      "title_sidebar": "Contents",
      "toc_cell": false,
      "toc_position": {},
      "toc_section_display": true,
      "toc_window_display": false
    },
    "varInspector": {
      "cols": {
        "lenName": 16,
        "lenType": 16,
        "lenVar": 40
      },
      "kernels_config": {
        "python": {
          "delete_cmd_postfix": "",
          "delete_cmd_prefix": "del ",
          "library": "var_list.py",
          "varRefreshCmd": "print(var_dic_list())"
        },
        "r": {
          "delete_cmd_postfix": ") ",
          "delete_cmd_prefix": "rm(",
          "library": "var_list.r",
          "varRefreshCmd": "cat(var_dic_list()) "
        }
      },
      "types_to_exclude": [
        "module",
        "function",
        "builtin_function_or_method",
        "instance",
        "_Feature"
      ],
      "window_display": false
    },
    "colab": {
      "name": "lesson 12. function2 - review quiz, join, docstring, global var.ipynb",
      "provenance": [],
      "collapsed_sections": [],
      "include_colab_link": true
    }
  },
  "nbformat": 4,
  "nbformat_minor": 0
}