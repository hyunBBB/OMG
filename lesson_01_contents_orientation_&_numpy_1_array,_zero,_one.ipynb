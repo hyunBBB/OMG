{
  "cells": [
    {
      "cell_type": "markdown",
      "metadata": {
        "id": "view-in-github",
        "colab_type": "text"
      },
      "source": [
        "<a href=\"https://colab.research.google.com/github/hyunBBB/OMG/blob/main/lesson_01_contents_orientation_%26_numpy_1_array%2C_zero%2C_one.ipynb\" target=\"_parent\"><img src=\"https://colab.research.google.com/assets/colab-badge.svg\" alt=\"Open In Colab\"/></a>"
      ]
    },
    {
      "cell_type": "markdown",
      "metadata": {
        "id": "jvFBuB0xgPqP"
      },
      "source": [
        "## 목차\n",
        "    - numpy\n",
        "    - pandas\n",
        "    - matplotlib & seaborn\n",
        "    - scikit-learn"
      ]
    },
    {
      "cell_type": "markdown",
      "metadata": {
        "id": "ghAFJ-ZngPqS"
      },
      "source": [
        "### Numpy\n",
        "    - 행렬 연산을 가능하게 해주는 패키지\n",
        "    - python으로 작성되나 연산은 C, C++, 포트란으로 진행\n",
        "        - 선형대수 연산을 빠르게 할 수 있음"
      ]
    },
    {
      "cell_type": "code",
      "execution_count": 1,
      "metadata": {
        "ExecuteTime": {
          "end_time": "2021-02-02T01:38:00.546479Z",
          "start_time": "2021-02-02T01:38:00.528522Z"
        },
        "colab": {
          "base_uri": "https://localhost:8080/"
        },
        "id": "WhvEa7RggPqU",
        "outputId": "afa1ac81-9936-4f13-ca93-780b6971c50f"
      },
      "outputs": [
        {
          "output_type": "execute_result",
          "data": {
            "text/plain": [
              "(numpy.ndarray, array([1, 2, 3]))"
            ]
          },
          "metadata": {},
          "execution_count": 1
        }
      ],
      "source": [
        "import numpy as np\n",
        "ary = np.array([1, 2, 3])\n",
        "type(ary), ary"
      ]
    },
    {
      "cell_type": "markdown",
      "metadata": {
        "id": "zQ13uwmngPqW"
      },
      "source": [
        "    - ndarray : 한가지 데이터 타입만으로 사용이 가능"
      ]
    },
    {
      "cell_type": "code",
      "execution_count": 3,
      "metadata": {
        "ExecuteTime": {
          "end_time": "2021-02-02T01:39:20.920270Z",
          "start_time": "2021-02-02T01:39:20.903288Z"
        },
        "colab": {
          "base_uri": "https://localhost:8080/",
          "height": 287
        },
        "id": "CFS8lMYmgPqW",
        "outputId": "f56f227c-55e7-4383-8fa8-9a394f0d2d64"
      },
      "outputs": [
        {
          "output_type": "stream",
          "name": "stdout",
          "text": [
            "[[1 2 3]\n",
            " [4 5 6]]\n",
            "2\n"
          ]
        },
        {
          "output_type": "error",
          "ename": "NameError",
          "evalue": "ignored",
          "traceback": [
            "\u001b[0;31m---------------------------------------------------------------------------\u001b[0m",
            "\u001b[0;31mNameError\u001b[0m                                 Traceback (most recent call last)",
            "\u001b[0;32m<ipython-input-3-0e4a9ad279da>\u001b[0m in \u001b[0;36m<module>\u001b[0;34m()\u001b[0m\n\u001b[1;32m      3\u001b[0m \u001b[0mprint\u001b[0m\u001b[0;34m(\u001b[0m\u001b[0marr2\u001b[0m\u001b[0;34m)\u001b[0m\u001b[0;34m\u001b[0m\u001b[0;34m\u001b[0m\u001b[0m\n\u001b[1;32m      4\u001b[0m \u001b[0mprint\u001b[0m\u001b[0;34m(\u001b[0m\u001b[0marr2\u001b[0m\u001b[0;34m.\u001b[0m\u001b[0mndim\u001b[0m\u001b[0;34m)\u001b[0m\u001b[0;34m\u001b[0m\u001b[0;34m\u001b[0m\u001b[0m\n\u001b[0;32m----> 5\u001b[0;31m \u001b[0mprint\u001b[0m\u001b[0;34m(\u001b[0m\u001b[0marr2\u001b[0m\u001b[0;34m,\u001b[0m\u001b[0mshape\u001b[0m\u001b[0;34m)\u001b[0m\u001b[0;34m\u001b[0m\u001b[0;34m\u001b[0m\u001b[0m\n\u001b[0m\u001b[1;32m      6\u001b[0m \u001b[0mprint\u001b[0m\u001b[0;34m(\u001b[0m\u001b[0marr2\u001b[0m\u001b[0;34m,\u001b[0m\u001b[0msize\u001b[0m\u001b[0;34m)\u001b[0m\u001b[0;34m\u001b[0m\u001b[0;34m\u001b[0m\u001b[0m\n\u001b[1;32m      7\u001b[0m \u001b[0mprint\u001b[0m\u001b[0;34m(\u001b[0m\u001b[0marr2\u001b[0m\u001b[0;34m,\u001b[0m\u001b[0mdtype\u001b[0m\u001b[0;34m)\u001b[0m\u001b[0;34m\u001b[0m\u001b[0;34m\u001b[0m\u001b[0m\n",
            "\u001b[0;31mNameError\u001b[0m: name 'shape' is not defined"
          ]
        }
      ],
      "source": [
        "arr2 = np.array([[1, 2, 3],\n",
        "                 [4, 5, 6]])\n",
        "print(arr2)\n",
        "print(arr2.ndim)\n",
        "print(arr2,shape)\n",
        "print(arr2,size)\n",
        "print(arr2,dtype)"
      ]
    },
    {
      "cell_type": "code",
      "source": [
        "help(np.random.randint)"
      ],
      "metadata": {
        "colab": {
          "base_uri": "https://localhost:8080/"
        },
        "id": "kdGDUSS1toAO",
        "outputId": "807a4904-7696-4d87-815a-e2213524db80"
      },
      "execution_count": 5,
      "outputs": [
        {
          "output_type": "stream",
          "name": "stdout",
          "text": [
            "Help on built-in function randint:\n",
            "\n",
            "randint(...) method of numpy.random.mtrand.RandomState instance\n",
            "    randint(low, high=None, size=None, dtype=int)\n",
            "    \n",
            "    Return random integers from `low` (inclusive) to `high` (exclusive).\n",
            "    \n",
            "    Return random integers from the \"discrete uniform\" distribution of\n",
            "    the specified dtype in the \"half-open\" interval [`low`, `high`). If\n",
            "    `high` is None (the default), then results are from [0, `low`).\n",
            "    \n",
            "    .. note::\n",
            "        New code should use the ``integers`` method of a ``default_rng()``\n",
            "        instance instead; please see the :ref:`random-quick-start`.\n",
            "    \n",
            "    Parameters\n",
            "    ----------\n",
            "    low : int or array-like of ints\n",
            "        Lowest (signed) integers to be drawn from the distribution (unless\n",
            "        ``high=None``, in which case this parameter is one above the\n",
            "        *highest* such integer).\n",
            "    high : int or array-like of ints, optional\n",
            "        If provided, one above the largest (signed) integer to be drawn\n",
            "        from the distribution (see above for behavior if ``high=None``).\n",
            "        If array-like, must contain integer values\n",
            "    size : int or tuple of ints, optional\n",
            "        Output shape.  If the given shape is, e.g., ``(m, n, k)``, then\n",
            "        ``m * n * k`` samples are drawn.  Default is None, in which case a\n",
            "        single value is returned.\n",
            "    dtype : dtype, optional\n",
            "        Desired dtype of the result. Byteorder must be native.\n",
            "        The default value is int.\n",
            "    \n",
            "        .. versionadded:: 1.11.0\n",
            "    \n",
            "    Returns\n",
            "    -------\n",
            "    out : int or ndarray of ints\n",
            "        `size`-shaped array of random integers from the appropriate\n",
            "        distribution, or a single such random int if `size` not provided.\n",
            "    \n",
            "    See Also\n",
            "    --------\n",
            "    random_integers : similar to `randint`, only for the closed\n",
            "        interval [`low`, `high`], and 1 is the lowest value if `high` is\n",
            "        omitted.\n",
            "    Generator.integers: which should be used for new code.\n",
            "    \n",
            "    Examples\n",
            "    --------\n",
            "    >>> np.random.randint(2, size=10)\n",
            "    array([1, 0, 0, 0, 1, 1, 0, 0, 1, 0]) # random\n",
            "    >>> np.random.randint(1, size=10)\n",
            "    array([0, 0, 0, 0, 0, 0, 0, 0, 0, 0])\n",
            "    \n",
            "    Generate a 2 x 4 array of ints between 0 and 4, inclusive:\n",
            "    \n",
            "    >>> np.random.randint(5, size=(2, 4))\n",
            "    array([[4, 0, 2, 1], # random\n",
            "           [3, 2, 2, 0]])\n",
            "    \n",
            "    Generate a 1 x 3 array with 3 different upper bounds\n",
            "    \n",
            "    >>> np.random.randint(1, [3, 5, 10])\n",
            "    array([2, 2, 9]) # random\n",
            "    \n",
            "    Generate a 1 by 3 array with 3 different lower bounds\n",
            "    \n",
            "    >>> np.random.randint([1, 5, 7], 10)\n",
            "    array([9, 8, 7]) # random\n",
            "    \n",
            "    Generate a 2 by 4 array using broadcasting with dtype of uint8\n",
            "    \n",
            "    >>> np.random.randint([1, 3, 5, 7], [[10], [20]], dtype=np.uint8)\n",
            "    array([[ 8,  6,  9,  7], # random\n",
            "           [ 1, 16,  9, 12]], dtype=uint8)\n",
            "\n"
          ]
        }
      ]
    },
    {
      "cell_type": "markdown",
      "source": [
        "eorhkfgh 2qjs"
      ],
      "metadata": {
        "id": "3rKJqCQQtAk4"
      }
    },
    {
      "cell_type": "code",
      "execution_count": 6,
      "metadata": {
        "ExecuteTime": {
          "end_time": "2021-02-02T01:39:51.378729Z",
          "start_time": "2021-02-02T01:39:51.371748Z"
        },
        "colab": {
          "base_uri": "https://localhost:8080/"
        },
        "id": "leQHOQSMgPqX",
        "outputId": "2f424d09-e1e2-4bab-c25f-99aec6a1e53e"
      },
      "outputs": [
        {
          "output_type": "execute_result",
          "data": {
            "text/plain": [
              "array([[1, 2],\n",
              "       [3, 4],\n",
              "       [5, 6]])"
            ]
          },
          "metadata": {},
          "execution_count": 6
        }
      ],
      "source": [
        "ary2.reshape(3, 2)"
      ]
    },
    {
      "cell_type": "code",
      "execution_count": 7,
      "metadata": {
        "ExecuteTime": {
          "end_time": "2021-02-02T01:40:30.129131Z",
          "start_time": "2021-02-02T01:40:30.108640Z"
        },
        "colab": {
          "base_uri": "https://localhost:8080/"
        },
        "id": "XHBz_Y7vgPqX",
        "outputId": "9613c2d8-c9fe-4e5b-cc13-3596e530b258"
      },
      "outputs": [
        {
          "output_type": "execute_result",
          "data": {
            "text/plain": [
              "array([4, 5, 6])"
            ]
          },
          "metadata": {},
          "execution_count": 7
        }
      ],
      "source": [
        "ary2[1]"
      ]
    },
    {
      "cell_type": "code",
      "execution_count": 8,
      "metadata": {
        "ExecuteTime": {
          "end_time": "2021-02-02T01:40:41.796092Z",
          "start_time": "2021-02-02T01:40:41.785080Z"
        },
        "colab": {
          "base_uri": "https://localhost:8080/"
        },
        "id": "fIqk6mrAgPqY",
        "outputId": "6ee39259-9625-4658-a201-49edbfe80afd"
      },
      "outputs": [
        {
          "output_type": "execute_result",
          "data": {
            "text/plain": [
              "5"
            ]
          },
          "metadata": {},
          "execution_count": 8
        }
      ],
      "source": [
        "ary2[1, 1]"
      ]
    },
    {
      "cell_type": "markdown",
      "metadata": {
        "id": "nksB9u7lgPqY"
      },
      "source": [
        "#### 데이터 수정"
      ]
    },
    {
      "cell_type": "code",
      "execution_count": 9,
      "metadata": {
        "ExecuteTime": {
          "end_time": "2021-02-02T01:41:05.267642Z",
          "start_time": "2021-02-02T01:41:05.250664Z"
        },
        "colab": {
          "base_uri": "https://localhost:8080/"
        },
        "id": "sUMs1cahgPqY",
        "outputId": "cb5c02db-3378-4e0d-fd91-17c1beb98ce0"
      },
      "outputs": [
        {
          "output_type": "execute_result",
          "data": {
            "text/plain": [
              "[1, 5, 3]"
            ]
          },
          "metadata": {},
          "execution_count": 9
        }
      ],
      "source": [
        "ls = [1, 2, 3]\n",
        "ls[1] = 5\n",
        "ls"
      ]
    },
    {
      "cell_type": "code",
      "source": [
        ""
      ],
      "metadata": {
        "id": "HFy-BEy0ualx"
      },
      "execution_count": null,
      "outputs": []
    },
    {
      "cell_type": "code",
      "execution_count": 10,
      "metadata": {
        "ExecuteTime": {
          "end_time": "2021-02-02T01:41:41.214434Z",
          "start_time": "2021-02-02T01:41:41.207453Z"
        },
        "colab": {
          "base_uri": "https://localhost:8080/"
        },
        "id": "UoqZxEAZgPqY",
        "outputId": "6445728a-3b44-4877-e517-ed87d680d430"
      },
      "outputs": [
        {
          "output_type": "execute_result",
          "data": {
            "text/plain": [
              "array([[1, 2, 3],\n",
              "       [0, 0, 0]])"
            ]
          },
          "metadata": {},
          "execution_count": 10
        }
      ],
      "source": [
        "ary3 = np.array([[1, 2, 3],\n",
        "                 [0, 1, 0]])\n",
        "ary3[1][1] = 0\n",
        "ary3"
      ]
    },
    {
      "cell_type": "markdown",
      "metadata": {
        "id": "mOj3PLKDgPqZ"
      },
      "source": [
        "##### array 브로드캐스팅"
      ]
    },
    {
      "cell_type": "code",
      "execution_count": 11,
      "metadata": {
        "ExecuteTime": {
          "end_time": "2021-02-02T01:42:06.656677Z",
          "start_time": "2021-02-02T01:42:06.637726Z"
        },
        "colab": {
          "base_uri": "https://localhost:8080/"
        },
        "id": "zd4geI8OgPqZ",
        "outputId": "a452dae5-a3f2-428d-b62d-7e0e9cd30adf"
      },
      "outputs": [
        {
          "output_type": "execute_result",
          "data": {
            "text/plain": [
              "array([[0, 0, 0],\n",
              "       [0, 0, 0]])"
            ]
          },
          "metadata": {},
          "execution_count": 11
        }
      ],
      "source": [
        "ary3[0] = 0\n",
        "ary3"
      ]
    },
    {
      "cell_type": "markdown",
      "metadata": {
        "id": "uo0tIYPJgPqZ"
      },
      "source": [
        "##### array 조건 선택"
      ]
    },
    {
      "cell_type": "code",
      "execution_count": 12,
      "metadata": {
        "ExecuteTime": {
          "end_time": "2021-02-02T01:42:53.899652Z",
          "start_time": "2021-02-02T01:42:53.887684Z"
        },
        "colab": {
          "base_uri": "https://localhost:8080/"
        },
        "id": "OuA6d7ncgPqa",
        "outputId": "ffd841ce-239b-4fe1-c6c6-8ba39aa7b31e"
      },
      "outputs": [
        {
          "output_type": "execute_result",
          "data": {
            "text/plain": [
              "array([[5, 5, 5],\n",
              "       [5, 6, 7]])"
            ]
          },
          "metadata": {},
          "execution_count": 12
        }
      ],
      "source": [
        "ary3[0] = 5\n",
        "ary3[1] = [5, 6, 7]\n",
        "ary3"
      ]
    },
    {
      "cell_type": "code",
      "execution_count": 13,
      "metadata": {
        "ExecuteTime": {
          "end_time": "2021-02-02T01:43:36.435560Z",
          "start_time": "2021-02-02T01:43:36.428609Z"
        },
        "colab": {
          "base_uri": "https://localhost:8080/"
        },
        "id": "6tQBmJDhgPqa",
        "outputId": "cc7398b1-c475-4c38-fb37-f7c262c753a6"
      },
      "outputs": [
        {
          "output_type": "execute_result",
          "data": {
            "text/plain": [
              "array([[False, False, False],\n",
              "       [False,  True,  True]])"
            ]
          },
          "metadata": {},
          "execution_count": 13
        }
      ],
      "source": [
        "idx = ary3>5\n",
        "idx"
      ]
    },
    {
      "cell_type": "code",
      "execution_count": 16,
      "metadata": {
        "ExecuteTime": {
          "end_time": "2021-02-02T01:43:36.975713Z",
          "start_time": "2021-02-02T01:43:36.956738Z"
        },
        "colab": {
          "base_uri": "https://localhost:8080/"
        },
        "id": "wshruuW8gPqc",
        "outputId": "8310adf2-1909-4ecc-a504-b46078d9d86e"
      },
      "outputs": [
        {
          "output_type": "execute_result",
          "data": {
            "text/plain": [
              "array([6, 7])"
            ]
          },
          "metadata": {},
          "execution_count": 16
        }
      ],
      "source": [
        "ary3[ary3>5]"
      ]
    },
    {
      "cell_type": "markdown",
      "metadata": {
        "id": "aXP7g0PggPqc"
      },
      "source": [
        "##### 조건에 맞는 값만 변경"
      ]
    },
    {
      "cell_type": "code",
      "execution_count": 17,
      "metadata": {
        "ExecuteTime": {
          "end_time": "2021-02-02T01:43:58.414724Z",
          "start_time": "2021-02-02T01:43:58.395749Z"
        },
        "colab": {
          "base_uri": "https://localhost:8080/"
        },
        "id": "UqvoJLJ7gPqd",
        "outputId": "b2395318-f373-4654-a3d2-d51db86f8880"
      },
      "outputs": [
        {
          "output_type": "execute_result",
          "data": {
            "text/plain": [
              "array([[  5,   5,   5],\n",
              "       [  5, 100, 100]])"
            ]
          },
          "metadata": {},
          "execution_count": 17
        }
      ],
      "source": [
        "ary3[idx] = 100\n",
        "ary3"
      ]
    },
    {
      "cell_type": "markdown",
      "metadata": {
        "id": "VaAJyVOTgPqd"
      },
      "source": [
        "#### zero array"
      ]
    },
    {
      "cell_type": "code",
      "execution_count": 18,
      "metadata": {
        "ExecuteTime": {
          "end_time": "2021-02-02T01:44:32.926690Z",
          "start_time": "2021-02-02T01:44:32.919711Z"
        },
        "colab": {
          "base_uri": "https://localhost:8080/"
        },
        "id": "xY3ZHVWXgPqe",
        "outputId": "9b2a5220-fba1-4dbc-fe90-f64ef55ee9f5"
      },
      "outputs": [
        {
          "output_type": "execute_result",
          "data": {
            "text/plain": [
              "array([[0., 0., 0.],\n",
              "       [0., 0., 0.]])"
            ]
          },
          "metadata": {},
          "execution_count": 18
        }
      ],
      "source": [
        "zero_ary = np.zeros((2, 3))\n",
        "zero_ary"
      ]
    },
    {
      "cell_type": "markdown",
      "source": [
        "영행렬, 이미지랑 독같은 크기의 영행렬을 생성해두고 오리지널 이미지에서 픽셀...값을...네....만들때는 오리지날 이미지랑 같은 shape만들기 중요. np.zeros, 끝엔 오리지널 이미지가 쉐입조건. 영행렬에 출력하는 거..."
      ],
      "metadata": {
        "id": "gbVUBOHEwYJr"
      }
    },
    {
      "cell_type": "code",
      "execution_count": 19,
      "metadata": {
        "ExecuteTime": {
          "end_time": "2021-02-02T01:44:46.433063Z",
          "start_time": "2021-02-02T01:44:46.426074Z"
        },
        "colab": {
          "base_uri": "https://localhost:8080/"
        },
        "id": "d0vha6E_gPqe",
        "outputId": "b5a432d5-0d15-4960-c79e-ec08cb55b717"
      },
      "outputs": [
        {
          "output_type": "execute_result",
          "data": {
            "text/plain": [
              "numpy.ndarray"
            ]
          },
          "metadata": {},
          "execution_count": 19
        }
      ],
      "source": [
        "type(zero_ary)"
      ]
    },
    {
      "cell_type": "code",
      "execution_count": 20,
      "metadata": {
        "ExecuteTime": {
          "end_time": "2021-02-02T01:45:01.103458Z",
          "start_time": "2021-02-02T01:45:01.092488Z"
        },
        "colab": {
          "base_uri": "https://localhost:8080/"
        },
        "id": "vI7qAM79gPqe",
        "outputId": "6ff7b8c9-56e4-4903-df21-1343d75a5ed5"
      },
      "outputs": [
        {
          "output_type": "execute_result",
          "data": {
            "text/plain": [
              "dtype('float64')"
            ]
          },
          "metadata": {},
          "execution_count": 20
        }
      ],
      "source": [
        "zero_ary.dtype # 실수형 값만 바꿔 넣을 수 있음"
      ]
    },
    {
      "cell_type": "markdown",
      "metadata": {
        "id": "6ctB5GcigPqf"
      },
      "source": [
        "##### array안의 데이터 형태 변경"
      ]
    },
    {
      "cell_type": "code",
      "execution_count": 21,
      "metadata": {
        "ExecuteTime": {
          "end_time": "2021-02-02T01:46:02.240813Z",
          "start_time": "2021-02-02T01:46:02.231868Z"
        },
        "colab": {
          "base_uri": "https://localhost:8080/"
        },
        "id": "uP636EDfgPqf",
        "outputId": "f87617a8-2f65-4253-db34-1f0bd5383637"
      },
      "outputs": [
        {
          "output_type": "execute_result",
          "data": {
            "text/plain": [
              "dtype('int64')"
            ]
          },
          "metadata": {},
          "execution_count": 21
        }
      ],
      "source": [
        "z2 = zero_ary.astype('int')\n",
        "z2.dtype"
      ]
    },
    {
      "cell_type": "markdown",
      "metadata": {
        "id": "y1S9cFgvgPqg"
      },
      "source": [
        "#### one array"
      ]
    },
    {
      "cell_type": "code",
      "execution_count": 22,
      "metadata": {
        "ExecuteTime": {
          "end_time": "2021-02-02T01:48:07.903196Z",
          "start_time": "2021-02-02T01:48:07.888234Z"
        },
        "colab": {
          "base_uri": "https://localhost:8080/"
        },
        "id": "qsfp2jHegPqg",
        "outputId": "20b0b3a9-91ec-435c-9920-afd86a1c4d0c"
      },
      "outputs": [
        {
          "output_type": "execute_result",
          "data": {
            "text/plain": [
              "(dtype('float64'), array([[1., 1., 1.],\n",
              "        [1., 1., 1.]]))"
            ]
          },
          "metadata": {},
          "execution_count": 22
        }
      ],
      "source": [
        "one_ary = np.ones((2, 3))\n",
        "one_ary.dtype, one_ary"
      ]
    },
    {
      "cell_type": "code",
      "execution_count": 24,
      "metadata": {
        "ExecuteTime": {
          "end_time": "2021-02-02T01:48:41.625341Z",
          "start_time": "2021-02-02T01:48:41.616365Z"
        },
        "colab": {
          "base_uri": "https://localhost:8080/"
        },
        "id": "bZJ0zQH5gPqg",
        "outputId": "2c4ad1b3-9789-4d6d-8924-820076fe4243"
      },
      "outputs": [
        {
          "output_type": "execute_result",
          "data": {
            "text/plain": [
              "(dtype('int64'), array([[[1, 1],\n",
              "         [1, 1],\n",
              "         [1, 1]],\n",
              " \n",
              "        [[1, 1],\n",
              "         [1, 1],\n",
              "         [1, 1]]]))"
            ]
          },
          "metadata": {},
          "execution_count": 24
        }
      ],
      "source": [
        "one_ary2 = np.ones((2, 3, 2)).astype('int')\n",
        "one_ary2.dtype, one_ary2"
      ]
    },
    {
      "cell_type": "code",
      "source": [
        "id = np.identity(n=5.dtype=np.int8) # 단위 행렬\n",
        "id"
      ],
      "metadata": {
        "colab": {
          "base_uri": "https://localhost:8080/",
          "height": 131
        },
        "id": "J7lAfo0PxyOT",
        "outputId": "2fee4333-7057-4ebe-f837-556ac1576cbe"
      },
      "execution_count": 28,
      "outputs": [
        {
          "output_type": "error",
          "ename": "SyntaxError",
          "evalue": "ignored",
          "traceback": [
            "\u001b[0;36m  File \u001b[0;32m\"<ipython-input-28-c809676867f8>\"\u001b[0;36m, line \u001b[0;32m1\u001b[0m\n\u001b[0;31m    id = np.identity(n=5.dtype=np.int8) # 단위 행렬\u001b[0m\n\u001b[0m                             ^\u001b[0m\n\u001b[0;31mSyntaxError\u001b[0m\u001b[0;31m:\u001b[0m invalid syntax\n"
          ]
        }
      ]
    },
    {
      "cell_type": "markdown",
      "metadata": {
        "id": "1VBt-U2mgPqh"
      },
      "source": [
        "#### 범위값 array 생성"
      ]
    },
    {
      "cell_type": "code",
      "execution_count": 23,
      "metadata": {
        "ExecuteTime": {
          "end_time": "2021-02-02T01:58:29.771621Z",
          "start_time": "2021-02-02T01:58:29.761651Z"
        },
        "colab": {
          "base_uri": "https://localhost:8080/"
        },
        "id": "nyGnxKW6gPqh",
        "outputId": "5dffd844-2e32-42b0-dca0-657223520126"
      },
      "outputs": [
        {
          "output_type": "execute_result",
          "data": {
            "text/plain": [
              "array([ 1,  2,  3,  4,  5,  6,  7,  8,  9, 10])"
            ]
          },
          "metadata": {},
          "execution_count": 23
        }
      ],
      "source": [
        "arg = np.arange(1, 11)\n",
        "arg"
      ]
    }
  ],
  "metadata": {
    "hide_input": false,
    "kernelspec": {
      "display_name": "Python 3",
      "language": "python",
      "name": "python3"
    },
    "language_info": {
      "codemirror_mode": {
        "name": "ipython",
        "version": 3
      },
      "file_extension": ".py",
      "mimetype": "text/x-python",
      "name": "python",
      "nbconvert_exporter": "python",
      "pygments_lexer": "ipython3",
      "version": "3.8.5"
    },
    "toc": {
      "base_numbering": 1,
      "nav_menu": {},
      "number_sections": true,
      "sideBar": true,
      "skip_h1_title": false,
      "title_cell": "Table of Contents",
      "title_sidebar": "Contents",
      "toc_cell": false,
      "toc_position": {},
      "toc_section_display": true,
      "toc_window_display": false
    },
    "varInspector": {
      "cols": {
        "lenName": 16,
        "lenType": 16,
        "lenVar": 40
      },
      "kernels_config": {
        "python": {
          "delete_cmd_postfix": "",
          "delete_cmd_prefix": "del ",
          "library": "var_list.py",
          "varRefreshCmd": "print(var_dic_list())"
        },
        "r": {
          "delete_cmd_postfix": ") ",
          "delete_cmd_prefix": "rm(",
          "library": "var_list.r",
          "varRefreshCmd": "cat(var_dic_list()) "
        }
      },
      "types_to_exclude": [
        "module",
        "function",
        "builtin_function_or_method",
        "instance",
        "_Feature"
      ],
      "window_display": false
    },
    "colab": {
      "name": "lesson 01. contents orientation & numpy 1 - array, zero, one.ipynb",
      "provenance": [],
      "include_colab_link": true
    }
  },
  "nbformat": 4,
  "nbformat_minor": 0
}