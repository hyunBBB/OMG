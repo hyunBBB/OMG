{
  "nbformat": 4,
  "nbformat_minor": 0,
  "metadata": {
    "colab": {
      "name": "01 tensorflow.ipynb",
      "provenance": [],
      "collapsed_sections": [],
      "include_colab_link": true
    },
    "kernelspec": {
      "name": "python3",
      "display_name": "Python 3"
    },
    "language_info": {
      "name": "python"
    },
    "accelerator": "GPU",
    "gpuClass": "standard"
  },
  "cells": [
    {
      "cell_type": "markdown",
      "metadata": {
        "id": "view-in-github",
        "colab_type": "text"
      },
      "source": [
        "<a href=\"https://colab.research.google.com/github/hyunBBB/OMG/blob/main/01_tensorflow.ipynb\" target=\"_parent\"><img src=\"https://colab.research.google.com/assets/colab-badge.svg\" alt=\"Open In Colab\"/></a>"
      ]
    },
    {
      "cell_type": "code",
      "execution_count": 1,
      "metadata": {
        "id": "ZPKQwnxVj0tA"
      },
      "outputs": [],
      "source": [
        "import tensorflow as tf\n",
        "import numpy as np"
      ]
    },
    {
      "cell_type": "code",
      "source": [
        "print(tf.__version__)"
      ],
      "metadata": {
        "id": "JrKlzonqkFRz",
        "colab": {
          "base_uri": "https://localhost:8080/"
        },
        "outputId": "0765b306-bc3f-4383-d294-8c376fce651f"
      },
      "execution_count": 2,
      "outputs": [
        {
          "output_type": "stream",
          "name": "stdout",
          "text": [
            "2.8.2\n"
          ]
        }
      ]
    },
    {
      "cell_type": "markdown",
      "source": [
        "tf.constant(상수)\n",
        ": 상수형 텐서로써 할당된 값의 변경이 불가(바뀌면 안되는 걸 이걸로 할당하는것임)"
      ],
      "metadata": {
        "id": "YSs0qTeakGTf"
      }
    },
    {
      "cell_type": "code",
      "source": [
        "# (2, 2, 3) 두개 괄호 안에 두개 괄호씩 들어가고, 그 안에 숫자가 3개씩 들어간다 이거임.\n",
        "d3_tensor = tf.constant([[[1, 2, 3],\n",
        "                          [4, 5, 6]],\n",
        "                         [[-1, -2, -3],\n",
        "                          [-4, -5, -6]]])"
      ],
      "metadata": {
        "id": "izDu6f0nkbzk"
      },
      "execution_count": 4,
      "outputs": []
    },
    {
      "cell_type": "code",
      "source": [
        "d3_tensor"
      ],
      "metadata": {
        "id": "hKCgDXaKkdn9",
        "colab": {
          "base_uri": "https://localhost:8080/"
        },
        "outputId": "a5e3bfee-9f77-4a0d-82c7-0b1d58cb0c62"
      },
      "execution_count": 5,
      "outputs": [
        {
          "output_type": "execute_result",
          "data": {
            "text/plain": [
              "<tf.Tensor: shape=(2, 2, 3), dtype=int32, numpy=\n",
              "array([[[ 1,  2,  3],\n",
              "        [ 4,  5,  6]],\n",
              "\n",
              "       [[-1, -2, -3],\n",
              "        [-4, -5, -6]]], dtype=int32)>"
            ]
          },
          "metadata": {},
          "execution_count": 5
        }
      ]
    },
    {
      "cell_type": "code",
      "source": [
        "d3_tensor[0, 0, 0] = 0\n",
        "# constant라서 할당이 안됨. 텐서를 넘파이로 바꿔주면 바꿀 수 있음. "
      ],
      "metadata": {
        "id": "jT5OYqtTkv2I",
        "colab": {
          "base_uri": "https://localhost:8080/",
          "height": 183
        },
        "outputId": "48fa06d2-6814-4ac8-d7bd-2b246efbe555"
      },
      "execution_count": 7,
      "outputs": [
        {
          "output_type": "error",
          "ename": "TypeError",
          "evalue": "ignored",
          "traceback": [
            "\u001b[0;31m---------------------------------------------------------------------------\u001b[0m",
            "\u001b[0;31mTypeError\u001b[0m                                 Traceback (most recent call last)",
            "\u001b[0;32m<ipython-input-7-4d62e26f2f5f>\u001b[0m in \u001b[0;36m<module>\u001b[0;34m()\u001b[0m\n\u001b[0;32m----> 1\u001b[0;31m \u001b[0md3_tensor\u001b[0m\u001b[0;34m[\u001b[0m\u001b[0;36m0\u001b[0m\u001b[0;34m,\u001b[0m \u001b[0;36m0\u001b[0m\u001b[0;34m,\u001b[0m \u001b[0;36m0\u001b[0m\u001b[0;34m]\u001b[0m \u001b[0;34m=\u001b[0m \u001b[0;36m0\u001b[0m\u001b[0;34m\u001b[0m\u001b[0;34m\u001b[0m\u001b[0m\n\u001b[0m\u001b[1;32m      2\u001b[0m \u001b[0;31m# constant라서 할당이 안됨. 텐서를 넘파이로 바꿔주면 바꿀 수 있음.\u001b[0m\u001b[0;34m\u001b[0m\u001b[0;34m\u001b[0m\u001b[0;34m\u001b[0m\u001b[0m\n",
            "\u001b[0;31mTypeError\u001b[0m: 'tensorflow.python.framework.ops.EagerTensor' object does not support item assignment"
          ]
        }
      ]
    },
    {
      "cell_type": "code",
      "source": [
        "np_d3_tensor = d3_tensor.numpy()\n",
        "# 넘파이로 바꿔주고있음"
      ],
      "metadata": {
        "id": "sAjE2GmlkhcK"
      },
      "execution_count": 13,
      "outputs": []
    },
    {
      "cell_type": "code",
      "source": [
        "np_d3_tensor"
      ],
      "metadata": {
        "id": "1wJNQjAgklsC",
        "colab": {
          "base_uri": "https://localhost:8080/"
        },
        "outputId": "1f3b6f8d-98b2-4524-8d1c-9979cf0e61d4"
      },
      "execution_count": 14,
      "outputs": [
        {
          "output_type": "execute_result",
          "data": {
            "text/plain": [
              "array([[[ 1,  2,  3],\n",
              "        [ 4,  5,  6]],\n",
              "\n",
              "       [[-1, -2, -3],\n",
              "        [-4, -5, -6]]], dtype=int32)"
            ]
          },
          "metadata": {},
          "execution_count": 14
        }
      ]
    },
    {
      "cell_type": "code",
      "source": [
        "np_d3_tensor[0, 0, 0] = 0"
      ],
      "metadata": {
        "id": "zY8OviYwkwnk"
      },
      "execution_count": 17,
      "outputs": []
    },
    {
      "cell_type": "code",
      "source": [
        "print(d3_tensor.ndim)\n",
        "print(d3_tensor.shape)\n",
        "print(d3_tensor.dtype)"
      ],
      "metadata": {
        "id": "jvvUg5HYkyrI",
        "colab": {
          "base_uri": "https://localhost:8080/"
        },
        "outputId": "58f7e30d-f605-4027-aab7-911dfc7f95cd"
      },
      "execution_count": 18,
      "outputs": [
        {
          "output_type": "stream",
          "name": "stdout",
          "text": [
            "3\n",
            "(2, 2, 3)\n",
            "<dtype: 'int32'>\n"
          ]
        }
      ]
    },
    {
      "cell_type": "markdown",
      "source": [
        "tf.Variable(변수):  assign(value) 같은 메소드를 통해 할당된 값의 변경 가능"
      ],
      "metadata": {
        "id": "ANPKLpbokzyK"
      }
    },
    {
      "cell_type": "code",
      "source": [
        "d3_np_tensor = np.array([[[1, 2, 3],\n",
        "                          [4, 5, 6]],\n",
        "                         [[-1, -2, -3],\n",
        "                          [-4, -5, -6]]])"
      ],
      "metadata": {
        "id": "kG77aywsk5H4"
      },
      "execution_count": 19,
      "outputs": []
    },
    {
      "cell_type": "code",
      "source": [
        "d3_np_tensor = d3_np_tensor.astype(np.float32)"
      ],
      "metadata": {
        "id": "2eH8d3pek7bH"
      },
      "execution_count": 20,
      "outputs": []
    },
    {
      "cell_type": "code",
      "source": [
        "d3_np_tensor.dtype"
      ],
      "metadata": {
        "id": "EGqipUXYk8if",
        "colab": {
          "base_uri": "https://localhost:8080/"
        },
        "outputId": "43383f8a-5f48-448a-ef1b-356f84a1fa88"
      },
      "execution_count": 21,
      "outputs": [
        {
          "output_type": "execute_result",
          "data": {
            "text/plain": [
              "dtype('float32')"
            ]
          },
          "metadata": {},
          "execution_count": 21
        }
      ]
    },
    {
      "cell_type": "code",
      "source": [
        "d3_var_tensor = tf.Variable(d3_np_tensor)"
      ],
      "metadata": {
        "id": "4vjPUdebk9qY"
      },
      "execution_count": 22,
      "outputs": []
    },
    {
      "cell_type": "code",
      "source": [
        "d3_var_tensor"
      ],
      "metadata": {
        "id": "la66NPmYk-0Z",
        "colab": {
          "base_uri": "https://localhost:8080/"
        },
        "outputId": "b07e979c-6782-4ad8-be9f-747e22a128ba"
      },
      "execution_count": 23,
      "outputs": [
        {
          "output_type": "execute_result",
          "data": {
            "text/plain": [
              "<tf.Variable 'Variable:0' shape=(2, 2, 3) dtype=float32, numpy=\n",
              "array([[[ 1.,  2.,  3.],\n",
              "        [ 4.,  5.,  6.]],\n",
              "\n",
              "       [[-1., -2., -3.],\n",
              "        [-4., -5., -6.]]], dtype=float32)>"
            ]
          },
          "metadata": {},
          "execution_count": 23
        }
      ]
    },
    {
      "cell_type": "code",
      "source": [
        "print(d3_var_tensor.ndim)"
      ],
      "metadata": {
        "id": "JK-9bOp_lAVP",
        "colab": {
          "base_uri": "https://localhost:8080/",
          "height": 166
        },
        "outputId": "adf0b989-3574-42bc-8ea7-64de7dfa7374"
      },
      "execution_count": 24,
      "outputs": [
        {
          "output_type": "error",
          "ename": "AttributeError",
          "evalue": "ignored",
          "traceback": [
            "\u001b[0;31m---------------------------------------------------------------------------\u001b[0m",
            "\u001b[0;31mAttributeError\u001b[0m                            Traceback (most recent call last)",
            "\u001b[0;32m<ipython-input-24-b033d185e811>\u001b[0m in \u001b[0;36m<module>\u001b[0;34m()\u001b[0m\n\u001b[0;32m----> 1\u001b[0;31m \u001b[0mprint\u001b[0m\u001b[0;34m(\u001b[0m\u001b[0md3_var_tensor\u001b[0m\u001b[0;34m.\u001b[0m\u001b[0mndim\u001b[0m\u001b[0;34m)\u001b[0m\u001b[0;34m\u001b[0m\u001b[0;34m\u001b[0m\u001b[0m\n\u001b[0m",
            "\u001b[0;31mAttributeError\u001b[0m: 'ResourceVariable' object has no attribute 'ndim'"
          ]
        }
      ]
    },
    {
      "cell_type": "code",
      "source": [
        "print(d3_var_tensor.shape)\n",
        "print(d3_var_tensor.dtype)"
      ],
      "metadata": {
        "id": "OLSN1uk1lBZ4",
        "colab": {
          "base_uri": "https://localhost:8080/"
        },
        "outputId": "6a92f790-4352-4b62-d4d5-34e34604f549"
      },
      "execution_count": 25,
      "outputs": [
        {
          "output_type": "stream",
          "name": "stdout",
          "text": [
            "(2, 2, 3)\n",
            "<dtype: 'float32'>\n"
          ]
        }
      ]
    },
    {
      "cell_type": "code",
      "source": [
        "d3_var_tensor[0, 0, 0].assign(0)"
      ],
      "metadata": {
        "id": "ck7-So2BlCom",
        "colab": {
          "base_uri": "https://localhost:8080/"
        },
        "outputId": "aa8f0aac-b3ea-4ccf-c1b2-a64cc62e4199"
      },
      "execution_count": 26,
      "outputs": [
        {
          "output_type": "execute_result",
          "data": {
            "text/plain": [
              "<tf.Variable 'UnreadVariable' shape=(2, 2, 3) dtype=float32, numpy=\n",
              "array([[[ 0.,  2.,  3.],\n",
              "        [ 4.,  5.,  6.]],\n",
              "\n",
              "       [[-1., -2., -3.],\n",
              "        [-4., -5., -6.]]], dtype=float32)>"
            ]
          },
          "metadata": {},
          "execution_count": 26
        }
      ]
    },
    {
      "cell_type": "markdown",
      "source": [
        "Practice"
      ],
      "metadata": {
        "id": "BDZMuh7flVGr"
      }
    },
    {
      "cell_type": "markdown",
      "source": [
        "1. tensorflow 라이브러리를 이용하여 아래 속성 정보를 가지는 상수 텐서 객체 생성 및 속성 정보 출력"
      ],
      "metadata": {
        "id": "KfhlWmWLlhCM"
      }
    },
    {
      "cell_type": "markdown",
      "source": [
        "[출력 결과] \n",
        "차원        :  3\n",
        "크기        :  (3, 1, 2)\n",
        "데이터 타입 :  <dtype: 'int32'>"
      ],
      "metadata": {
        "id": "hW7B4QMcmfHx"
      }
    },
    {
      "cell_type": "code",
      "source": [
        "d3_tensor_a = tf.constant([[[3, 1]],\n",
        "                          [[2, 9]],\n",
        "                          [[6, 8]]]) \n",
        "\n",
        "# 생성한 상수 텐서 객체 정보ㅜㄹ력"
      ],
      "metadata": {
        "id": "VIJTfsKwmAtr"
      },
      "execution_count": 42,
      "outputs": []
    },
    {
      "cell_type": "markdown",
      "source": [
        "2. 상수 텐서 객체의 값(ndarray) 복사하여 속성 정보 출력"
      ],
      "metadata": {
        "id": "zy3Y0IhFmE7K"
      }
    },
    {
      "cell_type": "markdown",
      "source": [
        "[출력 결과]\n",
        "차원        :  3\n",
        "크기        :  (3, 1, 2)\n",
        "데이터 타입 :  int32"
      ],
      "metadata": {
        "id": "hOPD9OhvmjRM"
      }
    },
    {
      "cell_type": "code",
      "source": [
        "ㅞ"
      ],
      "metadata": {
        "id": "FhcRpsl_mGsf"
      },
      "execution_count": null,
      "outputs": []
    },
    {
      "cell_type": "markdown",
      "source": [
        "3. tensorflow 라이브러리를 이용하여 아래 속성 정보를 가지는 변수 텐서 객체 생성 및 속성 정보 출력\n"
      ],
      "metadata": {
        "id": "En4RRf40mG7R"
      }
    },
    {
      "cell_type": "markdown",
      "source": [
        "[출력 결과] 크기 : (2, 3, 1) 데이터 타입 : <dtype: 'int32'>"
      ],
      "metadata": {
        "id": "wwq4PKuGfvKj"
      }
    },
    {
      "cell_type": "code",
      "source": [
        ""
      ],
      "metadata": {
        "id": "UehdGDAOmJ54"
      },
      "execution_count": null,
      "outputs": []
    },
    {
      "cell_type": "markdown",
      "source": [
        "연산 : Numpy에서 사용 되는 대부분의 수학 연산을 동일한 방법으로 사용 가능 (TPU, GPU등 가속 하드웨어 이용하여 수행)"
      ],
      "metadata": {
        "id": "9YY1IiwbnJXz"
      }
    },
    {
      "cell_type": "code",
      "source": [
        "#(2, 3)\n",
        "tensor_a = tf.constant([[1., 2., 3.],\n",
        "                        [4., 5., 6.]])\n",
        "#(2, 3)\n",
        "tensor_b = tf.constant([[7., 8., 9.],\n",
        "                        [10., 11., 12.]])"
      ],
      "metadata": {
        "id": "pvZIkxJnnNBV"
      },
      "execution_count": 43,
      "outputs": []
    },
    {
      "cell_type": "code",
      "source": [
        "tensor_c = tensor_a + tensor_b\n",
        "tensor_c"
      ],
      "metadata": {
        "id": "-BXwuuH1nYqz",
        "colab": {
          "base_uri": "https://localhost:8080/"
        },
        "outputId": "bcd27a27-901a-486c-8b69-1df274b5739d"
      },
      "execution_count": 44,
      "outputs": [
        {
          "output_type": "execute_result",
          "data": {
            "text/plain": [
              "<tf.Tensor: shape=(2, 3), dtype=float32, numpy=\n",
              "array([[ 8., 10., 12.],\n",
              "       [14., 16., 18.]], dtype=float32)>"
            ]
          },
          "metadata": {},
          "execution_count": 44
        }
      ]
    },
    {
      "cell_type": "code",
      "source": [
        "tensor_d = tf.math.square(tensor_c)\n",
        "tensor_d\n",
        "# 스퀘어는 제곱한다는 거임"
      ],
      "metadata": {
        "id": "fAsAAZkJna3z",
        "colab": {
          "base_uri": "https://localhost:8080/"
        },
        "outputId": "dc3eb04c-1bb3-42ee-db74-5a154561520d"
      },
      "execution_count": 46,
      "outputs": [
        {
          "output_type": "execute_result",
          "data": {
            "text/plain": [
              "<tf.Tensor: shape=(2, 3), dtype=float32, numpy=\n",
              "array([[ 64., 100., 144.],\n",
              "       [196., 256., 324.]], dtype=float32)>"
            ]
          },
          "metadata": {},
          "execution_count": 46
        }
      ]
    },
    {
      "cell_type": "code",
      "source": [
        "tensor_d = tf.square(tensor_c)\n",
        "tensor_d\n",
        "# 매쓰 없이"
      ],
      "metadata": {
        "id": "rBdKBlhGncJJ",
        "colab": {
          "base_uri": "https://localhost:8080/"
        },
        "outputId": "e687d2a1-88b7-4394-817c-c934a0ba7c92"
      },
      "execution_count": 48,
      "outputs": [
        {
          "output_type": "execute_result",
          "data": {
            "text/plain": [
              "<tf.Tensor: shape=(2, 3), dtype=float32, numpy=\n",
              "array([[ 64., 100., 144.],\n",
              "       [196., 256., 324.]], dtype=float32)>"
            ]
          },
          "metadata": {},
          "execution_count": 48
        }
      ]
    },
    {
      "cell_type": "code",
      "source": [
        "tensor_e = tf.math.log(tensor_d)\n",
        "tensor_e"
      ],
      "metadata": {
        "id": "rhlx5IZXndjx",
        "colab": {
          "base_uri": "https://localhost:8080/"
        },
        "outputId": "ef349e5d-56ae-4830-db7d-8824b6e73da7"
      },
      "execution_count": 49,
      "outputs": [
        {
          "output_type": "execute_result",
          "data": {
            "text/plain": [
              "<tf.Tensor: shape=(2, 3), dtype=float32, numpy=\n",
              "array([[4.158883 , 4.6051702, 4.9698133],\n",
              "       [5.278115 , 5.5451775, 5.7807436]], dtype=float32)>"
            ]
          },
          "metadata": {},
          "execution_count": 49
        }
      ]
    },
    {
      "cell_type": "markdown",
      "source": [
        "미분"
      ],
      "metadata": {
        "id": "XJAEusj_neqK"
      }
    },
    {
      "cell_type": "code",
      "source": [
        "tensor_var_a = tf.Variable([[1., 2., 3.],\n",
        "                            [4., 5., 6.]])\n",
        "\n",
        "tensor_var_b = tf.Variable([[7., 8., 9.],\n",
        "                            [10., 11., 12.]])"
      ],
      "metadata": {
        "id": "Uxmzj71rnlCN"
      },
      "execution_count": 50,
      "outputs": []
    },
    {
      "cell_type": "code",
      "source": [
        "tensor_var_a"
      ],
      "metadata": {
        "id": "NyXBL__MnmQM",
        "colab": {
          "base_uri": "https://localhost:8080/"
        },
        "outputId": "8f1defee-614d-49bb-ef50-aed9a3584aa3"
      },
      "execution_count": 51,
      "outputs": [
        {
          "output_type": "execute_result",
          "data": {
            "text/plain": [
              "<tf.Variable 'Variable:0' shape=(2, 3) dtype=float32, numpy=\n",
              "array([[1., 2., 3.],\n",
              "       [4., 5., 6.]], dtype=float32)>"
            ]
          },
          "metadata": {},
          "execution_count": 51
        }
      ]
    },
    {
      "cell_type": "code",
      "source": [
        "tensor_var_b"
      ],
      "metadata": {
        "id": "fYPwCjq2oDzz",
        "colab": {
          "base_uri": "https://localhost:8080/"
        },
        "outputId": "8802fec4-420a-47bf-b2d0-4118016143a4"
      },
      "execution_count": 52,
      "outputs": [
        {
          "output_type": "execute_result",
          "data": {
            "text/plain": [
              "<tf.Variable 'Variable:0' shape=(2, 3) dtype=float32, numpy=\n",
              "array([[ 7.,  8.,  9.],\n",
              "       [10., 11., 12.]], dtype=float32)>"
            ]
          },
          "metadata": {},
          "execution_count": 52
        }
      ]
    },
    {
      "cell_type": "code",
      "source": [
        "with tf.GradientTape() as tape:\n",
        "  tensor_var_c = tf.square(tensor_var_a + tensor_var_b)\n",
        "  gradient_ca = tape.gradient(target=tensor_var_c, sources=tensor_var_a)\n",
        "  print(gradient_ca)"
      ],
      "metadata": {
        "id": "LREpf0GzoF7x",
        "colab": {
          "base_uri": "https://localhost:8080/"
        },
        "outputId": "a4e13025-7776-4e12-a566-5fb3e99ec84c"
      },
      "execution_count": 53,
      "outputs": [
        {
          "output_type": "stream",
          "name": "stdout",
          "text": [
            "tf.Tensor(\n",
            "[[16. 20. 24.]\n",
            " [28. 32. 36.]], shape=(2, 3), dtype=float32)\n"
          ]
        }
      ]
    },
    {
      "cell_type": "markdown",
      "source": [
        "Practice"
      ],
      "metadata": {
        "id": "Lwo-yf3hoIUb"
      }
    },
    {
      "cell_type": "markdown",
      "source": [
        " tensorflow 연산자를 이용해 z = (x+y)^2 계산식에서 x 값이 z 값에 미치는 영향도(미분) 계산"
      ],
      "metadata": {
        "id": "pBs9lWHPoNTL"
      }
    },
    {
      "cell_type": "markdown",
      "source": [
        " [출력 결과]\n",
        "[[*.**  *.**  *.**]\n",
        " [*.**  *.**  *.**]]"
      ],
      "metadata": {
        "id": "ytf59q_UofjT"
      }
    },
    {
      "cell_type": "code",
      "source": [
        "tensor_x = tf.Variable([[1., 2., 3.],\n",
        "                        [4., 5., 6.]])\n",
        "\n",
        "tensor_y = tf.Variable([[7., 8., 9.],\n",
        "                        [10., 11., 12.]])\n",
        "\n",
        "with tf.GradientTape() as tape:\n",
        "  tensor_z = tf.square(tensor_x + tensor_y)\n",
        "  gradient_zx = tape.gradient(target=tensor_z, sources=tensor_x)\n",
        "  print(gradient_zx)"
      ],
      "metadata": {
        "id": "bM5mwZtFoMMr",
        "colab": {
          "base_uri": "https://localhost:8080/"
        },
        "outputId": "38a5fb2e-f461-4155-edf1-a38fbd28af45"
      },
      "execution_count": 55,
      "outputs": [
        {
          "output_type": "stream",
          "name": "stdout",
          "text": [
            "tf.Tensor(\n",
            "[[16. 20. 24.]\n",
            " [28. 32. 36.]], shape=(2, 3), dtype=float32)\n"
          ]
        }
      ]
    },
    {
      "cell_type": "markdown",
      "source": [
        "Perceptron"
      ],
      "metadata": {
        "id": "tRoAJcmxouU5"
      }
    },
    {
      "cell_type": "code",
      "source": [
        "# 파라미터 값(input 특성 개수, 퍼셉트론의 개수, 학습률) 설정\n",
        "input_dim = 2\n",
        "hidden_units = 1\n",
        "learning_rate = 0.01"
      ],
      "metadata": {
        "id": "SWjrkeWmo3UW"
      },
      "execution_count": 56,
      "outputs": []
    },
    {
      "cell_type": "code",
      "source": [
        "# 가중치(input 특성 : 2/ 퍼셉트론 : 1)\n",
        "w = tf.Variable(tf.random.uniform(shape=(input_dim, hidden_units)))\n",
        "\n",
        "# 편향(퍼셉트론 : 1)\n",
        "b = tf.Variable(tf.zeros(shape=()))"
      ],
      "metadata": {
        "id": "FA8cS4FJo8im"
      },
      "execution_count": 57,
      "outputs": []
    },
    {
      "cell_type": "code",
      "source": [
        "w"
      ],
      "metadata": {
        "id": "KrJ7w3AQo95G",
        "colab": {
          "base_uri": "https://localhost:8080/"
        },
        "outputId": "29e52fd5-518d-42f3-9d2a-d272dc963584"
      },
      "execution_count": 58,
      "outputs": [
        {
          "output_type": "execute_result",
          "data": {
            "text/plain": [
              "<tf.Variable 'Variable:0' shape=(2, 1) dtype=float32, numpy=\n",
              "array([[0.61330545],\n",
              "       [0.89624107]], dtype=float32)>"
            ]
          },
          "metadata": {},
          "execution_count": 58
        }
      ]
    },
    {
      "cell_type": "code",
      "source": [
        "b"
      ],
      "metadata": {
        "id": "efhuim9Go-R3",
        "colab": {
          "base_uri": "https://localhost:8080/"
        },
        "outputId": "83f6cf66-4f5a-4c47-a217-842e39bd843d"
      },
      "execution_count": 59,
      "outputs": [
        {
          "output_type": "execute_result",
          "data": {
            "text/plain": [
              "<tf.Variable 'Variable:0' shape=() dtype=float32, numpy=0.0>"
            ]
          },
          "metadata": {},
          "execution_count": 59
        }
      ]
    },
    {
      "cell_type": "code",
      "source": [
        "# 퍼셉트론의 수학 모델 f(x*w + b)\n",
        "def predict(input):\n",
        "  x = tf.matmul(input, w) + b\n",
        "  x = tf.maximum(0, x) #reLU 함수 까지 통과하고 엑스를 나오게 함\n",
        "  return x"
      ],
      "metadata": {
        "id": "fLgSKIWzo_zz"
      },
      "execution_count": 60,
      "outputs": []
    },
    {
      "cell_type": "code",
      "source": [
        "# loss(mse)\n",
        "def mse_loss(labels, predictions):\n",
        "  loss = tf.reduce_mean(tf.square(labels - predictions)) \n",
        "  return loss"
      ],
      "metadata": {
        "id": "mU3vmlOTpBKB"
      },
      "execution_count": 61,
      "outputs": []
    },
    {
      "cell_type": "code",
      "source": [
        "# train\n",
        "def train(inputs, labels):\n",
        "  with tf.GradientTape() as tape:\n",
        "    # 퍼셉트론 모델을 예측값을 계산\n",
        "    predictions = predict(inputs)\n",
        "    # 모델의 예측값과 정답간의 에러를 loss 을 이용해 계산\n",
        "    loss = mse_loss(labels, predictions)\n",
        "    # 모델의 변수(w, b) loss 값에 미치는 영향도를 미분(오차역전파)을 통해 계산\n",
        "    gradient_lw, gradient_lb = tape.gradient(loss, [w, b])\n",
        "  # 경사하강법을 수행해서 모델의 변수(w, b) 업데이트\n",
        "  w.assign(w - learning_rate * gradient_lw)\n",
        "  b.assign(b - learning_rate * gradient_lb)\n",
        "  return loss"
      ],
      "metadata": {
        "id": "9L-MYGZJpCUp"
      },
      "execution_count": 62,
      "outputs": []
    },
    {
      "cell_type": "markdown",
      "source": [
        "퍼셉트론 모델 학습을 위한 AND Gate 데이터 생성"
      ],
      "metadata": {
        "id": "66ZZNDGmye6t"
      }
    },
    {
      "cell_type": "code",
      "source": [
        "# 퍼셉트론 모델 학습을 위한 OR Gate 데이터 생성\n",
        "inputs = np.array([[0, 0],\n",
        "                   [0, 1],\n",
        "                   [1, 0],\n",
        "                   [1, 1]], dtype=np.float32)\n",
        "\n",
        "labels = np.array([0, 0, 0, 1], dtype=np.float32)"
      ],
      "metadata": {
        "id": "vFNpZKXqygPS"
      },
      "execution_count": 63,
      "outputs": []
    },
    {
      "cell_type": "code",
      "source": [
        "import matplotlib.pyplot as plt\n",
        "%matplotlib inline"
      ],
      "metadata": {
        "id": "jxWCfH6XzPVu"
      },
      "execution_count": 64,
      "outputs": []
    },
    {
      "cell_type": "code",
      "source": [
        "plt.scatter(inputs[:, 0], inputs[:, 1], c=labels[:])"
      ],
      "metadata": {
        "id": "oLWRtTJyzGl_",
        "colab": {
          "base_uri": "https://localhost:8080/",
          "height": 282
        },
        "outputId": "80c97a7a-56b9-402a-ac43-10838457bdb5"
      },
      "execution_count": 65,
      "outputs": [
        {
          "output_type": "execute_result",
          "data": {
            "text/plain": [
              "<matplotlib.collections.PathCollection at 0x7fa457bc0610>"
            ]
          },
          "metadata": {},
          "execution_count": 65
        },
        {
          "output_type": "display_data",
          "data": {
            "text/plain": [
              "<Figure size 432x288 with 1 Axes>"
            ],
            "image/png": "[encoded data removed]"
          },
          "metadata": {
            "needs_background": "light"
          }
        }
      ]
    },
    {
      "cell_type": "code",
      "source": [
        "\n",
        "# train 함수를 반복적으로 실행하여 퍼셉트론 모델을 학습\n",
        "# 에폭은 백번 돌린다는거임.\n",
        "\n",
        "for epoch in range(100):\n",
        "  # input 데이터와 label 데이터를 한 건씩 추출하여 train 함수에 전달\n",
        "  for x, y in zip(inputs, labels):\n",
        "    loss = train([x], [y])\n",
        "\n",
        "# 학습된 모델에 input 데이터 입력하여 예측결과 계산\n",
        "predictions = predict(inputs)\n"
      ],
      "metadata": {
        "id": "Sb50L2smyjuq"
      },
      "execution_count": 66,
      "outputs": []
    },
    {
      "cell_type": "code",
      "source": [
        "predictions"
      ],
      "metadata": {
        "colab": {
          "base_uri": "https://localhost:8080/"
        },
        "id": "z0Jtl5mYEjvq",
        "outputId": "e11ac415-42a9-48dc-eda4-8c083b66e4a0"
      },
      "execution_count": 68,
      "outputs": [
        {
          "output_type": "execute_result",
          "data": {
            "text/plain": [
              "<tf.Tensor: shape=(4, 1), dtype=float32, numpy=\n",
              "array([[0.        ],\n",
              "       [0.16033357],\n",
              "       [0.12668431],\n",
              "       [0.81114596]], dtype=float32)>"
            ]
          },
          "metadata": {},
          "execution_count": 68
        }
      ]
    },
    {
      "cell_type": "code",
      "source": [
        "print('*******모델의 예측 결과*******')\n",
        "print(predictions[:]> 0.5)"
      ],
      "metadata": {
        "id": "2JvPVr2gyoEa",
        "colab": {
          "base_uri": "https://localhost:8080/"
        },
        "outputId": "779133d0-fb85-4e07-f7f5-0f115db6267d"
      },
      "execution_count": 69,
      "outputs": [
        {
          "output_type": "stream",
          "name": "stdout",
          "text": [
            "*******모델의 예측 결과*******\n",
            "tf.Tensor(\n",
            "[[False]\n",
            " [False]\n",
            " [False]\n",
            " [ True]], shape=(4, 1), dtype=bool)\n"
          ]
        }
      ]
    },
    {
      "cell_type": "code",
      "source": [
        "test_inputs = np.random.uniform(0, 1, (5000, 2)).astype(np.float32)"
      ],
      "metadata": {
        "id": "4Df8QkCmytaL"
      },
      "execution_count": 70,
      "outputs": []
    },
    {
      "cell_type": "code",
      "source": [
        "test_inputs"
      ],
      "metadata": {
        "id": "aajCG7W0zc4r",
        "colab": {
          "base_uri": "https://localhost:8080/"
        },
        "outputId": "a2d7bd62-1aee-4feb-859e-79cde6a36a11"
      },
      "execution_count": 71,
      "outputs": [
        {
          "output_type": "execute_result",
          "data": {
            "text/plain": [
              "array([[0.17440583, 0.18201749],\n",
              "       [0.69829667, 0.9957952 ],\n",
              "       [0.5303367 , 0.42663112],\n",
              "       ...,\n",
              "       [0.00974444, 0.45836136],\n",
              "       [0.76165354, 0.6574523 ],\n",
              "       [0.5935948 , 0.23129816]], dtype=float32)"
            ]
          },
          "metadata": {},
          "execution_count": 71
        }
      ]
    },
    {
      "cell_type": "code",
      "source": [
        "predictions = predict(test_inputs)\n",
        "plt.scatter(test_inputs[:, 0], test_inputs[:, 1], c=predictions[:]> 0.5)"
      ],
      "metadata": {
        "id": "Bz_iefyEzg5e",
        "colab": {
          "base_uri": "https://localhost:8080/",
          "height": 282
        },
        "outputId": "85e77d39-51a5-4e57-9f63-5a117b3298f8"
      },
      "execution_count": 72,
      "outputs": [
        {
          "output_type": "execute_result",
          "data": {
            "text/plain": [
              "<matplotlib.collections.PathCollection at 0x7fa457674a90>"
            ]
          },
          "metadata": {},
          "execution_count": 72
        },
        {
          "output_type": "display_data",
          "data": {
            "text/plain": [
              "<Figure size 432x288 with 1 Axes>"
            ],
            "image/png": "[encoded data removed]"
          },
          "metadata": {
            "needs_background": "light"
          }
        }
      ]
    },
    {
      "cell_type": "markdown",
      "source": [
        "practice"
      ],
      "metadata": {
        "id": "Xj166DMZpJL_"
      }
    },
    {
      "cell_type": "markdown",
      "source": [
        "퍼셉트론 모델 학습을 위한 OR Gate 데이터 생성"
      ],
      "metadata": {
        "id": "2c05iIxrf0VD"
      }
    },
    {
      "cell_type": "code",
      "source": [
        "inputs = np.array([[0, 0],\n",
        "                   [0, 1],\n",
        "                   [1, 0],\n",
        "                   [1, 1]], dtype=np.float32)\n",
        "\n",
        "labels = np.array([0, 1, 1, 1], dtype=np.float32)\n",
        "\n",
        "import matplotlib.pyplot as plt\n",
        "%matplotlib inline\n",
        "\n",
        "for epoch in range(100):\n",
        "  # input 데이터와 label 데이터를 한 건씩 추출하여 train 함수에 전달\n",
        "  for x, y in zip(inputs, labels):\n",
        "    loss = train([x], [y])\n",
        "\n",
        "# 학습된 모델에 input 데이터 입력하여 예측결과 계산\n",
        "predictions = predict(inputs)\n",
        "\n",
        "print(predictions[:]> 0.5)\n",
        "\n",
        "test_inputs = np.random.uniform(0, 1, (5000, 2)).astype(np.float32)\n",
        "\n",
        "predictions = predict(test_inputs)\n",
        "plt.scatter(test_inputs[:, 0], test_inputs[:, 1], c=predictions[:]> 0.5)"
      ],
      "metadata": {
        "id": "4di-YaUMph9j",
        "colab": {
          "base_uri": "https://localhost:8080/",
          "height": 369
        },
        "outputId": "bd03fbe6-9af3-40a2-bca0-cd7034616617"
      },
      "execution_count": 73,
      "outputs": [
        {
          "output_type": "stream",
          "name": "stdout",
          "text": [
            "tf.Tensor(\n",
            "[[False]\n",
            " [ True]\n",
            " [ True]\n",
            " [ True]], shape=(4, 1), dtype=bool)\n"
          ]
        },
        {
          "output_type": "execute_result",
          "data": {
            "text/plain": [
              "<matplotlib.collections.PathCollection at 0x7fa457b825d0>"
            ]
          },
          "metadata": {},
          "execution_count": 73
        },
        {
          "output_type": "display_data",
          "data": {
            "text/plain": [
              "<Figure size 432x288 with 1 Axes>"
            ],
            "image/png": "[encoded data removed]"
          },
          "metadata": {
            "needs_background": "light"
          }
        }
      ]
    }
  ]
}