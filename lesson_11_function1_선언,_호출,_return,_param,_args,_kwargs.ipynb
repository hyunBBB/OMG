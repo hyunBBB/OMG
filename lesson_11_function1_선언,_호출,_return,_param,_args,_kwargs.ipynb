{
  "cells": [
    {
      "cell_type": "markdown",
      "metadata": {
        "id": "view-in-github",
        "colab_type": "text"
      },
      "source": [
        "<a href=\"https://colab.research.google.com/github/hyunBBB/OMG/blob/main/lesson_11_function1_%EC%84%A0%EC%96%B8%2C_%ED%98%B8%EC%B6%9C%2C_return%2C_param%2C_args%2C_kwargs.ipynb\" target=\"_parent\"><img src=\"https://colab.research.google.com/assets/colab-badge.svg\" alt=\"Open In Colab\"/></a>"
      ]
    },
    {
      "cell_type": "markdown",
      "metadata": {
        "id": "ZlgY2VP8OAmS"
      },
      "source": [
        "## Function\n",
        "    - 특정 목적을 위해 작성한 코드(연산)의 집합\n",
        "    - 독립적인 호출과 간결한 코드 작성을 위해 사용 : 코드 작성의 반복을 줄일 수 있음!\n",
        "    - 복잡한 프로그래밍 작업을 더 간단한 작업들로 분해할 수 있다.\n",
        "    - 한 번 작성하면 재사용이 편하다.\n",
        "    - 가독성 및 코드 유지 관리가 쉬워진다.\n",
        "    "
      ]
    },
    {
      "cell_type": "code",
      "execution_count": 1,
      "metadata": {
        "id": "rNuG75iFOAmU"
      },
      "outputs": [],
      "source": [
        "score = 0\n",
        "test = [100, 90, 50, 65, 70]\n",
        "\n",
        "for s in test:\n",
        "      score += s\n",
        "\n",
        "      score"
      ]
    },
    {
      "cell_type": "code",
      "execution_count": 2,
      "metadata": {
        "id": "64yO1ImQOAmU"
      },
      "outputs": [],
      "source": [
        "test2 = [50, 22, 29, 100, 10, 100]\n",
        "for s in test2:\n",
        "    score += s\n",
        "\n",
        "    score"
      ]
    },
    {
      "cell_type": "markdown",
      "metadata": {
        "id": "ZiAaLZoHOAmU"
      },
      "source": [
        "    같은 연산의 코드 작성을 반복해서 써야하므로 불편하고 힘들고 간단히 만들어보자!\n",
        "    "
      ]
    },
    {
      "cell_type": "markdown",
      "metadata": {
        "id": "k0CmIrruOAmV"
      },
      "source": [
        "### 함수의 선언과 호출"
      ]
    },
    {
      "cell_type": "markdown",
      "metadata": {
        "id": "Y2fEY16rOAmV"
      },
      "source": [
        "#### 선언\n",
        "```python\n",
        "def 함수명(param1, param2, ...):\n",
        "    # 작성하고 싶은 코드 구문 괄호 안에\n",
        "    #..\n",
        "    #..\n",
        "    return 결과값\n",
        "```"
      ]
    },
    {
      "cell_type": "code",
      "execution_count": 3,
      "metadata": {
        "id": "dFDtjlSAOAmW"
      },
      "outputs": [],
      "source": [
        "def score(test):\n",
        "  point = 0\n",
        "  for s in test:\n",
        "      point += s\n",
        "  return point"
      ]
    },
    {
      "cell_type": "code",
      "execution_count": 6,
      "metadata": {
        "id": "acJzjslYOAmW",
        "colab": {
          "base_uri": "https://localhost:8080/"
        },
        "outputId": "9ea47a02-cc1e-4235-b9f4-6969f9a3c94f"
      },
      "outputs": [
        {
          "output_type": "stream",
          "name": "stdout",
          "text": [
            "320\n"
          ]
        }
      ],
      "source": [
        "# test\n",
        "test1 = [100, 50, 75, 65, 30]\n",
        "test2 = [50, 40, 25, 15, 11, 20]\n",
        "\n",
        "print(score(test1))\n",
        "# print(score(test2)) # 에러 발생"
      ]
    },
    {
      "cell_type": "code",
      "execution_count": 7,
      "metadata": {
        "id": "7iNYEZ8iOAmX",
        "colab": {
          "base_uri": "https://localhost:8080/"
        },
        "outputId": "9186b013-24c3-457a-f0e5-cb8fd147cc96"
      },
      "outputs": [
        {
          "output_type": "execute_result",
          "data": {
            "text/plain": [
              "62.800000000000004"
            ]
          },
          "metadata": {},
          "execution_count": 7
        }
      ],
      "source": [
        "def get_area(radius):\n",
        "  return 3.14*radius*2\n",
        "\n",
        "get_area(10)"
      ]
    },
    {
      "cell_type": "code",
      "source": [
        "\n"
      ],
      "metadata": {
        "id": "9Yz24jXJ83l0"
      },
      "execution_count": null,
      "outputs": []
    },
    {
      "cell_type": "markdown",
      "metadata": {
        "id": "sFgb1Y_AOAmY"
      },
      "source": [
        "##### quiz\n",
        "    1. 정수를 제곱하는 함수\n",
        "    2. 평균을 구하는 함수"
      ]
    },
    {
      "cell_type": "code",
      "execution_count": 13,
      "metadata": {
        "id": "6SLbISyiOAmY",
        "colab": {
          "base_uri": "https://localhost:8080/",
          "height": 201
        },
        "outputId": "0bcc5775-1e1d-4f4f-ddab-d8467a3c5137"
      },
      "outputs": [
        {
          "output_type": "error",
          "ename": "AttributeError",
          "evalue": "ignored",
          "traceback": [
            "\u001b[0;31m---------------------------------------------------------------------------\u001b[0m",
            "\u001b[0;31mAttributeError\u001b[0m                            Traceback (most recent call last)",
            "\u001b[0;32m<ipython-input-13-1ce4f9b88884>\u001b[0m in \u001b[0;36m<module>\u001b[0;34m()\u001b[0m\n\u001b[1;32m      6\u001b[0m   \u001b[0;32mreturn\u001b[0m \u001b[0;34m(\u001b[0m\u001b[0mn1\u001b[0m\u001b[0;34m+\u001b[0m\u001b[0mn2\u001b[0m\u001b[0;34m)\u001b[0m\u001b[0;34m/\u001b[0m\u001b[0;36m2\u001b[0m\u001b[0;34m\u001b[0m\u001b[0;34m\u001b[0m\u001b[0m\n\u001b[1;32m      7\u001b[0m \u001b[0;34m\u001b[0m\u001b[0m\n\u001b[0;32m----> 8\u001b[0;31m \u001b[0mprint\u001b[0m\u001b[0;34m(\u001b[0m\u001b[0msquare\u001b[0m\u001b[0;34m(\u001b[0m\u001b[0;36m10\u001b[0m\u001b[0;34m)\u001b[0m\u001b[0;34m.\u001b[0m \u001b[0maverage\u001b[0m\u001b[0;34m(\u001b[0m\u001b[0;36m10\u001b[0m\u001b[0;34m,\u001b[0m\u001b[0;36m20\u001b[0m\u001b[0;34m)\u001b[0m\u001b[0;34m)\u001b[0m\u001b[0;34m\u001b[0m\u001b[0;34m\u001b[0m\u001b[0m\n\u001b[0m",
            "\u001b[0;31mAttributeError\u001b[0m: 'int' object has no attribute 'average'"
          ]
        }
      ],
      "source": [
        "# 함수 작성\n",
        "def square(n):\n",
        "  return n**2\n",
        "\n",
        "def average(n1,n2):\n",
        "  return (n1+n2)/2\n",
        "\n",
        "print(square(10). average(10,20))"
      ]
    },
    {
      "cell_type": "code",
      "execution_count": null,
      "metadata": {
        "id": "Of3ocjhFOAmY"
      },
      "outputs": [],
      "source": [
        "# blank"
      ]
    },
    {
      "cell_type": "markdown",
      "metadata": {
        "id": "H_8wE074OAmZ"
      },
      "source": [
        "#### 호출"
      ]
    },
    {
      "cell_type": "markdown",
      "metadata": {
        "id": "CufwpkqiOAmZ"
      },
      "source": [
        "##### parameter, argument\n",
        "```python\n",
        "    def 함수명(파라미터):\n",
        "        return\n",
        "    \n",
        "    함수명(아규먼트)\n",
        "```\n",
        "    - 파라미터는 함수를 선언할 때 호출할 변수\n",
        "    - 아규먼트는 함수를 호출할 때 보내줄 변수\n",
        "    - 함수를 선언할 때 파라미터의 타입과 개수를 맞추지 않으면 에러가 발생"
      ]
    },
    {
      "cell_type": "code",
      "execution_count": 14,
      "metadata": {
        "id": "J-vqkB2FOAma",
        "colab": {
          "base_uri": "https://localhost:8080/"
        },
        "outputId": "25c088f4-5518-4392-b3e9-56901f8a38b5"
      },
      "outputs": [
        {
          "output_type": "execute_result",
          "data": {
            "text/plain": [
              "400"
            ]
          },
          "metadata": {},
          "execution_count": 14
        }
      ],
      "source": [
        "def bowling(n1, n2, n3=50): # ady 이름의 파라미터는 티폴트 파라미터\n",
        "    return n1+n2+n3\n",
        "\n",
        "bowling(200, 150) # ady 파라미터에 값을 넣어주지 않아도 디폴트 값을 이용해서 실행"
      ]
    },
    {
      "cell_type": "code",
      "execution_count": 16,
      "metadata": {
        "id": "dMmkhbYmOAma",
        "colab": {
          "base_uri": "https://localhost:8080/"
        },
        "outputId": "5c56d44d-e364-41b1-c08d-f1c7689471f0"
      },
      "outputs": [
        {
          "output_type": "execute_result",
          "data": {
            "text/plain": [
              "(350, 360)"
            ]
          },
          "metadata": {},
          "execution_count": 16
        }
      ],
      "source": [
        "bowling(200, 150, 0), bowling(200, 150, n3=10)"
      ]
    },
    {
      "cell_type": "markdown",
      "metadata": {
        "id": "qh2HMFeCOAma"
      },
      "source": [
        "#### return\n",
        "    - 선언한 함수의 결과값을 저장\n",
        "    - 함수내에서 연산 진행중에 return에 도달하면 연산이 종료\n",
        "    - return을 작성하지 않으면 결과값을 저장하지 않음"
      ]
    },
    {
      "cell_type": "code",
      "execution_count": 17,
      "metadata": {
        "id": "1CyxJHT8OAmb",
        "colab": {
          "base_uri": "https://localhost:8080/",
          "height": 35
        },
        "outputId": "b038f62f-e0af-4680-b0e2-8d4d267a5628"
      },
      "outputs": [
        {
          "output_type": "execute_result",
          "data": {
            "text/plain": [
              "'HELLO PYTHON'"
            ],
            "application/vnd.google.colaboratory.intrinsic+json": {
              "type": "string"
            }
          },
          "metadata": {},
          "execution_count": 17
        }
      ],
      "source": [
        "def print_test(text):\n",
        "    return text.upper() #앞에 있는 변수가 문자라면 전부 대문자로 만들어준다.\n",
        "\n",
        "text = \"hello python\"\n",
        "print_test(text)"
      ]
    },
    {
      "cell_type": "code",
      "execution_count": 18,
      "metadata": {
        "id": "q0kAqsVEOAmb",
        "colab": {
          "base_uri": "https://localhost:8080/"
        },
        "outputId": "0ea99640-1036-444f-b473-e057fa820bba"
      },
      "outputs": [
        {
          "output_type": "stream",
          "name": "stdout",
          "text": [
            "HELLO PHTHON\n"
          ]
        }
      ],
      "source": [
        "def print_test(text):\n",
        "    print(text.upper())\n",
        "#     return text.upper()\n",
        "text = \"hello phthon\"\n",
        "print_test(text)\n",
        "# print_test(text).loser() # 저장된 결과 값이 없으므로 lowe()함수를 실행시킬 수 없음"
      ]
    },
    {
      "cell_type": "markdown",
      "source": [
        "출력은 되는데 return없어서 값은 안나옴. .lower은 upper와 반대."
      ],
      "metadata": {
        "id": "V8z-tXH-_sgT"
      }
    },
    {
      "cell_type": "code",
      "execution_count": 23,
      "metadata": {
        "id": "l62n5RtrOAmb",
        "colab": {
          "base_uri": "https://localhost:8080/",
          "height": 322
        },
        "outputId": "f7f77f3f-7d75-48d8-e0f5-1f09c4e461c4"
      },
      "outputs": [
        {
          "output_type": "error",
          "ename": "NameError",
          "evalue": "ignored",
          "traceback": [
            "\u001b[0;31m---------------------------------------------------------------------------\u001b[0m",
            "\u001b[0;31mNameError\u001b[0m                                 Traceback (most recent call last)",
            "\u001b[0;32m<ipython-input-23-cd469a2bf19e>\u001b[0m in \u001b[0;36m<module>\u001b[0;34m()\u001b[0m\n\u001b[1;32m     15\u001b[0m \u001b[0mtext2\u001b[0m \u001b[0;34m=\u001b[0m \u001b[0;34m'mn2asd'\u001b[0m\u001b[0;34m\u001b[0m\u001b[0;34m\u001b[0m\u001b[0m\n\u001b[1;32m     16\u001b[0m \u001b[0mtext3\u001b[0m \u001b[0;34m=\u001b[0m \u001b[0;34m'easyupclass'\u001b[0m\u001b[0;34m\u001b[0m\u001b[0;34m\u001b[0m\u001b[0m\n\u001b[0;32m---> 17\u001b[0;31m \u001b[0malpha_check\u001b[0m\u001b[0;34m(\u001b[0m\u001b[0mtext\u001b[0m\u001b[0;34m)\u001b[0m\u001b[0;34m,\u001b[0m \u001b[0malpha_check\u001b[0m\u001b[0;34m(\u001b[0m\u001b[0mtext2\u001b[0m\u001b[0;34m)\u001b[0m\u001b[0;34m,\u001b[0m \u001b[0malpha_check\u001b[0m\u001b[0;34m(\u001b[0m\u001b[0mtext3\u001b[0m\u001b[0;34m)\u001b[0m\u001b[0;34m\u001b[0m\u001b[0;34m\u001b[0m\u001b[0m\n\u001b[0m",
            "\u001b[0;32m<ipython-input-23-cd469a2bf19e>\u001b[0m in \u001b[0;36malpha_check\u001b[0;34m(text)\u001b[0m\n\u001b[1;32m      5\u001b[0m         \u001b[0;32mcontinue\u001b[0m\u001b[0;34m\u001b[0m\u001b[0;34m\u001b[0m\u001b[0m\n\u001b[1;32m      6\u001b[0m     \u001b[0;32melse\u001b[0m\u001b[0;34m:\u001b[0m\u001b[0;34m\u001b[0m\u001b[0;34m\u001b[0m\u001b[0m\n\u001b[0;32m----> 7\u001b[0;31m         \u001b[0mprint\u001b[0m\u001b[0;34m(\u001b[0m\u001b[0mtest\u001b[0m\u001b[0;34m,\u001b[0m\u001b[0mindex\u001b[0m\u001b[0;34m(\u001b[0m\u001b[0mt\u001b[0m\u001b[0;34m)\u001b[0m\u001b[0;34m+\u001b[0m\u001b[0;36m1\u001b[0m\u001b[0;34m)\u001b[0m\u001b[0;34m\u001b[0m\u001b[0;34m\u001b[0m\u001b[0m\n\u001b[0m\u001b[1;32m      8\u001b[0m         \u001b[0;32mreturn\u001b[0m \u001b[0;32mFalse\u001b[0m\u001b[0;34m\u001b[0m\u001b[0;34m\u001b[0m\u001b[0m\n\u001b[1;32m      9\u001b[0m   \u001b[0mprint\u001b[0m\u001b[0;34m(\u001b[0m\u001b[0;34m\"Clear!\"\u001b[0m\u001b[0;34m)\u001b[0m\u001b[0;34m\u001b[0m\u001b[0;34m\u001b[0m\u001b[0m\n",
            "\u001b[0;31mNameError\u001b[0m: name 'index' is not defined"
          ]
        }
      ],
      "source": [
        "# 함수 연산을 중단 시키는 예제\n",
        "def alpha_check(text):\n",
        "  for t in text:\n",
        "    if t.isalpha(): # isalpha() : str타입의 변수가 알파벳으로 구성되어 있으면 True. 아니면 False를 반환하는 함수\n",
        "        continue\n",
        "    else:\n",
        "        print(test,index(t)+1)\n",
        "        return False\n",
        "  print(\"Clear!\")\n",
        "  return True\n",
        "\n",
        "# blank\n",
        "\n",
        "text = 'abcdeFgHijk1op'\n",
        "text2 = 'mn2asd'\n",
        "text3 = 'easyupclass'\n",
        "alpha_check(text), alpha_check(text2), alpha_check(text3)"
      ]
    },
    {
      "cell_type": "markdown",
      "metadata": {
        "id": "LxRXaW-mOAmc"
      },
      "source": [
        "#### arguments와 keyword arguments\n",
        "    - 인수의 이름을 지정해서 parameter로 전달한다. \n",
        "    - 인수의 위치가 매개변수의 순서와 달라도 가능하다.\n",
        "    - positional argument라고도 한다.\n",
        "    - keyword args의 경우 아규먼트로 함수 호출 시 키워드를 작성하여 호출하며 반드시 다른 arguments 뒤에 존재해야 한다.\n"
      ]
    },
    {
      "cell_type": "code",
      "execution_count": 24,
      "metadata": {
        "id": "P2kcHW3COAmc",
        "colab": {
          "base_uri": "https://localhost:8080/"
        },
        "outputId": "46acfb84-4e6f-4a04-8a35-81989ba08ccc"
      },
      "outputs": [
        {
          "output_type": "execute_result",
          "data": {
            "text/plain": [
              "5"
            ]
          },
          "metadata": {},
          "execution_count": 24
        }
      ],
      "source": [
        "def operation(a=0, b=0, c=0): # a, b, c 는 keyword argument\n",
        "  return a*b+c\n",
        "\n",
        "operation(1, 2, 3)"
      ]
    },
    {
      "cell_type": "code",
      "source": [
        "operation(1, c=33)\n",
        "# operation(1, a=2) # 파라미터가 겹칠 가능성도 존재할 때"
      ],
      "metadata": {
        "colab": {
          "base_uri": "https://localhost:8080/"
        },
        "id": "gV-NdaslBepu",
        "outputId": "7d8c047f-cb84-4ce4-d5fc-8c3dabf2fd2f"
      },
      "execution_count": 25,
      "outputs": [
        {
          "output_type": "execute_result",
          "data": {
            "text/plain": [
              "33"
            ]
          },
          "metadata": {},
          "execution_count": 25
        }
      ]
    },
    {
      "cell_type": "markdown",
      "source": [
        "####  가변 인수\n",
        "  - 함수 선언시 파라미터의 수를 특정할 수 없을 경우 사용\n",
        "  - asterisk(*) 를 사용한다.\n",
        "  - *args는 가변길이 인수를 전달, 튜플 타입\n",
        "  - **kwargs는 키워드 인수를 전달, 딕셔너리 타입\n",
        "  - 가변 인수는 튜플이나 리스트 등으로 for 문으로 사용가능하다."
      ],
      "metadata": {
        "id": "vQjZ35ccuJ02"
      }
    },
    {
      "cell_type": "code",
      "source": [
        "def hap(num, *args, **kwargs):\n",
        "    print(type(num), num)\n",
        "    print(type(args), args)\n",
        "    print(type(kwargs), kwargs)\n",
        "    return num+sum(args) + sum(list(kwargs.values()))\n",
        "\n",
        "# hap(1)\n",
        "hap(1, 2, 3, num1=4, num2=5)"
      ],
      "metadata": {
        "id": "SEEX00vuuLsy",
        "colab": {
          "base_uri": "https://localhost:8080/"
        },
        "outputId": "4df15277-d6f7-4dab-b31b-534a69dac6e5"
      },
      "execution_count": 27,
      "outputs": [
        {
          "output_type": "stream",
          "name": "stdout",
          "text": [
            "<class 'int'> 1\n",
            "<class 'tuple'> (2, 3)\n",
            "<class 'dict'> {'num1': 4, 'num2': 5}\n"
          ]
        },
        {
          "output_type": "execute_result",
          "data": {
            "text/plain": [
              "15"
            ]
          },
          "metadata": {},
          "execution_count": 27
        }
      ]
    },
    {
      "cell_type": "markdown",
      "metadata": {
        "id": "mTc2UpusOAmc"
      },
      "source": [
        "##### list타입 데이터를 args로 호출하는 방법"
      ]
    },
    {
      "cell_type": "code",
      "execution_count": 28,
      "metadata": {
        "id": "lKjCYc4DOAmc",
        "colab": {
          "base_uri": "https://localhost:8080/",
          "height": 201
        },
        "outputId": "b63f1f29-24b3-4c84-dde6-0ccc68aa7147"
      },
      "outputs": [
        {
          "output_type": "error",
          "ename": "NameError",
          "evalue": "ignored",
          "traceback": [
            "\u001b[0;31m---------------------------------------------------------------------------\u001b[0m",
            "\u001b[0;31mNameError\u001b[0m                                 Traceback (most recent call last)",
            "\u001b[0;32m<ipython-input-28-cd31951e8cb3>\u001b[0m in \u001b[0;36m<module>\u001b[0;34m()\u001b[0m\n\u001b[1;32m      4\u001b[0m \u001b[0mls\u001b[0m \u001b[0;34m=\u001b[0m \u001b[0;34m[\u001b[0m\u001b[0;36m2\u001b[0m\u001b[0;34m,\u001b[0m \u001b[0;36m2\u001b[0m\u001b[0;34m,\u001b[0m \u001b[0;36m4\u001b[0m\u001b[0;34m]\u001b[0m\u001b[0;34m\u001b[0m\u001b[0;34m\u001b[0m\u001b[0m\n\u001b[1;32m      5\u001b[0m \u001b[0;34m\u001b[0m\u001b[0m\n\u001b[0;32m----> 6\u001b[0;31m \u001b[0mmutiply\u001b[0m\u001b[0;34m(\u001b[0m\u001b[0;34m*\u001b[0m\u001b[0mls\u001b[0m\u001b[0;34m)\u001b[0m \u001b[0;31m# list 타입 데이터를 함수에 선언한 파라미터에 각각 대입\u001b[0m\u001b[0;34m\u001b[0m\u001b[0;34m\u001b[0m\u001b[0m\n\u001b[0m",
            "\u001b[0;31mNameError\u001b[0m: name 'mutiply' is not defined"
          ]
        }
      ],
      "source": [
        "def multiply(n1, n2, n3):\n",
        "    return n1 * n2 ** n3\n",
        "\n",
        "ls = [2, 2, 4]\n",
        "\n",
        "mutiply(*ls) # list 타입 데이터를 함수에 선언한 파라미터에 각각 대입"
      ]
    },
    {
      "cell_type": "code",
      "execution_count": 29,
      "metadata": {
        "id": "M4PhpNpHOAmd",
        "colab": {
          "base_uri": "https://localhost:8080/",
          "height": 183
        },
        "outputId": "c133d888-e151-455c-b5a4-902fc57a6d09"
      },
      "outputs": [
        {
          "output_type": "error",
          "ename": "NameError",
          "evalue": "ignored",
          "traceback": [
            "\u001b[0;31m---------------------------------------------------------------------------\u001b[0m",
            "\u001b[0;31mNameError\u001b[0m                                 Traceback (most recent call last)",
            "\u001b[0;32m<ipython-input-29-d11580455021>\u001b[0m in \u001b[0;36m<module>\u001b[0;34m()\u001b[0m\n\u001b[1;32m      1\u001b[0m \u001b[0mls2\u001b[0m \u001b[0;34m=\u001b[0m \u001b[0;34m[\u001b[0m\u001b[0;36m2\u001b[0m\u001b[0;34m,\u001b[0m \u001b[0;36m3\u001b[0m\u001b[0;34m,\u001b[0m \u001b[0;36m4\u001b[0m\u001b[0;34m,\u001b[0m \u001b[0;36m5\u001b[0m\u001b[0;34m]\u001b[0m\u001b[0;34m\u001b[0m\u001b[0;34m\u001b[0m\u001b[0m\n\u001b[0;32m----> 2\u001b[0;31m \u001b[0mgop\u001b[0m\u001b[0;34m(\u001b[0m\u001b[0;34m*\u001b[0m\u001b[0mls2\u001b[0m\u001b[0;34m)\u001b[0m \u001b[0;31m# 함수 선언시 *args로 선언하지 않고 파라미터의 개수가 맞지 않아서 오류 발생\u001b[0m\u001b[0;34m\u001b[0m\u001b[0;34m\u001b[0m\u001b[0m\n\u001b[0m",
            "\u001b[0;31mNameError\u001b[0m: name 'gop' is not defined"
          ]
        }
      ],
      "source": [
        "ls2 = [2, 3, 4, 5]\n",
        "gop(*ls2) # 함수 선언시 *args로 선언하지 않고 파라미터의 개수가 맞지 않아서 오류 발생"
      ]
    },
    {
      "cell_type": "code",
      "execution_count": 31,
      "metadata": {
        "id": "S_gXLlfHOAmd",
        "colab": {
          "base_uri": "https://localhost:8080/",
          "height": 322
        },
        "outputId": "a98e3301-6a61-48b5-e00b-3002a10e21f4"
      },
      "outputs": [
        {
          "output_type": "error",
          "ename": "TypeError",
          "evalue": "ignored",
          "traceback": [
            "\u001b[0;31m---------------------------------------------------------------------------\u001b[0m",
            "\u001b[0;31mTypeError\u001b[0m                                 Traceback (most recent call last)",
            "\u001b[0;32m<ipython-input-31-c613f3f5f27b>\u001b[0m in \u001b[0;36m<module>\u001b[0;34m()\u001b[0m\n\u001b[1;32m      3\u001b[0m \u001b[0;34m\u001b[0m\u001b[0m\n\u001b[1;32m      4\u001b[0m \u001b[0mls3\u001b[0m \u001b[0;34m=\u001b[0m \u001b[0;34m[\u001b[0m\u001b[0;36m1\u001b[0m\u001b[0;34m,\u001b[0m \u001b[0;36m2\u001b[0m\u001b[0;34m,\u001b[0m \u001b[0;36m3\u001b[0m\u001b[0;34m]\u001b[0m\u001b[0;34m\u001b[0m\u001b[0;34m\u001b[0m\u001b[0m\n\u001b[0;32m----> 5\u001b[0;31m \u001b[0mhap2\u001b[0m\u001b[0;34m(\u001b[0m\u001b[0mls3\u001b[0m\u001b[0;34m)\u001b[0m \u001b[0;31m# 호출하는 argument 타입이 직접 입력이 아닌 경우에도 에러가 발생\u001b[0m\u001b[0;34m\u001b[0m\u001b[0;34m\u001b[0m\u001b[0m\n\u001b[0m",
            "\u001b[0;32m<ipython-input-31-c613f3f5f27b>\u001b[0m in \u001b[0;36mhap2\u001b[0;34m(*args)\u001b[0m\n\u001b[1;32m      1\u001b[0m \u001b[0;32mdef\u001b[0m \u001b[0mhap2\u001b[0m\u001b[0;34m(\u001b[0m\u001b[0;34m*\u001b[0m\u001b[0margs\u001b[0m\u001b[0;34m)\u001b[0m\u001b[0;34m:\u001b[0m\u001b[0;34m\u001b[0m\u001b[0;34m\u001b[0m\u001b[0m\n\u001b[0;32m----> 2\u001b[0;31m     \u001b[0;32mreturn\u001b[0m \u001b[0msum\u001b[0m\u001b[0;34m(\u001b[0m\u001b[0margs\u001b[0m\u001b[0;34m)\u001b[0m\u001b[0;34m\u001b[0m\u001b[0;34m\u001b[0m\u001b[0m\n\u001b[0m\u001b[1;32m      3\u001b[0m \u001b[0;34m\u001b[0m\u001b[0m\n\u001b[1;32m      4\u001b[0m \u001b[0mls3\u001b[0m \u001b[0;34m=\u001b[0m \u001b[0;34m[\u001b[0m\u001b[0;36m1\u001b[0m\u001b[0;34m,\u001b[0m \u001b[0;36m2\u001b[0m\u001b[0;34m,\u001b[0m \u001b[0;36m3\u001b[0m\u001b[0;34m]\u001b[0m\u001b[0;34m\u001b[0m\u001b[0;34m\u001b[0m\u001b[0m\n\u001b[1;32m      5\u001b[0m \u001b[0mhap2\u001b[0m\u001b[0;34m(\u001b[0m\u001b[0mls3\u001b[0m\u001b[0;34m)\u001b[0m \u001b[0;31m# 호출하는 argument 타입이 직접 입력이 아닌 경우에도 에러가 발생\u001b[0m\u001b[0;34m\u001b[0m\u001b[0;34m\u001b[0m\u001b[0m\n",
            "\u001b[0;31mTypeError\u001b[0m: unsupported operand type(s) for +: 'int' and 'list'"
          ]
        }
      ],
      "source": [
        "def hap2(*args):\n",
        "    return sum(args)\n",
        "\n",
        "ls3 = [1, 2, 3]\n",
        "hap2(ls3) # 호출하는 argument 타입이 직접 입력이 아닌 경우에도 에러가 발생"
      ]
    },
    {
      "cell_type": "code",
      "execution_count": 33,
      "metadata": {
        "id": "VjoWt3D_OAmd",
        "colab": {
          "base_uri": "https://localhost:8080/"
        },
        "outputId": "58fd410d-dd7c-4e2f-e42f-5cfee3975748"
      },
      "outputs": [
        {
          "output_type": "execute_result",
          "data": {
            "text/plain": [
              "(6, 6)"
            ]
          },
          "metadata": {},
          "execution_count": 33
        }
      ],
      "source": [
        "hap2(1, 2, 3), hap2(*ls3)"
      ]
    },
    {
      "cell_type": "code",
      "source": [
        ""
      ],
      "metadata": {
        "id": "ENTkFDWlEahg"
      },
      "execution_count": null,
      "outputs": []
    }
  ],
  "metadata": {
    "hide_input": false,
    "kernelspec": {
      "display_name": "Python 3",
      "language": "python",
      "name": "python3"
    },
    "language_info": {
      "codemirror_mode": {
        "name": "ipython",
        "version": 3
      },
      "file_extension": ".py",
      "mimetype": "text/x-python",
      "name": "python",
      "nbconvert_exporter": "python",
      "pygments_lexer": "ipython3",
      "version": "3.8.5"
    },
    "toc": {
      "base_numbering": 1,
      "nav_menu": {},
      "number_sections": true,
      "sideBar": true,
      "skip_h1_title": false,
      "title_cell": "Table of Contents",
      "title_sidebar": "Contents",
      "toc_cell": false,
      "toc_position": {
        "height": "calc(100% - 180px)",
        "left": "10px",
        "top": "150px",
        "width": "384px"
      },
      "toc_section_display": true,
      "toc_window_display": false
    },
    "varInspector": {
      "cols": {
        "lenName": 16,
        "lenType": 16,
        "lenVar": 40
      },
      "kernels_config": {
        "python": {
          "delete_cmd_postfix": "",
          "delete_cmd_prefix": "del ",
          "library": "var_list.py",
          "varRefreshCmd": "print(var_dic_list())"
        },
        "r": {
          "delete_cmd_postfix": ") ",
          "delete_cmd_prefix": "rm(",
          "library": "var_list.r",
          "varRefreshCmd": "cat(var_dic_list()) "
        }
      },
      "types_to_exclude": [
        "module",
        "function",
        "builtin_function_or_method",
        "instance",
        "_Feature"
      ],
      "window_display": false
    },
    "colab": {
      "name": "lesson 11. function1 - 선언, 호출, return, param, args, kwargs.ipynb",
      "provenance": [],
      "collapsed_sections": [],
      "include_colab_link": true
    }
  },
  "nbformat": 4,
  "nbformat_minor": 0
}