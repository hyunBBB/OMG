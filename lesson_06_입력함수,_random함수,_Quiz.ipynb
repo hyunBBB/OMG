{
  "cells": [
    {
      "cell_type": "markdown",
      "metadata": {
        "id": "view-in-github",
        "colab_type": "text"
      },
      "source": [
        "<a href=\"https://colab.research.google.com/github/hyunBBB/OMG/blob/main/lesson_06_%EC%9E%85%EB%A0%A5%ED%95%A8%EC%88%98%2C_random%ED%95%A8%EC%88%98%2C_Quiz.ipynb\" target=\"_parent\"><img src=\"https://colab.research.google.com/assets/colab-badge.svg\" alt=\"Open In Colab\"/></a>"
      ]
    },
    {
      "cell_type": "markdown",
      "metadata": {
        "id": "27sswvQNnoN5"
      },
      "source": [
        "#### 입력함수\n",
        "input작성 해주면 이 안에 설명 문구를 작성할 수 있음. 이걸 노출 시켜도 안해도 됨. 거기에 데이터 입력시 항상 받는 값은 str타입으로 받음. 사용 용도에 따라 형변환을 어케할건지 알아야함. \n"
      ]
    },
    {
      "cell_type": "code",
      "source": [
        "number = input(\"숫자를 입력하세요: \")\n",
        "number, type(number)"
      ],
      "metadata": {
        "colab": {
          "base_uri": "https://localhost:8080/"
        },
        "id": "bk4gSCsTQmId",
        "outputId": "027220db-a4e9-44d6-b273-75a4459823da"
      },
      "execution_count": 1,
      "outputs": [
        {
          "name": "stdout",
          "output_type": "stream",
          "text": [
            "숫자를 입력하세요: 50\n"
          ]
        },
        {
          "output_type": "execute_result",
          "data": {
            "text/plain": [
              "('50', str)"
            ]
          },
          "metadata": {},
          "execution_count": 1
        }
      ]
    },
    {
      "cell_type": "code",
      "execution_count": null,
      "metadata": {
        "ExecuteTime": {
          "end_time": "2021-01-13T07:52:30.893622Z",
          "start_time": "2021-01-13T07:52:28.216480Z"
        },
        "id": "ooeXmH3mnoN9",
        "colab": {
          "base_uri": "https://localhost:8080/",
          "height": 52
        },
        "outputId": "3ae878d9-3c02-455d-eab9-9b3019a5e915"
      },
      "outputs": [
        {
          "name": "stdout",
          "output_type": "stream",
          "text": [
            "문장을 입력하세요: 10\n"
          ]
        },
        {
          "output_type": "execute_result",
          "data": {
            "text/plain": [
              "'10'"
            ],
            "application/vnd.google.colaboratory.intrinsic+json": {
              "type": "string"
            }
          },
          "metadata": {},
          "execution_count": 3
        }
      ],
      "source": [
        "text = input(\"문장을 입력하세요: \")\n",
        "text"
      ]
    },
    {
      "cell_type": "code",
      "source": [
        "type(int(text)"
      ],
      "metadata": {
        "colab": {
          "base_uri": "https://localhost:8080/",
          "height": 131
        },
        "id": "h_r3K8no5I-m",
        "outputId": "ecbd20a8-79e6-4883-9b5a-da09aae3fea8"
      },
      "execution_count": null,
      "outputs": [
        {
          "output_type": "error",
          "ename": "SyntaxError",
          "evalue": "ignored",
          "traceback": [
            "\u001b[0;36m  File \u001b[0;32m\"<ipython-input-4-51f0f666fcc5>\"\u001b[0;36m, line \u001b[0;32m1\u001b[0m\n\u001b[0;31m    type(int(text)\u001b[0m\n\u001b[0m                  ^\u001b[0m\n\u001b[0;31mSyntaxError\u001b[0m\u001b[0;31m:\u001b[0m unexpected EOF while parsing\n"
          ]
        }
      ]
    },
    {
      "cell_type": "markdown",
      "metadata": {
        "id": "GSqrJLDpnoN_"
      },
      "source": [
        "#### random 모듈\n",
        "    import random : random이라는 이름의 모듈 안의 함수들을 사용하겠다고 선언"
      ]
    },
    {
      "cell_type": "code",
      "source": [
        "# int는 정수값\n",
        "# randint 말고도 많음.  \n"
      ],
      "metadata": {
        "id": "NHPUpWjFQ4vy"
      },
      "execution_count": null,
      "outputs": []
    },
    {
      "cell_type": "code",
      "execution_count": 2,
      "metadata": {
        "ExecuteTime": {
          "end_time": "2021-01-13T08:01:29.161740Z",
          "start_time": "2021-01-13T08:01:29.144794Z"
        },
        "colab": {
          "base_uri": "https://localhost:8080/"
        },
        "id": "uvpbALXCnoN_",
        "outputId": "8dff1b59-b95f-4e62-f947-21d73c2c8a58"
      },
      "outputs": [
        {
          "output_type": "execute_result",
          "data": {
            "text/plain": [
              "1"
            ]
          },
          "metadata": {},
          "execution_count": 2
        }
      ],
      "source": [
        "import random # random 모듈을 불러옴\n",
        "random.randint(0,10) #random 모듈의 randint 함수를 사용"
      ]
    },
    {
      "cell_type": "markdown",
      "source": [
        "idx가 인덱스임."
      ],
      "metadata": {
        "id": "hxYfkCyfRfg8"
      }
    },
    {
      "cell_type": "code",
      "execution_count": 4,
      "metadata": {
        "ExecuteTime": {
          "end_time": "2021-01-13T08:06:26.666689Z",
          "start_time": "2021-01-13T08:06:08.752772Z"
        },
        "id": "3Iul-nu3noOA",
        "outputId": "6b88a0c8-ea67-4ed3-b841-5ac0de9568e8",
        "colab": {
          "base_uri": "https://localhost:8080/"
        }
      },
      "outputs": [
        {
          "output_type": "stream",
          "name": "stdout",
          "text": [
            "index 번호를 입력하세요 : 3\n",
            "킹받뜨라쉬\n"
          ]
        }
      ],
      "source": [
        "brand_new_words = [\n",
        "    \"홀리몰리과카몰리\",\n",
        "    \"전래전래전래동화\",\n",
        "    \"개펀리펀\",\n",
        "    \"킹받뜨라쉬\",\n",
        "    \"아차찹쌀떡~\"\n",
        "]\n",
        "\n",
        "import random\n",
        "# 질문 추가하고 싶다면\n",
        "ques = int(input(\"index 번호를 입력하세요 : \"))\n",
        "idx = random.randint(0, len(brand_new_words) - 1)\n",
        "\n",
        "print(brand_new_words[idx])"
      ]
    },
    {
      "cell_type": "markdown",
      "source": [
        "3을 넣으면 네번째 데이터였던 킹받뜨라쉬가 나오는것임. 엥 암튼 그렇게 알아둬라.\n",
        "idx가 존재하는 data 타입에서 인덱스번호 안 쓰고도 할수 있는게 choice"
      ],
      "metadata": {
        "id": "BnygaBUZSNAT"
      }
    },
    {
      "cell_type": "code",
      "execution_count": 8,
      "metadata": {
        "ExecuteTime": {
          "end_time": "2021-01-14T01:20:32.313051Z",
          "start_time": "2021-01-14T01:20:32.292081Z"
        },
        "id": "gVxFGLJYnoOA",
        "outputId": "584739dc-0c11-46ff-ae71-88047ea30d8f",
        "colab": {
          "base_uri": "https://localhost:8080/",
          "height": 35
        }
      },
      "outputs": [
        {
          "output_type": "execute_result",
          "data": {
            "text/plain": [
              "'5번'"
            ],
            "application/vnd.google.colaboratory.intrinsic+json": {
              "type": "string"
            }
          },
          "metadata": {},
          "execution_count": 8
        }
      ],
      "source": [
        "import random\n",
        "ls = ['1번', '2번', '3번', '4번', '5번']\n",
        "\n",
        "random.choice(ls)\n",
        "\n",
        "# blank"
      ]
    },
    {
      "cell_type": "markdown",
      "metadata": {
        "id": "9piVSI_4noOB"
      },
      "source": [
        "#### format 함수\n",
        "    변수의 데이터를 문자형으로 변환하여 출력할 수 있는 방법\n",
        "    프린트 할 때 임의의 값으로 출력가능 근데 값만 바꾸고 싶다던가 으악\n",
        "    .format(순서, 대로)"
      ]
    },
    {
      "cell_type": "code",
      "execution_count": null,
      "metadata": {
        "ExecuteTime": {
          "end_time": "2021-01-14T01:22:59.228884Z",
          "start_time": "2021-01-14T01:22:59.222900Z"
        },
        "id": "Uyq4Nyv1noOB",
        "colab": {
          "base_uri": "https://localhost:8080/"
        },
        "outputId": "a19f2019-b256-4efb-f72e-6dd94f68b7c4"
      },
      "outputs": [
        {
          "output_type": "stream",
          "name": "stdout",
          "text": [
            "인출 금액은 30000원 입니다. 현재 잔액은 70000원 입니다.\n",
            "인출 금액은 30000원 입니다. 현재 잔액은 70000원 입니다.\n",
            "인출 금액은 30000원 입니다. 현재 잔액은 70000원 입니다.\n"
          ]
        }
      ],
      "source": [
        "account = 100_000\n",
        "draw = 30_000\n",
        "account -= draw\n",
        "\n",
        "print(\"인출 금액은 {}원 입니다. 현재 잔액은 {}원 입니다.\".format(draw, account))\n",
        "\n",
        "print(\"인출 금액은 %s원 입니다. 현재 잔액은 %s원 입니다.\" %(draw, account)) # str일 때 s 붙임. %s = str, %d = int, %f = float 만약 %03d 이런식으로 쓰면 자리수를 설정하는거임.\n",
        "\n",
        "print(f'인출 금액은 {draw}원 입니다. 현재 잔액은 {account}원 입니다.') #f string 이라 부릅니다.\n",
        "# f string을 좀 더 추천함. 셋 다 같은 걸로 나오긴함. 근데 걍 마지막꺼를 추천하신다고함. 작성하는데 위에 두개는 불편하기때문. "
      ]
    },
    {
      "cell_type": "markdown",
      "metadata": {
        "id": "e4UtrxynnoOC"
      },
      "source": [
        "### Quiz\n",
        "    저녁먹고 남은돈, 랜덤으로 메뉴선택(금액을 입력), 차액에 따라 다음날 점심을 먹을 수 있다 없다를 출력\n",
        "    6000 이상 식사 가능,"
      ]
    },
    {
      "cell_type": "code",
      "execution_count": null,
      "metadata": {
        "colab": {
          "base_uri": "https://localhost:8080/"
        },
        "id": "v8bnIFRunoOD",
        "outputId": "66000283-aa82-4a94-9887-174d8fd1ff68"
      },
      "outputs": [
        {
          "output_type": "stream",
          "name": "stdout",
          "text": [
            "금액을 입력하세요: 6500\n",
            "저녁 식대는 15000원\n",
            "남은 돈이 6500원이니 저녁은 못먹어도 점심에 국밥 한 그릇은 가능하겠구나.\n"
          ]
        }
      ],
      "source": [
        "wallet = int(input(\"금액을 입력하세요: \"))\n",
        "\n",
        "menu = [15000, 8000, 4500]\n",
        "import random\n",
        "dinner = random.choice(menu)\n",
        "\n",
        "if wallet >= dinner:\n",
        "      wallet-= dinner\n",
        "      if wallet >= 6000:\n",
        "            print(\"저녁 식대는 {}원\".format(dinner))\n",
        "            print(\"남은 돈이 {}원이니 저녁도 가능하고 점심은 든든한 국밥이지~\".format(wallet))\n",
        "      else:\n",
        "            print(\"저녁 식대는 {}원\".format(dinner))\n",
        "            print(\"남은 돈이 {}원이니 점슴은 거르고 저녁에 국밥 한 그릇 먹어야겠구나\".format(wallet))\n",
        "else:\n",
        "  if wallet >=6000:\n",
        "        print(\"저녁 식대는 {}원\".format(dinner))\n",
        "        print(\"남은 돈이 {}원이니 저녁은 못먹어도 점심에 국밥 한 그릇은 가능하겠구나.\".format(wallet))\n",
        "  else:\n",
        "      print(\"남은 돈이 {}원이라니.. 이거 실화냐\".format(wallet))\n",
        "# blank"
      ]
    },
    {
      "cell_type": "code",
      "source": [
        ""
      ],
      "metadata": {
        "id": "Z-Ce4pFZn9rv"
      },
      "execution_count": null,
      "outputs": []
    }
  ],
  "metadata": {
    "hide_input": false,
    "kernelspec": {
      "display_name": "Python 3",
      "language": "python",
      "name": "python3"
    },
    "language_info": {
      "codemirror_mode": {
        "name": "ipython",
        "version": 3
      },
      "file_extension": ".py",
      "mimetype": "text/x-python",
      "name": "python",
      "nbconvert_exporter": "python",
      "pygments_lexer": "ipython3",
      "version": "3.8.5"
    },
    "toc": {
      "base_numbering": 1,
      "nav_menu": {},
      "number_sections": true,
      "sideBar": true,
      "skip_h1_title": false,
      "title_cell": "Table of Contents",
      "title_sidebar": "Contents",
      "toc_cell": false,
      "toc_position": {},
      "toc_section_display": true,
      "toc_window_display": false
    },
    "varInspector": {
      "cols": {
        "lenName": 16,
        "lenType": 16,
        "lenVar": 40
      },
      "kernels_config": {
        "python": {
          "delete_cmd_postfix": "",
          "delete_cmd_prefix": "del ",
          "library": "var_list.py",
          "varRefreshCmd": "print(var_dic_list())"
        },
        "r": {
          "delete_cmd_postfix": ") ",
          "delete_cmd_prefix": "rm(",
          "library": "var_list.r",
          "varRefreshCmd": "cat(var_dic_list()) "
        }
      },
      "types_to_exclude": [
        "module",
        "function",
        "builtin_function_or_method",
        "instance",
        "_Feature"
      ],
      "window_display": false
    },
    "colab": {
      "name": "lesson 06. 입력함수, random함수, Quiz.ipynb",
      "provenance": [],
      "collapsed_sections": [],
      "include_colab_link": true
    }
  },
  "nbformat": 4,
  "nbformat_minor": 0
}