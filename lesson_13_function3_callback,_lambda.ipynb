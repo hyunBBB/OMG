{
  "cells": [
    {
      "cell_type": "markdown",
      "metadata": {
        "id": "view-in-github",
        "colab_type": "text"
      },
      "source": [
        "<a href=\"https://colab.research.google.com/github/hyunBBB/OMG/blob/main/lesson_13_function3_callback%2C_lambda.ipynb\" target=\"_parent\"><img src=\"https://colab.research.google.com/assets/colab-badge.svg\" alt=\"Open In Colab\"/></a>"
      ]
    },
    {
      "cell_type": "markdown",
      "metadata": {
        "id": "zlNuuro6GKxi"
      },
      "source": [
        "#### callback function\n",
        "    - 함수를 args 파라미터로 설정해서 사용\n",
        "    - 함수가 다른 함수를 호출하여 결과값을 실행\n",
        "        - 재귀함수에서 잘 사용"
      ]
    },
    {
      "cell_type": "code",
      "execution_count": 1,
      "metadata": {
        "id": "MeFHQntJGKxm"
      },
      "outputs": [],
      "source": [
        "def calc(func, a, b):\n",
        "    return func(a,b)\n",
        "    "
      ]
    },
    {
      "cell_type": "code",
      "execution_count": 2,
      "metadata": {
        "id": "Jk_rOqICGKxn"
      },
      "outputs": [],
      "source": [
        "def hap(a, b):\n",
        "    return a+b\n",
        "def gap(a, b):\n",
        "    return a*b"
      ]
    },
    {
      "cell_type": "code",
      "execution_count": 3,
      "metadata": {
        "id": "kpWyM6ilGKxn",
        "colab": {
          "base_uri": "https://localhost:8080/"
        },
        "outputId": "f7404ae5-b285-4299-dc2b-be05a82e3791"
      },
      "outputs": [
        {
          "output_type": "execute_result",
          "data": {
            "text/plain": [
              "(5, 30)"
            ]
          },
          "metadata": {},
          "execution_count": 3
        }
      ],
      "source": [
        "calc(hap, 2, 3), calc(gap, 5, 6)"
      ]
    },
    {
      "cell_type": "code",
      "execution_count": 4,
      "metadata": {
        "id": "9bIIlPkqGKxn",
        "colab": {
          "base_uri": "https://localhost:8080/"
        },
        "outputId": "33ed788a-2cf8-42b6-b71c-77c6c3ef7d50"
      },
      "outputs": [
        {
          "output_type": "stream",
          "name": "stdout",
          "text": [
            "120\n"
          ]
        }
      ],
      "source": [
        "def factorial(n):\n",
        "    if n == 1:  # n이 1일 때\n",
        "         return 1  # 1을 반환하고 재귀호출을 끝냄\n",
        "    return n * factorial(n - 1)  # n과 factorial 함수에 n-1을 넣어서 반환된 값을 곱함\n",
        "\n",
        "print(factorial(5))"
      ]
    },
    {
      "cell_type": "markdown",
      "source": [
        "ㅜn이 끝나느 지점 잘~해봐"
      ],
      "metadata": {
        "id": "a4I3JLvkLcR9"
      }
    },
    {
      "cell_type": "markdown",
      "metadata": {
        "id": "J8n8vLUwGKxo"
      },
      "source": [
        "#### lambda function\n",
        "    - 파라미터를 간단한 계산으로 리턴\n",
        "    한줄로 만드는 거임"
      ]
    },
    {
      "cell_type": "code",
      "execution_count": 5,
      "metadata": {
        "id": "Y4w7MvE-GKxo",
        "colab": {
          "base_uri": "https://localhost:8080/"
        },
        "outputId": "93802dc0-93c9-4915-a835-2f38ceebf56a"
      },
      "outputs": [
        {
          "output_type": "execute_result",
          "data": {
            "text/plain": [
              "(9, 9)"
            ]
          },
          "metadata": {},
          "execution_count": 5
        }
      ],
      "source": [
        "def hap(a, b):\n",
        "    return a+b\n",
        "hap2 = lambda a, b: a+b # 파라미터 : 리턴\n",
        "hap2(4, 5), hap(4,5)"
      ]
    },
    {
      "cell_type": "markdown",
      "source": [
        "람다 적으면 람다함수 시작. 받을 변수를 뒤에 적음. 파라미터라고 생각하고 ㅁ콜론 다음 적는게 리턴이라고 생각해라.\n",
        "그래서 파라미터 콜론 리턴 형시으로 작성을 해주면 될거같고 결과는 똑같쥬. 걍 함수써서 결과 받 어. 람다함수 경우 간단히 코드를 깔끔히 적을 수 있다는 장점~"
      ],
      "metadata": {
        "id": "w2I9Wc9wLywd"
      }
    },
    {
      "cell_type": "markdown",
      "metadata": {
        "id": "rFu6s2wdGKxp"
      },
      "source": [
        "### Quiz"
      ]
    },
    {
      "cell_type": "markdown",
      "metadata": {
        "id": "2epr0rEXGKxq"
      },
      "source": [
        "#### string 타입 데이터를 입력 받았을 때 문자열 가운데를 출력"
      ]
    },
    {
      "cell_type": "code",
      "execution_count": 10,
      "metadata": {
        "id": "B9232iGkGKxq",
        "colab": {
          "base_uri": "https://localhost:8080/"
        },
        "outputId": "c6b7b758-73ba-4e92-905b-a4bc0a0cbd7a"
      },
      "outputs": [
        {
          "output_type": "stream",
          "name": "stdout",
          "text": [
            "text:  start up nuiversity\n",
            "length:  9\n",
            "n\n"
          ]
        }
      ],
      "source": [
        "text = 'start up nuiversity'\n",
        "a = int(len(text)/2) # int 꼭 붙여야함. 인덱스에 소수점이 있으면 곤란.그래서 인트를 꼭 붙인 것\n",
        "print(\"text: \", text)\n",
        "print(\"length: \", a)\n",
        "# lambda ㅇ없이 할면 print(text[a])\n",
        "print(text[a])"
      ]
    },
    {
      "cell_type": "code",
      "source": [
        "substr = lambda x : text[a] if len(text)%2 else text[a-1:a]\n",
        "substr(text)"
      ],
      "metadata": {
        "id": "AfW5kGF7G969",
        "colab": {
          "base_uri": "https://localhost:8080/",
          "height": 35
        },
        "outputId": "ddeff0d5-1438-47c1-f910-3b7c8fbd4068"
      },
      "execution_count": 9,
      "outputs": [
        {
          "output_type": "execute_result",
          "data": {
            "text/plain": [
              "'n'"
            ],
            "application/vnd.google.colaboratory.intrinsic+json": {
              "type": "string"
            }
          },
          "metadata": {},
          "execution_count": 9
        }
      ]
    }
  ],
  "metadata": {
    "hide_input": false,
    "kernelspec": {
      "display_name": "Python 3",
      "language": "python",
      "name": "python3"
    },
    "language_info": {
      "codemirror_mode": {
        "name": "ipython",
        "version": 3
      },
      "file_extension": ".py",
      "mimetype": "text/x-python",
      "name": "python",
      "nbconvert_exporter": "python",
      "pygments_lexer": "ipython3",
      "version": "3.8.5"
    },
    "toc": {
      "base_numbering": 1,
      "nav_menu": {},
      "number_sections": true,
      "sideBar": true,
      "skip_h1_title": false,
      "title_cell": "Table of Contents",
      "title_sidebar": "Contents",
      "toc_cell": false,
      "toc_position": {},
      "toc_section_display": true,
      "toc_window_display": false
    },
    "varInspector": {
      "cols": {
        "lenName": 16,
        "lenType": 16,
        "lenVar": 40
      },
      "kernels_config": {
        "python": {
          "delete_cmd_postfix": "",
          "delete_cmd_prefix": "del ",
          "library": "var_list.py",
          "varRefreshCmd": "print(var_dic_list())"
        },
        "r": {
          "delete_cmd_postfix": ") ",
          "delete_cmd_prefix": "rm(",
          "library": "var_list.r",
          "varRefreshCmd": "cat(var_dic_list()) "
        }
      },
      "types_to_exclude": [
        "module",
        "function",
        "builtin_function_or_method",
        "instance",
        "_Feature"
      ],
      "window_display": false
    },
    "colab": {
      "name": "lesson 13. function3 - callback, lambda.ipynb",
      "provenance": [],
      "collapsed_sections": [],
      "include_colab_link": true
    }
  },
  "nbformat": 4,
  "nbformat_minor": 0
}