{
  "nbformat": 4,
  "nbformat_minor": 0,
  "metadata": {
    "accelerator": "GPU",
    "colab": {
      "name": "13. googLeNet_implementation_on_cifar10.ipynb",
      "provenance": [],
      "collapsed_sections": [],
      "include_colab_link": true
    },
    "kernelspec": {
      "display_name": "Python 3",
      "name": "python3"
    },
    "gpuClass": "standard"
  },
  "cells": [
    {
      "cell_type": "markdown",
      "metadata": {
        "id": "view-in-github",
        "colab_type": "text"
      },
      "source": [
        "<a href=\"https://colab.research.google.com/github/hyunBBB/OMG/blob/main/13_googLeNet_implementation_on_cifar10.ipynb\" target=\"_parent\"><img src=\"https://colab.research.google.com/assets/colab-badge.svg\" alt=\"Open In Colab\"/></a>"
      ]
    },
    {
      "cell_type": "code",
      "metadata": {
        "id": "5ZiAVJEcNVe1",
        "colab": {
          "base_uri": "https://localhost:8080/"
        },
        "outputId": "eb38f0e3-9660-46b5-f79b-5f79c0efd6aa"
      },
      "source": [
        "from keras.layers import Input, Conv2D, MaxPooling2D, Dropout, BatchNormalization, Dense, Activation, add, Flatten, AveragePooling2D, concatenate\n",
        "from keras.models import Model\n",
        "\n",
        "from keras.preprocessing.image import ImageDataGenerator\n",
        "import numpy as np\n",
        "import tensorflow as tf\n",
        "from keras.utils import np_utils\n",
        "\n",
        "width = 32\n",
        "height = 32\n",
        "\n",
        "(x_train, y_train), (x_test, y_test) = tf.keras.datasets.cifar10.load_data()"
      ],
      "execution_count": 1,
      "outputs": [
        {
          "output_type": "stream",
          "name": "stdout",
          "text": [
            "Downloading data from https://www.cs.toronto.edu/~kriz/cifar-10-python.tar.gz\n",
            "170500096/170498071 [==============================] - 2s 0us/step\n",
            "170508288/170498071 [==============================] - 2s 0us/step\n"
          ]
        }
      ]
    },
    {
      "cell_type": "markdown",
      "metadata": {
        "id": "F1PIxfu-FJTd"
      },
      "source": [
        "https://www.tensorflow.org/api_docs/python/tf/keras/applications/InceptionV3"
      ]
    },
    {
      "cell_type": "markdown",
      "source": [
        "1. label 을 one-hot vector 로 변환"
      ],
      "metadata": {
        "id": "bi9LC2i7j68A"
      }
    },
    {
      "cell_type": "code",
      "metadata": {
        "id": "8w4-9oE4Ngaj"
      },
      "source": [
        "num_classes = 10\n",
        "y_train = np_utils.to_categorical(y_train)\n",
        "y_test = np_utils.to_categorical(y_test)\n",
        "\n"
      ],
      "execution_count": 2,
      "outputs": []
    },
    {
      "cell_type": "markdown",
      "source": [
        "2. list slicing 으로  train image / validation image 분리 "
      ],
      "metadata": {
        "id": "MekzudIwkMXs"
      }
    },
    {
      "cell_type": "code",
      "metadata": {
        "id": "E-GhJpHuW02A"
      },
      "source": [
        "validation_images, validation_labels = x_train[:500], y_train[:500]\n",
        "train_images, train_labels =\n",
        "# 못썼어..."
      ],
      "execution_count": null,
      "outputs": []
    },
    {
      "cell_type": "code",
      "metadata": {
        "colab": {
          "base_uri": "https://localhost:8080/"
        },
        "id": "qCGvbXliD5Au",
        "outputId": "e507d369-4278-478a-b817-f2179844011e"
      },
      "source": [
        "train_images.shape"
      ],
      "execution_count": null,
      "outputs": [
        {
          "output_type": "execute_result",
          "data": {
            "text/plain": [
              "(49500, 32, 32, 3)"
            ]
          },
          "metadata": {},
          "execution_count": 4
        }
      ]
    },
    {
      "cell_type": "code",
      "source": [
        "train_labels.shape"
      ],
      "metadata": {
        "colab": {
          "base_uri": "https://localhost:8080/"
        },
        "id": "56DccOVWbymL",
        "outputId": "f407395e-b9cf-44e6-986d-607a52933840"
      },
      "execution_count": null,
      "outputs": [
        {
          "output_type": "execute_result",
          "data": {
            "text/plain": [
              "(49500, 10)"
            ]
          },
          "metadata": {},
          "execution_count": 16
        }
      ]
    },
    {
      "cell_type": "markdown",
      "source": [
        "3. Inception module 정의"
      ],
      "metadata": {
        "id": "l-bm0CEKkmc_"
      }
    },
    {
      "cell_type": "code",
      "metadata": {
        "id": "gWFlCh3bHU2p"
      },
      "source": [
        "def inception(x, filters): \n",
        "    pre_layer = x\n",
        "    \n",
        "    f1,f2,f3,f4 = filters\n",
        "\n",
        "    # 1x1\n",
        "      conv1 = Conv2d(f1, kernel_size=(1,1), padding='same', activation = 'relu')(pre_layer)\n",
        "    # 1x1 & 3x3\n",
        "      conv2 = Conv2d(f4, kernel_size=(1,1), padding='same', activation = 'relu')(pre_layer)\n",
        "      conv2 = Conv2d(f2, kernel_size=(3,3), padding='same', activation = 'relu'(conv2))\n",
        "\n",
        "\n",
        "    # 1x1 & 5x5\n",
        "      conv2 = Conv2d(f4, kernel_size=(1,1), padding='same', activation = 'relu')(pre_layer)\n",
        "      conv3 = Conv2d(f3, kernel_size=(5,5), padding='same', activation = 'relu'(conv3))\n",
        "\n",
        "    # pooling & 1x1\n",
        "      max_pool = MaxPooling2D(poo_size=(3,3), strides=(1,1), padding='same')(pre_layer)\n",
        "      max_pool = Conv2D(f4, kernel_size=(1,1), padding = 'same')(max_pool)\n",
        "      \n",
        "    # output = [None(batch_size), w,h,c], c 기준 concatenate (axis = -1 )\n",
        "    concat = concatenate([conv1, conv2, conv3, max_pool], axis=-1)\n",
        "    \n",
        "    return concat\n",
        "    "
      ],
      "execution_count": null,
      "outputs": []
    },
    {
      "cell_type": "markdown",
      "source": [
        "4. GoogleNet (Incepceion V1) 모델 정의"
      ],
      "metadata": {
        "id": "Npd-N8XpktX1"
      }
    },
    {
      "cell_type": "code",
      "metadata": {
        "id": "_BQRbgfkHbCV",
        "colab": {
          "base_uri": "https://localhost:8080/",
          "height": 253
        },
        "outputId": "ff97286b-88a0-4377-e7e8-65e73458300a"
      },
      "source": [
        "from keras.layers.pooling import AveragePooling1D\n",
        "input_shape =  x_train[0].shape\n",
        "inputs = Input(shape= input_shape )\n",
        "\n",
        "# conv랑 batch 사이에 max pooling 들어가야 하나, cifar 데이터에선 크기 너무 줄어들어서 뺐음\n",
        "x = Conv2D(64, kernel_size=(7,7), strides=2, padding='same', activation='relu')(inputs)\n",
        "x = BatchNormalization()(x)\n",
        "x = Conv2D(192, kernel_size=(3,3), padding='same', activation='relu')(x)\n",
        "x = BatchNormalization()(x) \n",
        "\n",
        "#inception (input, [#1x1conv, #3x3conv, #5x5conv, #1x1reduction] )\n",
        "\n",
        "# inception 3a\n",
        "x = inception(X, [64, 128, 32, 32])\n",
        "\n",
        "# inception 3b\n",
        "x = inception(X, [128, 192, 96, 64])\n",
        "X = MaxPooling2D(pool_size=(3,3), strides = (2, 2), padding='same')(X)\n",
        "\n",
        "\n",
        "\n",
        "# inception 4a\n",
        "x = inception(X, [192, 208, 48, 64])\n",
        "\n",
        "\n",
        "#aux1\n",
        "\n",
        "aux1 = AveragePooling2D(pool_size=(5,5), strides = (3,3), padding='valid')(X)\n",
        "aux1 = Conv2D(128, kernel_size = (1,1), padding = 'same', activations='relu')(aux1)\n",
        "aux1 = Flatten()(aux1)\n",
        "aux1 = Dense(512, activation='relu')(aux1)\n",
        "aux1 = Dense(10, activation = 'softmax')(aux1)\n",
        "\n",
        "\n",
        "# inception 4b\n",
        "X = inception(X, [160, 224, 64, 64])\n",
        "# inception 4c\n",
        "X = inception(X, [128, 256, 64, 64])\n",
        "\n",
        "# inception 4d\n",
        "X = inception(x, [112, 288, 64, 64])\n",
        "\n",
        "#aux2\n",
        "aux2 = AveragePooling2D(pool_size=(5,5), strides = (3,3), padding='valid')(X)\n",
        "aux2 = Conv2D(128, kernel_size = (1,1), padding = 'same', activations='relu')(aux2)\n",
        "aux2 = Flatten()(aux2)\n",
        "aux2 = Dense(832, activation='relu')(aux2)\n",
        "aux2 = Dense(10, activation = 'softmax')(aux2)\n",
        "\n",
        "\n",
        "\n",
        "# inception 4e\n",
        "x = inception(x, [256, 320, 128, 128])\n",
        "\n",
        "# inception 5a\n",
        "x = inception(x, [256, 320, 128, 128])\n",
        "# inception 5b\n",
        "x = inception(x, [384, 384, 128, 128 ])\n",
        "\n",
        "x = AveragePooling2D(pool_size = (4,4), padding='valid')(x)\n",
        "x = Dropout(0, 4)(x)\n",
        "\n",
        "\n",
        "x=  Flatten()(x)\n",
        "\n",
        "outputs = Dense(10, activation='softmax')(x)\n",
        "\n"
      ],
      "execution_count": 1,
      "outputs": [
        {
          "output_type": "error",
          "ename": "NameError",
          "evalue": "ignored",
          "traceback": [
            "\u001b[0;31m---------------------------------------------------------------------------\u001b[0m",
            "\u001b[0;31mNameError\u001b[0m                                 Traceback (most recent call last)",
            "\u001b[0;32m<ipython-input-1-0e7e66bdb1d1>\u001b[0m in \u001b[0;36m<module>\u001b[0;34m()\u001b[0m\n\u001b[1;32m      1\u001b[0m \u001b[0;32mfrom\u001b[0m \u001b[0mkeras\u001b[0m\u001b[0;34m.\u001b[0m\u001b[0mlayers\u001b[0m\u001b[0;34m.\u001b[0m\u001b[0mpooling\u001b[0m \u001b[0;32mimport\u001b[0m \u001b[0mAveragePooling1D\u001b[0m\u001b[0;34m\u001b[0m\u001b[0;34m\u001b[0m\u001b[0m\n\u001b[0;32m----> 2\u001b[0;31m \u001b[0minput_shape\u001b[0m \u001b[0;34m=\u001b[0m  \u001b[0mx_train\u001b[0m\u001b[0;34m[\u001b[0m\u001b[0;36m0\u001b[0m\u001b[0;34m]\u001b[0m\u001b[0;34m.\u001b[0m\u001b[0mshape\u001b[0m\u001b[0;34m\u001b[0m\u001b[0;34m\u001b[0m\u001b[0m\n\u001b[0m\u001b[1;32m      3\u001b[0m \u001b[0minputs\u001b[0m \u001b[0;34m=\u001b[0m \u001b[0mInput\u001b[0m\u001b[0;34m(\u001b[0m\u001b[0mshape\u001b[0m\u001b[0;34m=\u001b[0m \u001b[0minput_shape\u001b[0m \u001b[0;34m)\u001b[0m\u001b[0;34m\u001b[0m\u001b[0;34m\u001b[0m\u001b[0m\n\u001b[1;32m      4\u001b[0m \u001b[0;34m\u001b[0m\u001b[0m\n\u001b[1;32m      5\u001b[0m \u001b[0;31m# conv랑 batch 사이에 max pooling 들어가야 하나, cifar 데이터에선 크기 너무 줄어들어서 뺐음\u001b[0m\u001b[0;34m\u001b[0m\u001b[0;34m\u001b[0m\u001b[0;34m\u001b[0m\u001b[0m\n",
            "\u001b[0;31mNameError\u001b[0m: name 'x_train' is not defined"
          ]
        }
      ]
    },
    {
      "cell_type": "code",
      "metadata": {
        "id": "nx3JQsDnBose"
      },
      "source": [
        "model = Model(Inputs = inputs, outputs = [aux1, aux2, outputs] )\n",
        "\n",
        "\n",
        "# adam optimizer, categorical crossentropy, loss weight ratio (0.3,0.3,1.0), metric: accuracy\n",
        "model.compile( optimizer = 'adam', loss = 'categorical_crossentropy', loss_weight=[0.3,] ) \n"
      ],
      "execution_count": null,
      "outputs": []
    },
    {
      "cell_type": "code",
      "metadata": {
        "id": "uLio7DUSOqPi"
      },
      "source": [
        "model.summary()"
      ],
      "execution_count": null,
      "outputs": []
    },
    {
      "cell_type": "markdown",
      "source": [
        "4. ImageDagaGenerator 로 normalization 및 augmentation 적용 (shear , zoom , horizontal flip 적용 )"
      ],
      "metadata": {
        "id": "cMISniM5laMY"
      }
    },
    {
      "cell_type": "code",
      "metadata": {
        "id": "hKIGz5YMWrKr"
      },
      "source": [
        "train_datagen = ImageDataGenerator(rescale = 1,/255,\n",
        "                                   shear_range = 0.2,\n",
        "                                   zomm_range = 0.2,\n",
        "                                   horizontal_filp = True)\n",
        "validation_datagen = ImageDataGenerator(rescale = 1,/255,\n",
        "                                   shear_range = 0.2,\n",
        "                                   zomm_range = 0.2,\n",
        "                                   horizontal_filp = True)"
      ],
      "execution_count": null,
      "outputs": []
    },
    {
      "cell_type": "markdown",
      "source": [
        "5. batch 32, epoch 10 으로 학습"
      ],
      "metadata": {
        "id": "TpJlFNrel57z"
      }
    },
    {
      "cell_type": "code",
      "metadata": {
        "id": "o73IuB0RXFoe"
      },
      "source": [
        "history = model.fit(train_datagen.flow(train_images, train_labels, batch_size = 32),\n",
        "                    validation_data = validation_datagen.flow(validation_images, validation_labels, validation))\n",
        "\n",
        "# 이쪽 다시 써야함.... 헝\n"
      ],
      "execution_count": null,
      "outputs": []
    },
    {
      "cell_type": "markdown",
      "source": [
        "6. train data, validation data 각각에 대해 마지막 layer의 loss 와 accuracy \n",
        "\n",
        "---\n",
        "\n"
      ],
      "metadata": {
        "id": "qa3FQbu5mCth"
      }
    },
    {
      "cell_type": "code",
      "metadata": {
        "id": "nouTQsGTOR9i"
      },
      "source": [
        "import matplotlib.pyplot as plt\n",
        "\n",
        "acc = history.history['']\n",
        "val_acc = history.history['']\n",
        "\n",
        "loss =history.history['']\n",
        "val_loss = history.history['']\n",
        "\n",
        "epochs_range = range(10)\n",
        "\n",
        "\n",
        "# accuracy\n",
        "plt.figure(figsize=(8, 8))\n",
        "plt.subplot(1, 2, 1)\n",
        "plt.plot(label='Training Accuracy')\n",
        "plt.plot( label='Validation Accuracy')\n",
        "plt.legend(loc='lower right')\n",
        "plt.title('Training and Validation Accuracy')\n",
        "\n",
        "# loss\n",
        "plt.subplot(1, 2, 2)\n",
        "plt.plot(  label='Training Loss')\n",
        "plt.plot(   label='Validation Loss')\n",
        "plt.legend(loc='upper right')\n",
        "plt.title('Training and Validation Loss')\n",
        "plt.show()"
      ],
      "execution_count": null,
      "outputs": []
    }
  ]
}