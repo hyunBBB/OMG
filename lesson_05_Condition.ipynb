{
  "cells": [
    {
      "cell_type": "markdown",
      "metadata": {
        "id": "view-in-github",
        "colab_type": "text"
      },
      "source": [
        "<a href=\"https://colab.research.google.com/github/hyunBBB/OMG/blob/main/lesson_05_Condition.ipynb\" target=\"_parent\"><img src=\"https://colab.research.google.com/assets/colab-badge.svg\" alt=\"Open In Colab\"/></a>"
      ]
    },
    {
      "cell_type": "markdown",
      "metadata": {
        "id": "pvN6_6mHnSxa"
      },
      "source": [
        "### 조건문(condition)\n",
        "    특정 조건에 따라 코드를 실행하고자 할 때 사용\n",
        "    if, else, elif"
      ]
    },
    {
      "cell_type": "markdown",
      "metadata": {
        "id": "ojfRpbgcnSxe"
      },
      "source": [
        "#### if\n",
        "```python\n",
        "if 조건문 :\n",
        "    조건이 성립할 때 실행될 구문\n",
        "    (들여쓰기 필수당)\n",
        "```\n",
        "    조건문에 boolean 타입 외의 데이터 타입이 오면 boolean 타입으로 형변환되어 판단"
      ]
    },
    {
      "cell_type": "code",
      "source": [
        "if True:\n",
        "   # if 는 시작하겠다! 이거고 ture는 조건문에 해당, 조건 작성, IDE(Vscode, Pycharm, Jupyter notebook, colab) 자동으로 들여쓰기\n",
        "    print(\"It's True\")\n",
        "print(\"DONE!\")"
      ],
      "metadata": {
        "id": "lzXjG7wA0OGr",
        "colab": {
          "base_uri": "https://localhost:8080/"
        },
        "outputId": "7e50e8a8-bc9e-432c-ecad-a44e1e2ed1f1"
      },
      "execution_count": 4,
      "outputs": [
        {
          "output_type": "stream",
          "name": "stdout",
          "text": [
            "It's True\n",
            "DONE!\n"
          ]
        }
      ]
    },
    {
      "cell_type": "code",
      "execution_count": null,
      "metadata": {
        "id": "yTHfpG26nSxf",
        "colab": {
          "base_uri": "https://localhost:8080/"
        },
        "outputId": "19b9565f-f41b-4a4a-8d1f-023947c34c4d"
      },
      "outputs": [
        {
          "output_type": "stream",
          "name": "stdout",
          "text": [
            "It's True\n",
            "done\n",
            "False done\n"
          ]
        }
      ],
      "source": [
        "if True:\n",
        "  print(\"It's True\")\n",
        "  print(\"done\")\n",
        "  if False:\n",
        "    print(\"It's False\") # False 값은 실행 안 됨. \n",
        "\n",
        "print(\"False done\")"
      ]
    },
    {
      "cell_type": "code",
      "execution_count": null,
      "metadata": {
        "id": "OuuUqdmcnSxf",
        "colab": {
          "base_uri": "https://localhost:8080/"
        },
        "outputId": "ff865da0-200f-4a4e-c278-ff38e4b73d3d"
      },
      "outputs": [
        {
          "output_type": "stream",
          "name": "stdout",
          "text": [
            "num2 done\n"
          ]
        }
      ],
      "source": [
        "num=0\n",
        "if num:\n",
        "      print(\"done\")\n",
        "      \n",
        "num2 = 10\n",
        "if num2:\n",
        "      print(\"num2 done\")"
      ]
    },
    {
      "cell_type": "markdown",
      "metadata": {
        "id": "YhAIgIKfnSxf"
      },
      "source": [
        "    int : 0을 제외한 나머지 숫자는 모두 True\n",
        "    float : 0.0을 제외한 나머지 숫자는 모두 True\n",
        "    str : \"\"을 제외한 나머지는 모두 True\n",
        "    list, tuple, dict : [], (), {}을 제외한 나머지는 모두 True"
      ]
    },
    {
      "cell_type": "markdown",
      "source": [
        "data가 있으면 true 근데 0이나 data가 없으면 false.\n"
      ],
      "metadata": {
        "id": "Ithax3-9V2oB"
      }
    },
    {
      "cell_type": "code",
      "source": [
        ""
      ],
      "metadata": {
        "id": "gngyDY9dV8RN"
      },
      "execution_count": null,
      "outputs": []
    },
    {
      "cell_type": "markdown",
      "metadata": {
        "id": "nyXFiMaqnSxg"
      },
      "source": [
        "#### if else\n",
        "```python\n",
        "if 조건문:\n",
        "    조건문이 성립할 때 실행되는 구문\n",
        "else:\n",
        "    조건문 외의 경우가 성립할 때 실행되는 구문\n",
        "```\n",
        "else랑 같이 써주면 좋음.if는"
      ]
    },
    {
      "cell_type": "code",
      "execution_count": null,
      "metadata": {
        "id": "S1XWQ5q2nSxg",
        "colab": {
          "base_uri": "https://localhost:8080/"
        },
        "outputId": "feec0d8b-8528-42b6-b517-9d038aaa7eba"
      },
      "outputs": [
        {
          "output_type": "stream",
          "name": "stdout",
          "text": [
            "True\n"
          ]
        }
      ],
      "source": [
        "if False:\n",
        "      print(\"False\")\n",
        "else:\n",
        "      print(\"True\")"
      ]
    },
    {
      "cell_type": "code",
      "source": [
        "import random\n",
        "num = random.randint(1,11) # 임의의 숫자가 선언\n",
        "\n",
        "if num %2 : \n",
        "    print( num, \"홀수입니다.\")\n",
        "else :\n",
        "  print ( num, \"짝수입니다.\")"
      ],
      "metadata": {
        "colab": {
          "base_uri": "https://localhost:8080/"
        },
        "id": "EPaZptFCWeqM",
        "outputId": "b611ee7a-8e39-438e-c443-6e6b0eff0246"
      },
      "execution_count": 6,
      "outputs": [
        {
          "output_type": "stream",
          "name": "stdout",
          "text": [
            "2 짝수입니다.\n"
          ]
        }
      ]
    },
    {
      "cell_type": "code",
      "execution_count": null,
      "metadata": {
        "id": "pavOaJtUnSxh",
        "colab": {
          "base_uri": "https://localhost:8080/"
        },
        "outputId": "58d18032-84b6-469f-e174-e887dac5f6db"
      },
      "outputs": [
        {
          "output_type": "stream",
          "name": "stdout",
          "text": [
            "숫자를 입력하세요: 20\n",
            "짝수 입니다\n"
          ]
        }
      ],
      "source": [
        "# 홀수 짝수 판별기\n",
        "num = int(input(\"숫자를 입력하세요:\"))\n",
        "\n",
        "if num % 2:\n",
        "      print(\"홀수 입니다\")\n",
        "else:\n",
        "      print(\"짝수 입니다\")"
      ]
    },
    {
      "cell_type": "markdown",
      "metadata": {
        "id": "pevqr7cPnSxh"
      },
      "source": [
        "#### if elif else\n",
        "```python\n",
        "if 조건문1:\n",
        "    실행문1\n",
        "elif 조건문2:\n",
        "    실행문2\n",
        "else:\n",
        "    실행문3\n",
        "```\n",
        "    if 조건문부터 순차적으로 확인한 후 True의 경우일 때 해당 조건의 실행문이 실행된다"
      ]
    },
    {
      "cell_type": "markdown",
      "source": [
        "elif는 또 다른 조건을 붙여주는겅임\n"
      ],
      "metadata": {
        "id": "0M8rdQcmXA8R"
      }
    },
    {
      "cell_type": "code",
      "source": [
        "wallet = int(input(\"금액을 입력하세요: \")) # int 형변환, input : 데이터를 받는 함수, string 타입으로 데이터를 받음\n",
        "if wallet >= 30000:\n",
        "    print(\"허니콤보\")\n",
        "elif wallet >= 10000:\n",
        "    print(\"치킨마요\")\n",
        "elif wallet >= 5000 :\n",
        "    print(\"치킨마요삼각김밥\")\n",
        "else:\n",
        "    print(\"굶기\")"
      ],
      "metadata": {
        "colab": {
          "base_uri": "https://localhost:8080/"
        },
        "id": "FINrpmylXHRN",
        "outputId": "b7592639-3b12-4ecd-c59b-3e5dc4c62ef3"
      },
      "execution_count": 7,
      "outputs": [
        {
          "output_type": "stream",
          "name": "stdout",
          "text": [
            "금액을 입력하세요: 35000\n",
            "허니콤보\n"
          ]
        }
      ]
    },
    {
      "cell_type": "code",
      "execution_count": null,
      "metadata": {
        "id": "L7Lrncm1nSxi",
        "colab": {
          "base_uri": "https://localhost:8080/"
        },
        "outputId": "6595ae18-b77d-4b13-ae61-189cf961758e"
      },
      "outputs": [
        {
          "output_type": "stream",
          "name": "stdout",
          "text": [
            "금액을 입력하세요: 15000\n",
            "치킨 대신 치킨마요\n"
          ]
        }
      ],
      "source": [
        "# 잔고에 따라 저녁메뉴 선택하기\n",
        "wallet = int(input(\"금액을 입력하세요: \"))\n",
        "\n",
        "if wallet >= 20000:\n",
        "      print(\"허니콤보!\")\n",
        "elif wallet >= 10000:\n",
        "      print(\"치킨 대신 치킨마요\")\n",
        "elif wallet >= 5000 :\n",
        "      print(\"분식집 치콜.\")\n",
        "else:\n",
        "      print(\"그림의 치킨\")\n"
      ]
    },
    {
      "cell_type": "markdown",
      "metadata": {
        "id": "mzmN1DTqnSxi"
      },
      "source": [
        "#### 삼항연산자\n",
        "    한줄의 코드로 if, else를 표현할 수 있는 방법\n",
        "```python\n",
        "실행문1 if 조건문1 else 실행문2\n",
        "```\n",
        "\n",
        "순서 잘 맞춰서 한줄에다가 쓰면 된다이거야."
      ]
    },
    {
      "cell_type": "code",
      "source": [
        "import random # kernel 실행 -> 재시작 함수 쓸 때 마다 이런거 써라. 칸별로 되어있을거아녀 코드 쓸 때, 모듈 쓸 때 작성하는 칸에 써줘라. 아니면 다 리셋된다? 에??\n",
        "\n",
        "num = random.randint(1,10)\n",
        "\n",
        "print(num, \"홀수!\") if num %2 else print(num, \"짝수!\")"
      ],
      "metadata": {
        "colab": {
          "base_uri": "https://localhost:8080/"
        },
        "id": "HJpsyMTBYV90",
        "outputId": "511040dc-e5c8-43c5-b146-507c9dfdf189"
      },
      "execution_count": 8,
      "outputs": [
        {
          "output_type": "stream",
          "name": "stdout",
          "text": [
            "2 짝수!\n"
          ]
        }
      ]
    },
    {
      "cell_type": "code",
      "execution_count": null,
      "metadata": {
        "id": "TgkCJTh6nSxi",
        "colab": {
          "base_uri": "https://localhost:8080/"
        },
        "outputId": "0d17c0af-c159-4305-f748-55231be9a91d"
      },
      "outputs": [
        {
          "output_type": "stream",
          "name": "stdout",
          "text": [
            "not zero\n"
          ]
        }
      ],
      "source": [
        "data = 1\n",
        "if data:\n",
        "      print(\"not zero\")\n",
        "else: \n",
        "    print(\"zero\")"
      ]
    },
    {
      "cell_type": "code",
      "execution_count": null,
      "metadata": {
        "id": "QdLoVh10nSxj",
        "colab": {
          "base_uri": "https://localhost:8080/"
        },
        "outputId": "43564aaf-ccc1-4159-a9f5-a5737345fe25"
      },
      "outputs": [
        {
          "output_type": "stream",
          "name": "stdout",
          "text": [
            "not zero\n"
          ]
        }
      ],
      "source": [
        "data = 1\n",
        "print(\"not zero\") if data else print(\"zero\")"
      ]
    }
  ],
  "metadata": {
    "hide_input": false,
    "kernelspec": {
      "display_name": "Python 3",
      "language": "python",
      "name": "python3"
    },
    "language_info": {
      "codemirror_mode": {
        "name": "ipython",
        "version": 3
      },
      "file_extension": ".py",
      "mimetype": "text/x-python",
      "name": "python",
      "nbconvert_exporter": "python",
      "pygments_lexer": "ipython3",
      "version": "3.8.5"
    },
    "toc": {
      "base_numbering": 1,
      "nav_menu": {},
      "number_sections": true,
      "sideBar": true,
      "skip_h1_title": false,
      "title_cell": "Table of Contents",
      "title_sidebar": "Contents",
      "toc_cell": false,
      "toc_position": {},
      "toc_section_display": true,
      "toc_window_display": false
    },
    "varInspector": {
      "cols": {
        "lenName": 16,
        "lenType": 16,
        "lenVar": 40
      },
      "kernels_config": {
        "python": {
          "delete_cmd_postfix": "",
          "delete_cmd_prefix": "del ",
          "library": "var_list.py",
          "varRefreshCmd": "print(var_dic_list())"
        },
        "r": {
          "delete_cmd_postfix": ") ",
          "delete_cmd_prefix": "rm(",
          "library": "var_list.r",
          "varRefreshCmd": "cat(var_dic_list()) "
        }
      },
      "types_to_exclude": [
        "module",
        "function",
        "builtin_function_or_method",
        "instance",
        "_Feature"
      ],
      "window_display": false
    },
    "colab": {
      "name": "lesson 05. Condition.ipynb",
      "provenance": [],
      "collapsed_sections": [],
      "include_colab_link": true
    }
  },
  "nbformat": 4,
  "nbformat_minor": 0
}