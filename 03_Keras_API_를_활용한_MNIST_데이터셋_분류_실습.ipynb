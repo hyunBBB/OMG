{
  "nbformat": 4,
  "nbformat_minor": 0,
  "metadata": {
    "colab": {
      "name": "03 Keras API 를 활용한 MNIST 데이터셋 분류 실습.ipynb",
      "provenance": [],
      "collapsed_sections": [],
      "include_colab_link": true
    },
    "kernelspec": {
      "name": "python3",
      "display_name": "Python 3"
    },
    "accelerator": "GPU"
  },
  "cells": [
    {
      "cell_type": "markdown",
      "metadata": {
        "id": "view-in-github",
        "colab_type": "text"
      },
      "source": [
        "<a href=\"https://colab.research.google.com/github/hyunBBB/OMG/blob/main/03_Keras_API_%EB%A5%BC_%ED%99%9C%EC%9A%A9%ED%95%9C_MNIST_%EB%8D%B0%EC%9D%B4%ED%84%B0%EC%85%8B_%EB%B6%84%EB%A5%98_%EC%8B%A4%EC%8A%B5.ipynb\" target=\"_parent\"><img src=\"https://colab.research.google.com/assets/colab-badge.svg\" alt=\"Open In Colab\"/></a>"
      ]
    },
    {
      "cell_type": "markdown",
      "metadata": {
        "id": "8pS_U8BL40Vl"
      },
      "source": [
        "## DNN(MLP) 모델을 이용한 MNIST 데이터 셋 분류"
      ]
    },
    {
      "cell_type": "code",
      "metadata": {
        "id": "Ef8vm3RO1rrU"
      },
      "source": [
        "from tensorflow.keras.datasets import mnist\n",
        "import matplotlib.pyplot as plt"
      ],
      "execution_count": 1,
      "outputs": []
    },
    {
      "cell_type": "markdown",
      "metadata": {
        "id": "nNtJH3Zq4xMW"
      },
      "source": [
        "* Step 1-1. Inptu tensor 와 Target tensor 준비(훈련데이터)"
      ]
    },
    {
      "cell_type": "code",
      "metadata": {
        "id": "FagQoa3n3HQ4",
        "colab": {
          "base_uri": "https://localhost:8080/"
        },
        "outputId": "1c98e0ff-8d45-4251-bae4-94a2113c5cef"
      },
      "source": [
        "(train_images, train_labels), (test_images, test_labels) = mnist.load_data()"
      ],
      "execution_count": 2,
      "outputs": [
        {
          "output_type": "stream",
          "name": "stdout",
          "text": [
            "Downloading data from https://storage.googleapis.com/tensorflow/tf-keras-datasets/mnist.npz\n",
            "11493376/11490434 [==============================] - 0s 0us/step\n",
            "11501568/11490434 [==============================] - 0s 0us/step\n"
          ]
        }
      ]
    },
    {
      "cell_type": "code",
      "metadata": {
        "id": "T-i6lXs8DGyg",
        "outputId": "7207b1f8-a96c-448f-87c6-ff67c1e158f0",
        "colab": {
          "base_uri": "https://localhost:8080/"
        }
      },
      "source": [
        "print(train_images.shape)\n",
        "print(train_labels.shape)"
      ],
      "execution_count": 3,
      "outputs": [
        {
          "output_type": "stream",
          "name": "stdout",
          "text": [
            "(60000, 28, 28)\n",
            "(60000,)\n"
          ]
        }
      ]
    },
    {
      "cell_type": "code",
      "metadata": {
        "id": "1YLPJZ_bDjuk",
        "outputId": "ac7122b1-250e-4aa8-9706-a56749e7b960",
        "colab": {
          "base_uri": "https://localhost:8080/"
        }
      },
      "source": [
        "train_images[0].shape"
      ],
      "execution_count": 4,
      "outputs": [
        {
          "output_type": "execute_result",
          "data": {
            "text/plain": [
              "(28, 28)"
            ]
          },
          "metadata": {},
          "execution_count": 4
        }
      ]
    },
    {
      "cell_type": "code",
      "metadata": {
        "id": "uMFvHjgV3pxl",
        "outputId": "4c32ecd4-959b-49fa-ca8a-8493578f69d6",
        "colab": {
          "base_uri": "https://localhost:8080/",
          "height": 265
        }
      },
      "source": [
        "plt.figure()\n",
        "plt.imshow(train_images[0])\n",
        "plt.colorbar()\n",
        "plt.grid(False)\n",
        "plt.show()"
      ],
      "execution_count": 5,
      "outputs": [
        {
          "output_type": "display_data",
          "data": {
            "text/plain": [
              "<Figure size 432x288 with 2 Axes>"
            ],
            "image/png": "[encoded data removed]"
          },
          "metadata": {
            "needs_background": "light"
          }
        }
      ]
    },
    {
      "cell_type": "code",
      "metadata": {
        "id": "-sTwx6P2_FU5",
        "outputId": "76f33bb3-b916-47cb-92ef-d312999f5b42",
        "colab": {
          "base_uri": "https://localhost:8080/"
        }
      },
      "source": [
        "train_labels[0]"
      ],
      "execution_count": 6,
      "outputs": [
        {
          "output_type": "execute_result",
          "data": {
            "text/plain": [
              "5"
            ]
          },
          "metadata": {},
          "execution_count": 6
        }
      ]
    },
    {
      "cell_type": "markdown",
      "metadata": {
        "id": "Qp-VcgxF5Q4a"
      },
      "source": [
        "* Step 1-2. 입력데이터의 전처리 "
      ]
    },
    {
      "cell_type": "code",
      "metadata": {
        "id": "e3paeKOX3QAw"
      },
      "source": [
        "# (60000, 28, 28) => (60000, 28*28)\n",
        "train_images = train_images.reshape((60000, 28*28))"
      ],
      "execution_count": 7,
      "outputs": []
    },
    {
      "cell_type": "code",
      "metadata": {
        "id": "pLFcE33fBoN7",
        "outputId": "47f49524-ff95-4c4c-9ce1-b122aa00aa0b",
        "colab": {
          "base_uri": "https://localhost:8080/"
        }
      },
      "source": [
        "print(train_images.shape)"
      ],
      "execution_count": 8,
      "outputs": [
        {
          "output_type": "stream",
          "name": "stdout",
          "text": [
            "(60000, 784)\n"
          ]
        }
      ]
    },
    {
      "cell_type": "code",
      "metadata": {
        "id": "-o_ZLww-D9BY",
        "outputId": "9eff7f3f-f8cc-403f-dab5-2a28d00fc635",
        "colab": {
          "base_uri": "https://localhost:8080/"
        }
      },
      "source": [
        "print(test_images.shape)"
      ],
      "execution_count": 9,
      "outputs": [
        {
          "output_type": "stream",
          "name": "stdout",
          "text": [
            "(10000, 28, 28)\n"
          ]
        }
      ]
    },
    {
      "cell_type": "code",
      "metadata": {
        "id": "g7yFighv3k9g"
      },
      "source": [
        "test_images = test_images.reshape((10000, 28*28))"
      ],
      "execution_count": 10,
      "outputs": []
    },
    {
      "cell_type": "code",
      "metadata": {
        "id": "7kc2GKtDBzjo",
        "outputId": "21751387-2ad4-4883-cde9-65fac8919f6f",
        "colab": {
          "base_uri": "https://localhost:8080/"
        }
      },
      "source": [
        "print(test_images.shape)"
      ],
      "execution_count": 11,
      "outputs": [
        {
          "output_type": "stream",
          "name": "stdout",
          "text": [
            "(10000, 784)\n"
          ]
        }
      ]
    },
    {
      "cell_type": "markdown",
      "metadata": {
        "id": "KPwL9WxM5YFP"
      },
      "source": [
        "* Step2. DNN(MLP) 모델 디자인"
      ]
    },
    {
      "cell_type": "code",
      "metadata": {
        "id": "EFB35ZRu37XG"
      },
      "source": [
        "from tensorflow.keras import models, layers"
      ],
      "execution_count": 12,
      "outputs": []
    },
    {
      "cell_type": "code",
      "metadata": {
        "id": "RPOSjnXFDrQb"
      },
      "source": [
        "model = models.Sequential()\n",
        "# hdden layer 256 퍼셉트론\n",
        "model.add(layers.Dense(units=256, activation='relu', input_shape=(28*28,)))\n",
        "model.add(layers.Dense(units=10, activation='softmax'))"
      ],
      "execution_count": 13,
      "outputs": []
    },
    {
      "cell_type": "code",
      "metadata": {
        "id": "mZwgW9oPDrhf",
        "outputId": "e9df1cbc-3887-4743-def2-41f41e4136c6",
        "colab": {
          "base_uri": "https://localhost:8080/"
        }
      },
      "source": [
        "model.summary()"
      ],
      "execution_count": 14,
      "outputs": [
        {
          "output_type": "stream",
          "name": "stdout",
          "text": [
            "Model: \"sequential\"\n",
            "_________________________________________________________________\n",
            " Layer (type)                Output Shape              Param #   \n",
            "=================================================================\n",
            " dense (Dense)               (None, 256)               200960    \n",
            "                                                                 \n",
            " dense_1 (Dense)             (None, 10)                2570      \n",
            "                                                                 \n",
            "=================================================================\n",
            "Total params: 203,530\n",
            "Trainable params: 203,530\n",
            "Non-trainable params: 0\n",
            "_________________________________________________________________\n"
          ]
        }
      ]
    },
    {
      "cell_type": "markdown",
      "metadata": {
        "id": "xOx2jz5X5lLW"
      },
      "source": [
        "* Step 3. 모델의 학습 정보 설정"
      ]
    },
    {
      "cell_type": "code",
      "metadata": {
        "id": "UruvLv1a4ufe"
      },
      "source": [
        "# loss, optimizer, metric\n",
        "model.compile(optimizer='rmsprop',\n",
        "              loss='sparse_categorical_crossentropy',\n",
        "              metrics=['accuracy'])"
      ],
      "execution_count": 15,
      "outputs": []
    },
    {
      "cell_type": "markdown",
      "metadata": {
        "id": "VUGa9Bs-5qRC"
      },
      "source": [
        "* Step 4. 모델에 input, target 데이터 연결 후 학습"
      ]
    },
    {
      "cell_type": "code",
      "metadata": {
        "id": "8AJEYEcW5I-l",
        "outputId": "eb5e3cd5-5fb9-482a-f0d5-602d546d5cd9",
        "colab": {
          "base_uri": "https://localhost:8080/"
        }
      },
      "source": [
        "history = model.fit(x=train_images, y=train_labels,\n",
        "                    epochs=30,\n",
        "                    batch_size=128,\n",
        "                    validation_split=0.2)"
      ],
      "execution_count": 16,
      "outputs": [
        {
          "output_type": "stream",
          "name": "stdout",
          "text": [
            "Epoch 1/30\n",
            "375/375 [==============================] - 5s 5ms/step - loss: 6.4617 - accuracy: 0.8766 - val_loss: 1.6254 - val_accuracy: 0.9287\n",
            "Epoch 2/30\n",
            "375/375 [==============================] - 2s 6ms/step - loss: 0.9313 - accuracy: 0.9428 - val_loss: 1.0233 - val_accuracy: 0.9369\n",
            "Epoch 3/30\n",
            "375/375 [==============================] - 2s 6ms/step - loss: 0.5645 - accuracy: 0.9579 - val_loss: 0.8030 - val_accuracy: 0.9488\n",
            "Epoch 4/30\n",
            "375/375 [==============================] - 1s 3ms/step - loss: 0.4009 - accuracy: 0.9660 - val_loss: 0.7792 - val_accuracy: 0.9549\n",
            "Epoch 5/30\n",
            "375/375 [==============================] - 1s 3ms/step - loss: 0.3155 - accuracy: 0.9725 - val_loss: 0.7419 - val_accuracy: 0.9587\n",
            "Epoch 6/30\n",
            "375/375 [==============================] - 1s 3ms/step - loss: 0.2901 - accuracy: 0.9754 - val_loss: 0.7572 - val_accuracy: 0.9617\n",
            "Epoch 7/30\n",
            "375/375 [==============================] - 1s 3ms/step - loss: 0.2365 - accuracy: 0.9790 - val_loss: 0.8137 - val_accuracy: 0.9605\n",
            "Epoch 8/30\n",
            "375/375 [==============================] - 1s 3ms/step - loss: 0.2142 - accuracy: 0.9815 - val_loss: 0.8165 - val_accuracy: 0.9643\n",
            "Epoch 9/30\n",
            "375/375 [==============================] - 1s 3ms/step - loss: 0.1959 - accuracy: 0.9835 - val_loss: 0.8375 - val_accuracy: 0.9645\n",
            "Epoch 10/30\n",
            "375/375 [==============================] - 1s 3ms/step - loss: 0.1663 - accuracy: 0.9855 - val_loss: 0.8177 - val_accuracy: 0.9665\n",
            "Epoch 11/30\n",
            "375/375 [==============================] - 1s 3ms/step - loss: 0.1688 - accuracy: 0.9863 - val_loss: 0.9063 - val_accuracy: 0.9657\n",
            "Epoch 12/30\n",
            "375/375 [==============================] - 1s 3ms/step - loss: 0.1598 - accuracy: 0.9870 - val_loss: 0.8991 - val_accuracy: 0.9668\n",
            "Epoch 13/30\n",
            "375/375 [==============================] - 1s 3ms/step - loss: 0.1446 - accuracy: 0.9888 - val_loss: 0.8551 - val_accuracy: 0.9668\n",
            "Epoch 14/30\n",
            "375/375 [==============================] - 1s 3ms/step - loss: 0.1584 - accuracy: 0.9883 - val_loss: 0.9272 - val_accuracy: 0.9722\n",
            "Epoch 15/30\n",
            "375/375 [==============================] - 1s 3ms/step - loss: 0.1341 - accuracy: 0.9903 - val_loss: 0.9660 - val_accuracy: 0.9723\n",
            "Epoch 16/30\n",
            "375/375 [==============================] - 1s 3ms/step - loss: 0.1420 - accuracy: 0.9904 - val_loss: 1.0042 - val_accuracy: 0.9726\n",
            "Epoch 17/30\n",
            "375/375 [==============================] - 1s 3ms/step - loss: 0.1329 - accuracy: 0.9909 - val_loss: 1.0469 - val_accuracy: 0.9697\n",
            "Epoch 18/30\n",
            "375/375 [==============================] - 1s 3ms/step - loss: 0.1286 - accuracy: 0.9912 - val_loss: 0.9619 - val_accuracy: 0.9741\n",
            "Epoch 19/30\n",
            "375/375 [==============================] - 1s 3ms/step - loss: 0.1147 - accuracy: 0.9919 - val_loss: 1.0038 - val_accuracy: 0.9749\n",
            "Epoch 20/30\n",
            "375/375 [==============================] - 1s 3ms/step - loss: 0.1106 - accuracy: 0.9925 - val_loss: 1.0846 - val_accuracy: 0.9716\n",
            "Epoch 21/30\n",
            "375/375 [==============================] - 1s 3ms/step - loss: 0.0996 - accuracy: 0.9929 - val_loss: 1.0858 - val_accuracy: 0.9706\n",
            "Epoch 22/30\n",
            "375/375 [==============================] - 1s 3ms/step - loss: 0.0995 - accuracy: 0.9929 - val_loss: 1.0942 - val_accuracy: 0.9722\n",
            "Epoch 23/30\n",
            "375/375 [==============================] - 1s 3ms/step - loss: 0.0841 - accuracy: 0.9937 - val_loss: 1.1774 - val_accuracy: 0.9693\n",
            "Epoch 24/30\n",
            "375/375 [==============================] - 1s 3ms/step - loss: 0.1009 - accuracy: 0.9939 - val_loss: 1.0374 - val_accuracy: 0.9743\n",
            "Epoch 25/30\n",
            "375/375 [==============================] - 1s 3ms/step - loss: 0.0762 - accuracy: 0.9948 - val_loss: 1.1726 - val_accuracy: 0.9702\n",
            "Epoch 26/30\n",
            "375/375 [==============================] - 1s 3ms/step - loss: 0.0809 - accuracy: 0.9944 - val_loss: 1.1532 - val_accuracy: 0.9733\n",
            "Epoch 27/30\n",
            "375/375 [==============================] - 1s 3ms/step - loss: 0.0849 - accuracy: 0.9945 - val_loss: 1.2577 - val_accuracy: 0.9707\n",
            "Epoch 28/30\n",
            "375/375 [==============================] - 1s 3ms/step - loss: 0.0801 - accuracy: 0.9948 - val_loss: 1.3282 - val_accuracy: 0.9724\n",
            "Epoch 29/30\n",
            "375/375 [==============================] - 1s 3ms/step - loss: 0.0829 - accuracy: 0.9948 - val_loss: 1.2400 - val_accuracy: 0.9735\n",
            "Epoch 30/30\n",
            "375/375 [==============================] - 1s 3ms/step - loss: 0.0553 - accuracy: 0.9958 - val_loss: 1.2445 - val_accuracy: 0.9748\n"
          ]
        }
      ]
    },
    {
      "cell_type": "markdown",
      "metadata": {
        "id": "furAOIhu5zxs"
      },
      "source": [
        "* 학습 과정 시각화 및 테스트"
      ]
    },
    {
      "cell_type": "code",
      "metadata": {
        "id": "H6T6jgh75RBV"
      },
      "source": [
        "acc = history.history['accuracy']\n",
        "val_acc = history.history['val_accuracy']\n",
        "\n",
        "loss = history.history['loss']\n",
        "val_loss = history.history['val_loss']"
      ],
      "execution_count": 17,
      "outputs": []
    },
    {
      "cell_type": "code",
      "metadata": {
        "id": "xLJjJr5KJFds",
        "outputId": "2881f02a-53a8-4a96-f3c0-487a50d776ef",
        "colab": {
          "base_uri": "https://localhost:8080/"
        }
      },
      "source": [
        "acc"
      ],
      "execution_count": 18,
      "outputs": [
        {
          "output_type": "execute_result",
          "data": {
            "text/plain": [
              "[0.8766250014305115,\n",
              " 0.9427916407585144,\n",
              " 0.9578750133514404,\n",
              " 0.9660208225250244,\n",
              " 0.9724583625793457,\n",
              " 0.9754375219345093,\n",
              " 0.9790208339691162,\n",
              " 0.9815416932106018,\n",
              " 0.9835208058357239,\n",
              " 0.9855416417121887,\n",
              " 0.9862708449363708,\n",
              " 0.9870208501815796,\n",
              " 0.9887708425521851,\n",
              " 0.9883333444595337,\n",
              " 0.9903333187103271,\n",
              " 0.9903749823570251,\n",
              " 0.9908750057220459,\n",
              " 0.9911875128746033,\n",
              " 0.9919166564941406,\n",
              " 0.9924583435058594,\n",
              " 0.9929375052452087,\n",
              " 0.9928958415985107,\n",
              " 0.9937499761581421,\n",
              " 0.9938541650772095,\n",
              " 0.9947708249092102,\n",
              " 0.9944166541099548,\n",
              " 0.9945208430290222,\n",
              " 0.9947916865348816,\n",
              " 0.9948124885559082,\n",
              " 0.9957916736602783]"
            ]
          },
          "metadata": {},
          "execution_count": 18
        }
      ]
    },
    {
      "cell_type": "code",
      "metadata": {
        "id": "3j7MM8fm6iE9",
        "outputId": "8892ec6f-5b57-4ae0-bb0b-ab16748c2636",
        "colab": {
          "base_uri": "https://localhost:8080/",
          "height": 281
        }
      },
      "source": [
        "epochs = range(len(acc))\n",
        "\n",
        "plt.plot(epochs, acc, 'bo', label='Training acc')\n",
        "plt.plot(epochs, val_acc, 'b', label='Validation acc')\n",
        "plt.title('Training and validation accuracy')\n",
        "plt.legend()\n",
        "\n",
        "plt.show()"
      ],
      "execution_count": 19,
      "outputs": [
        {
          "output_type": "display_data",
          "data": {
            "text/plain": [
              "<Figure size 432x288 with 1 Axes>"
            ],
            "image/png": "[encoded data removed]"
          },
          "metadata": {
            "needs_background": "light"
          }
        }
      ]
    },
    {
      "cell_type": "code",
      "metadata": {
        "id": "HNUQvmHP6vIM",
        "outputId": "3085fd4b-9813-4863-95ce-f645d7070d09",
        "colab": {
          "base_uri": "https://localhost:8080/",
          "height": 281
        }
      },
      "source": [
        "plt.plot(epochs, loss, 'bo', label='Training loss')\n",
        "plt.plot(epochs, val_loss, 'b', label='Validation loss')\n",
        "plt.title('Training and validation loss')\n",
        "plt.legend()\n",
        "\n",
        "plt.show()"
      ],
      "execution_count": 20,
      "outputs": [
        {
          "output_type": "display_data",
          "data": {
            "text/plain": [
              "<Figure size 432x288 with 1 Axes>"
            ],
            "image/png": "[encoded data removed]"
          },
          "metadata": {
            "needs_background": "light"
          }
        }
      ]
    },
    {
      "cell_type": "code",
      "metadata": {
        "id": "eG9iJI0665am",
        "outputId": "027317aa-674f-4e18-a14b-f0ccd5972998",
        "colab": {
          "base_uri": "https://localhost:8080/"
        }
      },
      "source": [
        "test_loss, test_acc = model.evaluate(x=test_images, y=test_labels)"
      ],
      "execution_count": 21,
      "outputs": [
        {
          "output_type": "stream",
          "name": "stdout",
          "text": [
            "313/313 [==============================] - 1s 2ms/step - loss: 1.0742 - accuracy: 0.9758\n"
          ]
        }
      ]
    },
    {
      "cell_type": "code",
      "metadata": {
        "id": "-P_J7YeIF-_Z"
      },
      "source": [
        "import numpy as np"
      ],
      "execution_count": 22,
      "outputs": []
    },
    {
      "cell_type": "code",
      "metadata": {
        "id": "EZWpP14rGFg1"
      },
      "source": [
        "predict = model.predict(test_images[0].reshape((1, 28*28)))"
      ],
      "execution_count": 23,
      "outputs": []
    },
    {
      "cell_type": "code",
      "metadata": {
        "id": "mn3zzBZSLfMU",
        "outputId": "1125d34e-7e28-4444-a429-b93036daadbe",
        "colab": {
          "base_uri": "https://localhost:8080/"
        }
      },
      "source": [
        "predict"
      ],
      "execution_count": 24,
      "outputs": [
        {
          "output_type": "execute_result",
          "data": {
            "text/plain": [
              "array([[0., 0., 0., 0., 0., 0., 0., 1., 0., 0.]], dtype=float32)"
            ]
          },
          "metadata": {},
          "execution_count": 24
        }
      ]
    },
    {
      "cell_type": "code",
      "metadata": {
        "id": "Sq9n67M6Lr5B",
        "outputId": "9345dbc2-2145-4284-a08b-b8198ac4d35c",
        "colab": {
          "base_uri": "https://localhost:8080/"
        }
      },
      "source": [
        "print(np.argmax(predict[0]))"
      ],
      "execution_count": 25,
      "outputs": [
        {
          "output_type": "stream",
          "name": "stdout",
          "text": [
            "7\n"
          ]
        }
      ]
    },
    {
      "cell_type": "code",
      "metadata": {
        "id": "G54imh60GYft",
        "outputId": "7ec8da52-93cb-4a65-89d7-1f54d4b7e410",
        "colab": {
          "base_uri": "https://localhost:8080/",
          "height": 265
        }
      },
      "source": [
        "plt.figure()\n",
        "plt.imshow(test_images[0].reshape(28, 28))\n",
        "plt.colorbar()\n",
        "plt.grid(False)\n",
        "plt.show()"
      ],
      "execution_count": 26,
      "outputs": [
        {
          "output_type": "display_data",
          "data": {
            "text/plain": [
              "<Figure size 432x288 with 2 Axes>"
            ],
            "image/png": "[encoded data removed]"
          },
          "metadata": {
            "needs_background": "light"
          }
        }
      ]
    },
    {
      "cell_type": "code",
      "metadata": {
        "id": "gsJSyA0fJMIU"
      },
      "source": [
        ""
      ],
      "execution_count": null,
      "outputs": []
    }
  ]
}