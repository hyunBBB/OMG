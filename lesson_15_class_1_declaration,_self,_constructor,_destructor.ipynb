{
  "cells": [
    {
      "cell_type": "markdown",
      "metadata": {
        "id": "view-in-github",
        "colab_type": "text"
      },
      "source": [
        "<a href=\"https://colab.research.google.com/github/hyunBBB/OMG/blob/main/lesson_15_class_1_declaration%2C_self%2C_constructor%2C_destructor.ipynb\" target=\"_parent\"><img src=\"https://colab.research.google.com/assets/colab-badge.svg\" alt=\"Open In Colab\"/></a>"
      ]
    },
    {
      "cell_type": "markdown",
      "metadata": {
        "id": "kcTLc-jJMJoA"
      },
      "source": [
        "## Class\n",
        "    - 변수와 함수를 묶어놓은 개념\n",
        "    - 클래스 선언\n",
        "        - 변수와 함수를 클래스 안에서 선언\n",
        "    - 클래스를 객체로 만들어서 클래스 안의 변수와 함수를 사용\n",
        "    - 인스턴스 : 클래스에서 만들어지는 개별적인 객체"
      ]
    },
    {
      "cell_type": "markdown",
      "metadata": {
        "id": "JKFYHklQMJoF"
      },
      "source": [
        "### Basic class"
      ]
    },
    {
      "cell_type": "markdown",
      "metadata": {
        "id": "gjM1blrfMJoG"
      },
      "source": [
        "#### class 선언"
      ]
    },
    {
      "cell_type": "code",
      "execution_count": 1,
      "metadata": {
        "id": "8x8k1qj_MJoG"
      },
      "outputs": [],
      "source": [
        "class Account:\n",
        "    \n",
        "    loan = 0 # 클래스 변수\n",
        "    deposit = 0\n",
        "    \n",
        "    def save(self, money): # self는 클래스를 불러오는 것같은데...클래스 안에 있는 걸 표기하려고 셀프라고 하는 것임. 바깥에서 클래서를 불러오기위해서... 엥\n",
        "        self.deposit += money\n",
        "        print(\"현재 계좌 잔액은 {}원 입니다.\".format(self.deposit))\n",
        "        \n",
        "    def withdraw(self, money):\n",
        "        self.deposit -= money\n",
        "        print(\"인출 금액은 {}원 입니다. 현재 계좌 잔액은 {}원 입니다.\".format(money, self.deposit))\n",
        "    \n",
        "    def debt(self, d_money):\n",
        "        self.deposit += d_money\n",
        "        self.credit_debt = d_money + self.loan\n",
        "        return -int(self.credit_debt)"
      ]
    },
    {
      "cell_type": "code",
      "execution_count": 2,
      "metadata": {
        "id": "CUAwx2RdMJoH"
      },
      "outputs": [],
      "source": [
        "acc = Account()"
      ]
    },
    {
      "cell_type": "code",
      "execution_count": 4,
      "metadata": {
        "id": "VFfx6igaMJoH",
        "colab": {
          "base_uri": "https://localhost:8080/"
        },
        "outputId": "38aead20-1663-4994-d594-8cec2aa4dcc5"
      },
      "outputs": [
        {
          "output_type": "execute_result",
          "data": {
            "text/plain": [
              "0"
            ]
          },
          "metadata": {},
          "execution_count": 4
        }
      ],
      "source": [
        "acc. loan # class 변수 확인하고 싶을 때."
      ]
    },
    {
      "cell_type": "markdown",
      "metadata": {
        "id": "FJs0e2BiMJoH"
      },
      "source": [
        "#### self\n",
        "    - 객체 자신"
      ]
    },
    {
      "cell_type": "code",
      "execution_count": 5,
      "metadata": {
        "id": "dnSOajdUMJoI"
      },
      "outputs": [],
      "source": [
        "acc2 = Account()"
      ]
    },
    {
      "cell_type": "code",
      "execution_count": 6,
      "metadata": {
        "id": "D85kSzWNMJoI",
        "colab": {
          "base_uri": "https://localhost:8080/"
        },
        "outputId": "b48f6b9b-6a8a-4daf-b49e-9e4f8364161a"
      },
      "outputs": [
        {
          "output_type": "stream",
          "name": "stdout",
          "text": [
            "빌린 돈이1000있습니다.\n"
          ]
        }
      ],
      "source": [
        "acc2.loan = 1000\n",
        "print(f'빌린 돈이{acc2.loan}있습니다.')"
      ]
    },
    {
      "cell_type": "code",
      "execution_count": 7,
      "metadata": {
        "id": "bKTitV0OMJoI",
        "colab": {
          "base_uri": "https://localhost:8080/"
        },
        "outputId": "4524dbc2-e39c-492d-b0df-c00c64c98b70"
      },
      "outputs": [
        {
          "output_type": "stream",
          "name": "stdout",
          "text": [
            "빚은 -6000 있습니다.\n"
          ]
        }
      ],
      "source": [
        "print(f'빚은 {acc2.debt(5000)} 있습니다.')"
      ]
    },
    {
      "cell_type": "markdown",
      "metadata": {
        "id": "sWDrnngAMJoJ"
      },
      "source": [
        "#### 생성자\n",
        "    - 클래스의 인스턴스 객체가 생성될 때 자동으로 호출되는 메소드\n",
        "    - 생성자는 객체의 인스턴스 변수들을 정의하고 초기화 한다."
      ]
    },
    {
      "cell_type": "code",
      "execution_count": 12,
      "metadata": {
        "id": "K-uEx3roMJoJ"
      },
      "outputs": [],
      "source": [
        "# 위에서 붙여 넣은 후 생성자 부분을 작성해주세요\n",
        "class Account:\n",
        "    def __intit__(self, loan=0):\n",
        "       self.deposit = 0\n",
        "       self.loan = loan\n",
        "       print(\"계좌가 개설되었습니다.\")\n",
        "\n",
        "    \n",
        "    def save(self, money): # self 가 중요? 뭘까...\n",
        "        self.deposit += money\n",
        "        print(\"현재 계좌 잔액은 {}원 입니다.\".format(self.deposit))\n",
        "        \n",
        "    def withdraw(self, money):\n",
        "        self.deposit -= money\n",
        "        print(\"인출 금액은 {}원 입니다. 현재 계좌 잔액은 {}원 입니다.\".format(money, self.deposit))\n",
        "    \n",
        "    def debt(self, d_money):\n",
        "        self.deposit += d_money\n",
        "        self.credit_debt = d_money + self.loan\n",
        "        return -int(self.credit_debt)"
      ]
    },
    {
      "cell_type": "code",
      "source": [
        "acc3 = Account()"
      ],
      "metadata": {
        "id": "GXvg4-SMSAG8"
      },
      "execution_count": 18,
      "outputs": []
    },
    {
      "cell_type": "code",
      "execution_count": null,
      "metadata": {
        "id": "s8ZPeVv2MJoK",
        "colab": {
          "base_uri": "https://localhost:8080/",
          "height": 183
        },
        "outputId": "2355a74b-77ac-4550-bcb4-8ab2f9018958"
      },
      "outputs": [
        {
          "output_type": "error",
          "ename": "NameError",
          "evalue": "ignored",
          "traceback": [
            "\u001b[0;31m---------------------------------------------------------------------------\u001b[0m",
            "\u001b[0;31mNameError\u001b[0m                                 Traceback (most recent call last)",
            "\u001b[0;32m<ipython-input-10-32ce743a63d8>\u001b[0m in \u001b[0;36m<module>\u001b[0;34m()\u001b[0m\n\u001b[0;32m----> 1\u001b[0;31m \u001b[0macc3\u001b[0m\u001b[0;34m.\u001b[0m\u001b[0mloan\u001b[0m \u001b[0;34m=\u001b[0m \u001b[0;36m500\u001b[0m\u001b[0;34m\u001b[0m\u001b[0;34m\u001b[0m\u001b[0m\n\u001b[0m\u001b[1;32m      2\u001b[0m \u001b[0macc3\u001b[0m\u001b[0;34m.\u001b[0m\u001b[0mloan\u001b[0m\u001b[0;34m\u001b[0m\u001b[0;34m\u001b[0m\u001b[0m\n",
            "\u001b[0;31mNameError\u001b[0m: name 'acc3' is not defined"
          ]
        }
      ],
      "source": [
        "acc3.loan = 500\n",
        "acc3.loan\n"
      ]
    },
    {
      "cell_type": "code",
      "execution_count": null,
      "metadata": {
        "id": "pE8VsqKMMJoK"
      },
      "outputs": [],
      "source": [
        "# blank"
      ]
    },
    {
      "cell_type": "code",
      "execution_count": 17,
      "metadata": {
        "id": "AkWdsZI8MJoK",
        "colab": {
          "base_uri": "https://localhost:8080/",
          "height": 183
        },
        "outputId": "2c894e1a-4fcb-4006-9dfe-ccc55f9fc4e1"
      },
      "outputs": [
        {
          "output_type": "error",
          "ename": "TypeError",
          "evalue": "ignored",
          "traceback": [
            "\u001b[0;31m---------------------------------------------------------------------------\u001b[0m",
            "\u001b[0;31mTypeError\u001b[0m                                 Traceback (most recent call last)",
            "\u001b[0;32m<ipython-input-17-a1c9ab1adca1>\u001b[0m in \u001b[0;36m<module>\u001b[0;34m()\u001b[0m\n\u001b[0;32m----> 1\u001b[0;31m \u001b[0macc4\u001b[0m \u001b[0;34m=\u001b[0m \u001b[0mAccount\u001b[0m\u001b[0;34m(\u001b[0m\u001b[0;36m200\u001b[0m\u001b[0;34m)\u001b[0m\u001b[0;34m\u001b[0m\u001b[0;34m\u001b[0m\u001b[0m\n\u001b[0m\u001b[1;32m      2\u001b[0m \u001b[0mprint\u001b[0m\u001b[0;34m(\u001b[0m\u001b[0;34mf'계좌에 있떤 대출과 내가 빌린 빚의 합은 {acc4.debt(500)} 입니다.'\u001b[0m\u001b[0;34m)\u001b[0m\u001b[0;34m\u001b[0m\u001b[0;34m\u001b[0m\u001b[0m\n",
            "\u001b[0;31mTypeError\u001b[0m: Account() takes no arguments"
          ]
        }
      ],
      "source": [
        "acc4 = Account(200)\n",
        "print(f'계좌에 있떤 대출과 내가 빌린 빚의 합은 {acc4.debt(500)} 입니다.')"
      ]
    },
    {
      "cell_type": "code",
      "execution_count": null,
      "metadata": {
        "id": "9b6BxrpTMJoK"
      },
      "outputs": [],
      "source": [
        "# blank"
      ]
    },
    {
      "cell_type": "markdown",
      "metadata": {
        "id": "dL4DwbLFMJoL"
      },
      "source": [
        "#### 소멸자\n",
        "    - 객체가 사라질 때 자동으로 호출되는 함수"
      ]
    },
    {
      "cell_type": "code",
      "execution_count": null,
      "metadata": {
        "id": "hDuSe0usMJoL"
      },
      "outputs": [],
      "source": [
        "# 위에서 붙여 넣은 후 소멸자 부분을 작성해주세요\n",
        "# 위에서 붙여 넣은 후 생성자 부분을 작성해주세요\n",
        "class Account:\n",
        "    def __int__(self, loan=0):\n",
        "       self.deposit = 0\n",
        "       self.loan = 0\n",
        "       print(\"계좌가 개설되었습니다.\")\n",
        "\n",
        "    loan = 0 # 클래스 변수\n",
        "    deposit = 0\n",
        "    \n",
        "    def save(self, money): # self 가 중요? 뭘까...\n",
        "        self.deposit += money\n",
        "        print(\"현재 계좌 잔액은 {}원 입니다.\".format(self.deposit))\n",
        "        \n",
        "    def withdraw(self, money):\n",
        "        self.deposit -= money\n",
        "        print(\"인출 금액은 {}원 입니다. 현재 계좌 잔액은 {}원 입니다.\".format(money, self.deposit))\n",
        "    \n",
        "    def debt(self, d_money):\n",
        "        self.deposit += d_money\n",
        "        self.credit_debt = d_money + self.loan\n",
        "        return -int(self.credit_debt)\n",
        "        \n",
        "    def __del__(self):\n",
        "        print(\"계좌가 폐쇄되었습니다. 이용해주셔서 감사합니다.\")"
      ]
    },
    {
      "cell_type": "code",
      "execution_count": null,
      "metadata": {
        "id": "R7RfYlMoMJoL"
      },
      "outputs": [],
      "source": [
        "%reset"
      ]
    },
    {
      "cell_type": "code",
      "execution_count": 19,
      "metadata": {
        "id": "zh8JxZSoMJoL"
      },
      "outputs": [],
      "source": [
        "acc5 = Account()"
      ]
    },
    {
      "cell_type": "code",
      "source": [
        "왜왜오애왜왜오애ㅗ앵안돼니냔고니ㅚㅇ놰오애ㅑ론ㅁ율ㄴㅇ뮬ㅇ뉼율ㅇ뉼ㅇ도대체왜!!!!!!!!!!!!!!!!!!!!!!!!!!!!!!"
      ],
      "metadata": {
        "colab": {
          "base_uri": "https://localhost:8080/",
          "height": 131
        },
        "id": "AJiGk2wCD2Xz",
        "outputId": "79f5e163-1bce-4f77-9260-f39ae9fd3c85"
      },
      "execution_count": 20,
      "outputs": [
        {
          "output_type": "error",
          "ename": "SyntaxError",
          "evalue": "ignored",
          "traceback": [
            "\u001b[0;36m  File \u001b[0;32m\"<ipython-input-20-e45189ccfd28>\"\u001b[0;36m, line \u001b[0;32m1\u001b[0m\n\u001b[0;31m    왜왜오애왜왜오애ㅗ앵안돼니냔고니ㅚㅇ놰오애ㅑ론ㅁ율ㄴㅇ뮬ㅇ뉼율ㅇ뉼ㅇ도대체왜!!!!!!!!!!!!!!!!!!!!!!!!!!!!!!\u001b[0m\n\u001b[0m                                          ^\u001b[0m\n\u001b[0;31mSyntaxError\u001b[0m\u001b[0;31m:\u001b[0m invalid syntax\n"
          ]
        }
      ]
    },
    {
      "cell_type": "code",
      "source": [
        ""
      ],
      "metadata": {
        "id": "yK6awcu9D6MG"
      },
      "execution_count": null,
      "outputs": []
    }
  ],
  "metadata": {
    "hide_input": false,
    "kernelspec": {
      "display_name": "Python 3",
      "language": "python",
      "name": "python3"
    },
    "language_info": {
      "codemirror_mode": {
        "name": "ipython",
        "version": 3
      },
      "file_extension": ".py",
      "mimetype": "text/x-python",
      "name": "python",
      "nbconvert_exporter": "python",
      "pygments_lexer": "ipython3",
      "version": "3.8.5"
    },
    "toc": {
      "base_numbering": 1,
      "nav_menu": {},
      "number_sections": true,
      "sideBar": true,
      "skip_h1_title": false,
      "title_cell": "Table of Contents",
      "title_sidebar": "Contents",
      "toc_cell": false,
      "toc_position": {},
      "toc_section_display": true,
      "toc_window_display": false
    },
    "varInspector": {
      "cols": {
        "lenName": 16,
        "lenType": 16,
        "lenVar": 40
      },
      "kernels_config": {
        "python": {
          "delete_cmd_postfix": "",
          "delete_cmd_prefix": "del ",
          "library": "var_list.py",
          "varRefreshCmd": "print(var_dic_list())"
        },
        "r": {
          "delete_cmd_postfix": ") ",
          "delete_cmd_prefix": "rm(",
          "library": "var_list.r",
          "varRefreshCmd": "cat(var_dic_list()) "
        }
      },
      "types_to_exclude": [
        "module",
        "function",
        "builtin_function_or_method",
        "instance",
        "_Feature"
      ],
      "window_display": false
    },
    "colab": {
      "name": "lesson 15. class 1 - declaration, self, constructor, destructor.ipynb",
      "provenance": [],
      "collapsed_sections": [],
      "include_colab_link": true
    }
  },
  "nbformat": 4,
  "nbformat_minor": 0
}