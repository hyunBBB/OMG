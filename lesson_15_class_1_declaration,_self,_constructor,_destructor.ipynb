{
  "cells": [
    {
      "cell_type": "markdown",
      "metadata": {
        "id": "view-in-github",
        "colab_type": "text"
      },
      "source": [
        "<a href=\"https://colab.research.google.com/github/hyunBBB/OMG/blob/main/lesson_15_class_1_declaration%2C_self%2C_constructor%2C_destructor.ipynb\" target=\"_parent\"><img src=\"https://colab.research.google.com/assets/colab-badge.svg\" alt=\"Open In Colab\"/></a>"
      ]
    },
    {
      "cell_type": "markdown",
      "metadata": {
        "id": "kcTLc-jJMJoA"
      },
      "source": [
        "## Class\n",
        "    - 변수와 함수를 묶어놓은 개념\n",
        "    - 클래스 선언\n",
        "        - 변수와 함수를 클래스 안에서 선언\n",
        "    - 클래스를 객체로 만들어서 클래스 안의 변수와 함수를 사용\n",
        "    - 인스턴스 : 클래스에서 만들어지는 개별적인 객체"
      ]
    },
    {
      "cell_type": "markdown",
      "metadata": {
        "id": "JKFYHklQMJoF"
      },
      "source": [
        "### Basic class"
      ]
    },
    {
      "cell_type": "markdown",
      "metadata": {
        "id": "gjM1blrfMJoG"
      },
      "source": [
        "#### class 선언"
      ]
    },
    {
      "cell_type": "code",
      "execution_count": 1,
      "metadata": {
        "id": "8x8k1qj_MJoG"
      },
      "outputs": [],
      "source": [
        "class Account:\n",
        "    \n",
        "    loan = 0 # 클래스 변수\n",
        "    deposit = 0\n",
        "    \n",
        "    def save(self, money): # self 가 중요? 뭘까...\n",
        "        self.deposit += money\n",
        "        print(\"현재 계좌 잔액은 {}원 입니다.\".format(self.deposit))\n",
        "        \n",
        "    def withdraw(self, money):\n",
        "        self.deposit -= money\n",
        "        print(\"인출 금액은 {}원 입니다. 현재 계좌 잔액은 {}원 입니다.\".format(money, self.deposit))\n",
        "    \n",
        "    def debt(self, d_money):\n",
        "        self.deposit += d_money\n",
        "        self.credit_debt = d_money + self.loan\n",
        "        return -int(self.credit_debt)"
      ]
    },
    {
      "cell_type": "code",
      "execution_count": 2,
      "metadata": {
        "id": "CUAwx2RdMJoH"
      },
      "outputs": [],
      "source": [
        "acc = Account()"
      ]
    },
    {
      "cell_type": "code",
      "execution_count": 3,
      "metadata": {
        "id": "VFfx6igaMJoH",
        "colab": {
          "base_uri": "https://localhost:8080/"
        },
        "outputId": "768b0c68-447f-4ae1-a79d-868c88349dd4"
      },
      "outputs": [
        {
          "output_type": "execute_result",
          "data": {
            "text/plain": [
              "0"
            ]
          },
          "metadata": {},
          "execution_count": 3
        }
      ],
      "source": [
        "acc. loan # class 변수 확인하고 싶을 때."
      ]
    },
    {
      "cell_type": "markdown",
      "metadata": {
        "id": "FJs0e2BiMJoH"
      },
      "source": [
        "#### self\n",
        "    - 객체 자신"
      ]
    },
    {
      "cell_type": "code",
      "execution_count": 4,
      "metadata": {
        "id": "dnSOajdUMJoI"
      },
      "outputs": [],
      "source": [
        "acc2 = Account()"
      ]
    },
    {
      "cell_type": "code",
      "execution_count": 6,
      "metadata": {
        "id": "D85kSzWNMJoI",
        "colab": {
          "base_uri": "https://localhost:8080/"
        },
        "outputId": "d8ea90b3-b4d8-4909-ab81-e64b85eab4dd"
      },
      "outputs": [
        {
          "output_type": "stream",
          "name": "stdout",
          "text": [
            "빌린 돈이1000있습니다.\n"
          ]
        }
      ],
      "source": [
        "acc2.loan = 1000\n",
        "print(f'빌린 돈이{acc2.loan}있습니다.')"
      ]
    },
    {
      "cell_type": "code",
      "execution_count": 8,
      "metadata": {
        "id": "bKTitV0OMJoI",
        "colab": {
          "base_uri": "https://localhost:8080/"
        },
        "outputId": "78553fe0-af97-422b-c740-63051243ecea"
      },
      "outputs": [
        {
          "output_type": "stream",
          "name": "stdout",
          "text": [
            "빚은 -6000 있습니다.\n"
          ]
        }
      ],
      "source": [
        "print(f'빚은 {acc2.debt(5000)} 있습니다.')"
      ]
    },
    {
      "cell_type": "markdown",
      "metadata": {
        "id": "sWDrnngAMJoJ"
      },
      "source": [
        "#### 생성자\n",
        "    - 클래스의 인스턴스 객체가 생성될 때 자동으로 호출되는 메소드"
      ]
    },
    {
      "cell_type": "code",
      "execution_count": 12,
      "metadata": {
        "id": "K-uEx3roMJoJ"
      },
      "outputs": [],
      "source": [
        "# 위에서 붙여 넣은 후 생성자 부분을 작성해주세요\n",
        "class Account:\n",
        "    def __int__(self, loan=0):\n",
        "       self.deposit = 0\n",
        "       self.loan = 0\n",
        "       print(\"계좌가 개설되었습니다.\")\n",
        "\n",
        "    loan = 0 # 클래스 변수\n",
        "    deposit = 0\n",
        "    \n",
        "    def save(self, money): # self 가 중요? 뭘까...\n",
        "        self.deposit += money\n",
        "        print(\"현재 계좌 잔액은 {}원 입니다.\".format(self.deposit))\n",
        "        \n",
        "    def withdraw(self, money):\n",
        "        self.deposit -= money\n",
        "        print(\"인출 금액은 {}원 입니다. 현재 계좌 잔액은 {}원 입니다.\".format(money, self.deposit))\n",
        "    \n",
        "    def debt(self, d_money):\n",
        "        self.deposit += d_money\n",
        "        self.credit_debt = d_money + self.loan\n",
        "        return -int(self.credit_debt)"
      ]
    },
    {
      "cell_type": "code",
      "source": [
        ""
      ],
      "metadata": {
        "id": "GXvg4-SMSAG8"
      },
      "execution_count": null,
      "outputs": []
    },
    {
      "cell_type": "code",
      "execution_count": 10,
      "metadata": {
        "id": "s8ZPeVv2MJoK",
        "colab": {
          "base_uri": "https://localhost:8080/",
          "height": 183
        },
        "outputId": "2355a74b-77ac-4550-bcb4-8ab2f9018958"
      },
      "outputs": [
        {
          "output_type": "error",
          "ename": "NameError",
          "evalue": "ignored",
          "traceback": [
            "\u001b[0;31m---------------------------------------------------------------------------\u001b[0m",
            "\u001b[0;31mNameError\u001b[0m                                 Traceback (most recent call last)",
            "\u001b[0;32m<ipython-input-10-32ce743a63d8>\u001b[0m in \u001b[0;36m<module>\u001b[0;34m()\u001b[0m\n\u001b[0;32m----> 1\u001b[0;31m \u001b[0macc3\u001b[0m\u001b[0;34m.\u001b[0m\u001b[0mloan\u001b[0m \u001b[0;34m=\u001b[0m \u001b[0;36m500\u001b[0m\u001b[0;34m\u001b[0m\u001b[0;34m\u001b[0m\u001b[0m\n\u001b[0m\u001b[1;32m      2\u001b[0m \u001b[0macc3\u001b[0m\u001b[0;34m.\u001b[0m\u001b[0mloan\u001b[0m\u001b[0;34m\u001b[0m\u001b[0;34m\u001b[0m\u001b[0m\n",
            "\u001b[0;31mNameError\u001b[0m: name 'acc3' is not defined"
          ]
        }
      ],
      "source": [
        "acc3.loan = 500\n",
        "acc3.loan\n"
      ]
    },
    {
      "cell_type": "code",
      "execution_count": null,
      "metadata": {
        "id": "pE8VsqKMMJoK"
      },
      "outputs": [],
      "source": [
        "# blank"
      ]
    },
    {
      "cell_type": "code",
      "execution_count": null,
      "metadata": {
        "id": "AkWdsZI8MJoK"
      },
      "outputs": [],
      "source": [
        "# blank"
      ]
    },
    {
      "cell_type": "code",
      "execution_count": null,
      "metadata": {
        "id": "9b6BxrpTMJoK"
      },
      "outputs": [],
      "source": [
        "# blank"
      ]
    },
    {
      "cell_type": "markdown",
      "metadata": {
        "id": "dL4DwbLFMJoL"
      },
      "source": [
        "#### 소멸자\n",
        "    - 객체가 사라질 때 자동으로 호출되는 함수"
      ]
    },
    {
      "cell_type": "code",
      "execution_count": 13,
      "metadata": {
        "id": "hDuSe0usMJoL"
      },
      "outputs": [],
      "source": [
        "# 위에서 붙여 넣은 후 소멸자 부분을 작성해주세요\n",
        "# 위에서 붙여 넣은 후 생성자 부분을 작성해주세요\n",
        "class Account:\n",
        "    def __int__(self, loan=0):\n",
        "       self.deposit = 0\n",
        "       self.loan = 0\n",
        "       print(\"계좌가 개설되었습니다.\")\n",
        "\n",
        "    loan = 0 # 클래스 변수\n",
        "    deposit = 0\n",
        "    \n",
        "    def save(self, money): # self 가 중요? 뭘까...\n",
        "        self.deposit += money\n",
        "        print(\"현재 계좌 잔액은 {}원 입니다.\".format(self.deposit))\n",
        "        \n",
        "    def withdraw(self, money):\n",
        "        self.deposit -= money\n",
        "        print(\"인출 금액은 {}원 입니다. 현재 계좌 잔액은 {}원 입니다.\".format(money, self.deposit))\n",
        "    \n",
        "    def debt(self, d_money):\n",
        "        self.deposit += d_money\n",
        "        self.credit_debt = d_money + self.loan\n",
        "        return -int(self.credit_debt)\n",
        "    def __del__(self):\n",
        "        print(\"계좌가 폐쇄되었습니다. 이용해주셔서 감사합니다.\")"
      ]
    },
    {
      "cell_type": "code",
      "execution_count": null,
      "metadata": {
        "id": "R7RfYlMoMJoL"
      },
      "outputs": [],
      "source": [
        "%reset"
      ]
    },
    {
      "cell_type": "code",
      "execution_count": null,
      "metadata": {
        "id": "zh8JxZSoMJoL"
      },
      "outputs": [],
      "source": [
        "# blank"
      ]
    }
  ],
  "metadata": {
    "hide_input": false,
    "kernelspec": {
      "display_name": "Python 3",
      "language": "python",
      "name": "python3"
    },
    "language_info": {
      "codemirror_mode": {
        "name": "ipython",
        "version": 3
      },
      "file_extension": ".py",
      "mimetype": "text/x-python",
      "name": "python",
      "nbconvert_exporter": "python",
      "pygments_lexer": "ipython3",
      "version": "3.8.5"
    },
    "toc": {
      "base_numbering": 1,
      "nav_menu": {},
      "number_sections": true,
      "sideBar": true,
      "skip_h1_title": false,
      "title_cell": "Table of Contents",
      "title_sidebar": "Contents",
      "toc_cell": false,
      "toc_position": {},
      "toc_section_display": true,
      "toc_window_display": false
    },
    "varInspector": {
      "cols": {
        "lenName": 16,
        "lenType": 16,
        "lenVar": 40
      },
      "kernels_config": {
        "python": {
          "delete_cmd_postfix": "",
          "delete_cmd_prefix": "del ",
          "library": "var_list.py",
          "varRefreshCmd": "print(var_dic_list())"
        },
        "r": {
          "delete_cmd_postfix": ") ",
          "delete_cmd_prefix": "rm(",
          "library": "var_list.r",
          "varRefreshCmd": "cat(var_dic_list()) "
        }
      },
      "types_to_exclude": [
        "module",
        "function",
        "builtin_function_or_method",
        "instance",
        "_Feature"
      ],
      "window_display": false
    },
    "colab": {
      "name": "lesson 15. class 1 - declaration, self, constructor, destructor.ipynb",
      "provenance": [],
      "collapsed_sections": [],
      "include_colab_link": true
    }
  },
  "nbformat": 4,
  "nbformat_minor": 0
}