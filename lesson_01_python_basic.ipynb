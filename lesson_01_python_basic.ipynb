{
  "cells": [
    {
      "cell_type": "markdown",
      "metadata": {
        "id": "view-in-github",
        "colab_type": "text"
      },
      "source": [
        "<a href=\"https://colab.research.google.com/github/hyunBBB/OMG/blob/main/lesson_01_python_basic.ipynb\" target=\"_parent\"><img src=\"https://colab.research.google.com/assets/colab-badge.svg\" alt=\"Open In Colab\"/></a>"
      ]
    },
    {
      "cell_type": "markdown",
      "metadata": {
        "id": "zoBd_TdsxstR"
      },
      "source": [
        "## 환경구성\n",
        "    Anaconda 환경\n",
        "    jupyter notebook"
      ]
    },
    {
      "cell_type": "markdown",
      "metadata": {
        "id": "Lj8pCdnUxstV"
      },
      "source": [
        "### Jupyter notebook \n",
        "    mode\n",
        "        - 명령모드(esc)\n",
        "        - 편집모드(셀 선택 후 enter)"
      ]
    },
    {
      "cell_type": "code",
      "execution_count": null,
      "metadata": {
        "colab": {
          "base_uri": "https://localhost:8080/",
          "height": 131
        },
        "id": "olWLZsCuxstY",
        "outputId": "5ad950d9-bf05-49ff-bb58-e166506ae2e3"
      },
      "outputs": [
        {
          "output_type": "error",
          "ename": "IndentationError",
          "evalue": "ignored",
          "traceback": [
            "\u001b[0;36m  File \u001b[0;32m\"<ipython-input-1-6d2d4fb0c0f1>\"\u001b[0;36m, line \u001b[0;32m2\u001b[0m\n\u001b[0;31m    - markdown\u001b[0m\n\u001b[0m    ^\u001b[0m\n\u001b[0;31mIndentationError\u001b[0m\u001b[0;31m:\u001b[0m unexpected indent\n"
          ]
        }
      ],
      "source": [
        "style\n",
        "  - markdown\n",
        "  - code"
      ]
    },
    {
      "cell_type": "code",
      "execution_count": null,
      "metadata": {
        "id": "4m_sPfcSxsta"
      },
      "outputs": [],
      "source": [
        "단축키\n",
        "  - shift + enter : 아래 셀로 내려가면서 실행\n",
        "  - ctrl + enter : 현재 셀에 머무르면서 실행\n",
        "  - ctrl + M D : 현재 셀 삭제 \n",
        "  - a : 현재 선택된 셀 위에 새로운 셀 생성\n",
        "  - b : 현재 선택된 셀 아래에 새로운 셀 생성\n",
        "  - z : Undo (취소) \n",
        "  - spacebar : 현재 화면을 위로 올림"
      ]
    },
    {
      "cell_type": "markdown",
      "source": [
        ""
      ],
      "metadata": {
        "id": "c9MGnxKew-v4"
      }
    },
    {
      "cell_type": "markdown",
      "metadata": {
        "id": "0bHp9Fujxstb"
      },
      "source": [
        "    Style\n",
        "        - markdown\n",
        "        - code"
      ]
    },
    {
      "cell_type": "code",
      "source": [
        ""
      ],
      "metadata": {
        "id": "b-XXkG1nzDwZ"
      },
      "execution_count": null,
      "outputs": []
    },
    {
      "cell_type": "markdown",
      "source": [
        "###magic command\n",
        " - % : 한 줄의 magic command를 동작\n",
        " - %% : 셀 단위의 magic command를 동작\n",
        " - 주요 maigc command\n",
        "    - %pwd : 현재 jupyter notebook 파일의 경로\n",
        "    - %ls : 현재 디렉토리의 파일 리스트 출력\n",
        "    - %whos : 현재 선언된 변수들을 출력\n",
        "    - %reset : 현재 선언된 변수들을 전부 삭제"
      ],
      "metadata": {
        "id": "6rlTVMelzFb_"
      }
    },
    {
      "cell_type": "code",
      "source": [
        "%pwd\n",
        "%ls\n",
        "%whos"
      ],
      "metadata": {
        "colab": {
          "base_uri": "https://localhost:8080/"
        },
        "id": "gXFzZcbFzkC5",
        "outputId": "5b83be6f-3801-4f50-bb73-bb21a2371208"
      },
      "execution_count": null,
      "outputs": [
        {
          "output_type": "stream",
          "name": "stdout",
          "text": [
            "\u001b[0m\u001b[01;34msample_data\u001b[0m/\n",
            "Interactive namespace is empty.\n"
          ]
        }
      ]
    },
    {
      "cell_type": "markdown",
      "source": [
        ""
      ],
      "metadata": {
        "id": "IxO3ZZNMziVS"
      }
    },
    {
      "cell_type": "markdown",
      "source": [
        "Shell command\n",
        "- jupyter notebook을 실항한 shell 환경의 명령을 사용\n",
        "- 명령어 앞에 !를 붙여서 실행"
      ],
      "metadata": {
        "id": "pIfhaVvOxIY-"
      }
    },
    {
      "cell_type": "markdown",
      "metadata": {
        "id": "z5ZaBCn-xstd"
      },
      "source": [
        "이곳에는 노트를 작성하실 수 있습니다\n",
        "\n",
        "    - 1순위\n",
        "        - 2순위\n",
        "            - 3순위"
      ]
    },
    {
      "cell_type": "code",
      "execution_count": null,
      "metadata": {
        "id": "VdiYytxUxstf"
      },
      "outputs": [],
      "source": [
        "python code"
      ]
    },
    {
      "cell_type": "markdown",
      "metadata": {
        "id": "O3Gewk4hxstg"
      },
      "source": [
        "    \n",
        "    단축키\n",
        "        - shift+enter : 아래 셀로 내려가면서 실행\n",
        "        - ctrl+enter : 현재 셀에 머무르면서 실행      \n",
        "        - dd(명령모드) : 셀 삭제\n",
        "        - a : 현재 선택된 셀 위에 새로운 셀 생성\n",
        "        - b : 현재 선택된 셀 아래에 새로운 셀 생성\n",
        "        - spacebar : 현재 화면을 위로 올림"
      ]
    },
    {
      "cell_type": "code",
      "execution_count": null,
      "metadata": {
        "id": "juBPGaSvxsti",
        "outputId": "3aecbe42-016c-499f-8c3d-58fcbc390dd2"
      },
      "outputs": [
        {
          "name": "stdout",
          "output_type": "stream",
          "text": [
            "python\n"
          ]
        }
      ],
      "source": [
        "print(\"python\")"
      ]
    },
    {
      "cell_type": "code",
      "execution_count": null,
      "metadata": {
        "id": "cdaio2hjxstk"
      },
      "outputs": [],
      "source": [
        ""
      ]
    },
    {
      "cell_type": "code",
      "execution_count": null,
      "metadata": {
        "id": "jwHEWW2Axstl"
      },
      "outputs": [],
      "source": [
        ""
      ]
    },
    {
      "cell_type": "code",
      "execution_count": null,
      "metadata": {
        "id": "qSBeb6cdxstl"
      },
      "outputs": [],
      "source": [
        ""
      ]
    },
    {
      "cell_type": "code",
      "execution_count": null,
      "metadata": {
        "id": "9A-72Rsixstm"
      },
      "outputs": [],
      "source": [
        ""
      ]
    },
    {
      "cell_type": "markdown",
      "metadata": {
        "id": "-MY4Ljd1xstn"
      },
      "source": [
        "#### magic command\n",
        "    - % : 한 줄의 magic command를 동작\n",
        "    - %% : 셀 단위의 magic command를 동작\n",
        "    - 주요 magic command\n",
        "        %pwd : 현재 jupyter notebook 파일의 경로\n",
        "        %ls : 현재 디렉토리의 파일 리스트 출력\n",
        "        %whos : 현재 선언된 변수들을 출력\n",
        "        %reset : 현재 선언된 변수들을 전부 삭제"
      ]
    },
    {
      "cell_type": "code",
      "execution_count": 2,
      "metadata": {
        "id": "7q4_tCOHxsto",
        "outputId": "123480e0-8df6-4a98-8596-26859e0d2b7f",
        "colab": {
          "base_uri": "https://localhost:8080/",
          "height": 35
        }
      },
      "outputs": [
        {
          "output_type": "execute_result",
          "data": {
            "text/plain": [
              "'/content'"
            ],
            "application/vnd.google.colaboratory.intrinsic+json": {
              "type": "string"
            }
          },
          "metadata": {},
          "execution_count": 2
        }
      ],
      "source": [
        "%pwd"
      ]
    },
    {
      "cell_type": "markdown",
      "metadata": {
        "id": "u70b-D33xsto"
      },
      "source": [
        "#### shell command\n",
        "    - jupyter notebook을 실행한 shell 환경의 명령을 사용\n",
        "    - 명령어 앞에 !를 붙여서 실행 libarary생성. "
      ]
    },
    {
      "cell_type": "code",
      "execution_count": 4,
      "metadata": {
        "id": "BvbcDAPJxstp",
        "outputId": "4f0496b6-4c31-4eb8-d262-c6d77b247118",
        "colab": {
          "base_uri": "https://localhost:8080/"
        }
      },
      "outputs": [
        {
          "output_type": "stream",
          "name": "stdout",
          "text": [
            "Looking in indexes: https://pypi.org/simple, https://us-python.pkg.dev/colab-wheels/public/simple/\n",
            "Requirement already satisfied: simpleITK in /usr/local/lib/python3.7/dist-packages (2.1.1.2)\n"
          ]
        }
      ],
      "source": [
        "!pip install simpleITK"
      ]
    },
    {
      "cell_type": "markdown",
      "metadata": {
        "id": "shVkXDr9xstq"
      },
      "source": [
        "### 기본 문법\n",
        "    - 변수 선언, 식별자, 자료형, 형변환, 연산자"
      ]
    },
    {
      "cell_type": "markdown",
      "source": [
        ""
      ],
      "metadata": {
        "id": "dVsbR3-Fxqpf"
      }
    },
    {
      "cell_type": "markdown",
      "metadata": {
        "id": "eVanLxIzxstr"
      },
      "source": [
        "#### 주석과 출력\n",
        "    - 주석 : 작성한 문장 맨 앞에 #을 붙이면 주석처리(코드 설명)\n",
        "    - 출력 : 셀의 마지막 문장 하나만 결과로 출력\n",
        "            여러 결과나 코드 중간 변수 값을 출력하고 싶을때 print(출력물)로 작성\n",
        "\n",
        "\n",
        "            여러줄의 주석은 큰따옴표를 세번쓰기-> 코드에 전혀 영향을 안 줌\n",
        "            \"\"\"\n",
        "            안녕하세요\n",
        "            \"\"\"\n",
        "            이런식으로"
      ]
    },
    {
      "cell_type": "code",
      "source": [
        "print(\"Hello Python\")\n",
        "# print('안녕 파이썬')\n",
        "print('안녕하세요')\n",
        "\n",
        "\"\"\"\n",
        "여러줄의 주석은 세번쓰기\n",
        "코드에 전혀 영향을 주지 않는다\n",
        "\"\"\""
      ],
      "metadata": {
        "colab": {
          "base_uri": "https://localhost:8080/",
          "height": 70
        },
        "id": "LRJaVgqzyJql",
        "outputId": "12cd10ca-9a06-4d6e-c4e0-e97d3e313cb1"
      },
      "execution_count": 5,
      "outputs": [
        {
          "output_type": "stream",
          "name": "stdout",
          "text": [
            "Hello Python\n",
            "안녕하세요\n"
          ]
        },
        {
          "output_type": "execute_result",
          "data": {
            "text/plain": [
              "'\\n여러줄의 주석은 세번쓰기\\n코드에 전혀 영향을 주지 않는다\\n'"
            ],
            "application/vnd.google.colaboratory.intrinsic+json": {
              "type": "string"
            }
          },
          "metadata": {},
          "execution_count": 5
        }
      ]
    },
    {
      "cell_type": "markdown",
      "source": [
        ""
      ],
      "metadata": {
        "id": "_h3bFMOJykfJ"
      }
    },
    {
      "cell_type": "code",
      "source": [
        "\"\"\"이 안에 설명ㄹ을 쓰시면 됩니다.\"\"\""
      ],
      "metadata": {
        "id": "nxjS3NJmyfKZ"
      },
      "execution_count": null,
      "outputs": []
    },
    {
      "cell_type": "markdown",
      "source": [
        ""
      ],
      "metadata": {
        "id": "Wh6piqzVykIk"
      }
    },
    {
      "cell_type": "code",
      "execution_count": null,
      "metadata": {
        "id": "BoaAFzR8xsts"
      },
      "outputs": [],
      "source": [
        "# as dkddkdkdkdkdkdkdk thrhrl ajrrhtlvek # 여기는 코드의 영역이 아닙니다\n",
        "# python\n",
        "# easyup\n",
        "# easy"
      ]
    },
    {
      "cell_type": "code",
      "execution_count": null,
      "metadata": {
        "id": "czpMjqQexsts",
        "outputId": "05796503-daab-41e6-ee49-437fe3eed0e3"
      },
      "outputs": [
        {
          "name": "stdout",
          "output_type": "stream",
          "text": [
            "출력 예제 입니다\n"
          ]
        }
      ],
      "source": [
        "print(\"출력 예제 입니다\")"
      ]
    },
    {
      "cell_type": "code",
      "execution_count": null,
      "metadata": {
        "id": "AgCdz1Uaxstt",
        "outputId": "8439fb82-8666-4c04-8fea-e22c7c1e9f5f"
      },
      "outputs": [
        {
          "data": {
            "text/plain": [
              "30"
            ]
          },
          "execution_count": 8,
          "metadata": {},
          "output_type": "execute_result"
        }
      ],
      "source": [
        "a = 10\n",
        "b = 20\n",
        "# print(a+b)\n",
        "a + b"
      ]
    },
    {
      "cell_type": "code",
      "execution_count": 6,
      "metadata": {
        "id": "S_vu5ypjxstu",
        "outputId": "d29d34b8-9b9d-4431-caa1-51b152796938",
        "colab": {
          "base_uri": "https://localhost:8080/",
          "height": 35
        }
      },
      "outputs": [
        {
          "output_type": "execute_result",
          "data": {
            "text/plain": [
              "'이 안에 설명을 쓰시면 됩니다.'"
            ],
            "application/vnd.google.colaboratory.intrinsic+json": {
              "type": "string"
            }
          },
          "metadata": {},
          "execution_count": 6
        }
      ],
      "source": [
        "\"\"\"이 안에 설명을 쓰시면 됩니다.\"\"\""
      ]
    },
    {
      "cell_type": "code",
      "execution_count": 7,
      "metadata": {
        "id": "zkqM92Pvxstu",
        "outputId": "230e5c38-6839-40ef-c371-b4521587ce4c",
        "colab": {
          "base_uri": "https://localhost:8080/"
        }
      },
      "outputs": [
        {
          "output_type": "stream",
          "name": "stdout",
          "text": [
            "1\n",
            "2\n",
            "3\n",
            "4\n",
            "5\n",
            "6\n",
            "7\n",
            "8\n",
            "9\n",
            "10\n"
          ]
        }
      ],
      "source": [
        "for i in range(1, 11):\n",
        "    \"\"\"반복문 작성\"\"\"\n",
        "    print(i)"
      ]
    },
    {
      "cell_type": "markdown",
      "source": [
        "for 문은 반복문\n",
        "파이썬 수는 0부터 시작.\n",
        "(11-1 해서 10기의 숫자가 나오는 것"
      ],
      "metadata": {
        "id": "8rI285CTy3Gx"
      }
    },
    {
      "cell_type": "markdown",
      "metadata": {
        "id": "D3luQffOxstv"
      },
      "source": [
        "    - docstring : 함수의 사용법을 설명 (단축키: shift+tab)\n",
        "    - 자동완성 : 코드의 일부분만 작성하고 뒷부분을 자동으로 채워주는 기능 (단축키: tab)"
      ]
    },
    {
      "cell_type": "code",
      "execution_count": 8,
      "metadata": {
        "id": "eH95wapHxstw",
        "colab": {
          "base_uri": "https://localhost:8080/"
        },
        "outputId": "6563fa31-d62d-4909-a20b-7c9ee8bd702d"
      },
      "outputs": [
        {
          "output_type": "execute_result",
          "data": {
            "text/plain": [
              "<function Random.random>"
            ]
          },
          "metadata": {},
          "execution_count": 8
        }
      ],
      "source": [
        "import random # random 이라는 라이브러리를 불러오는 것.\n",
        "random.randint\n",
        "random.random"
      ]
    },
    {
      "cell_type": "code",
      "execution_count": null,
      "metadata": {
        "id": "QbOXhYgRxstw"
      },
      "outputs": [],
      "source": [
        "random.randint, random.random"
      ]
    },
    {
      "cell_type": "markdown",
      "metadata": {
        "id": "ACjd-OeKxstx"
      },
      "source": [
        "#### 변수 선언\n",
        "    RAM 저장 공간에 값을 할당하는 행위"
      ]
    },
    {
      "cell_type": "code",
      "execution_count": 9,
      "metadata": {
        "id": "v8k7JEMxxstx",
        "outputId": "4832147f-7120-4a43-b329-2dbf874a5492",
        "colab": {
          "base_uri": "https://localhost:8080/"
        }
      },
      "outputs": [
        {
          "output_type": "stream",
          "name": "stdout",
          "text": [
            "30\n"
          ]
        }
      ],
      "source": [
        "a = 10\n",
        "b = 20\n",
        "c = a+b\n",
        "print(c)"
      ]
    },
    {
      "cell_type": "code",
      "execution_count": 10,
      "metadata": {
        "id": "E5ItdmSbxsty",
        "outputId": "38c0b137-cb63-4f60-f12a-59737cf4ca2f",
        "colab": {
          "base_uri": "https://localhost:8080/"
        }
      },
      "outputs": [
        {
          "output_type": "stream",
          "name": "stdout",
          "text": [
            "40 50 60\n"
          ]
        }
      ],
      "source": [
        "d, e, f = 40, 50, 60\n",
        "print(d, e, f)"
      ]
    },
    {
      "cell_type": "code",
      "execution_count": 11,
      "metadata": {
        "id": "RIJYzIOqxstz",
        "outputId": "ac8c7796-6e24-440d-ef05-b1ae0f27832f",
        "colab": {
          "base_uri": "https://localhost:8080/"
        }
      },
      "outputs": [
        {
          "output_type": "stream",
          "name": "stdout",
          "text": [
            "70 70\n"
          ]
        }
      ],
      "source": [
        "g = h = 70\n",
        "print(g, h)"
      ]
    },
    {
      "cell_type": "code",
      "source": [
        "import numpy as np # numpy 라이브러리를 불러옴 . as np는 np라고 줄여서 하고싶을 때 씀.\n",
        "a = np.random.randint(0, 10,(10,10)) # 행렬의 크기가 10X10이고 값들은 0부터 9까지 \n",
        "b = np.random.randint(11,20,(10,10))\n",
        "print(a, \"Wn\", b, \"Wn\", a+b) # W가 아니라 그 원을 표시하는 더블우에 작대기 간 건데 그걸 쓰면 나처럼 저렇게 혼자 길게 나오는 놈 없음"
      ],
      "metadata": {
        "colab": {
          "base_uri": "https://localhost:8080/"
        },
        "id": "EU0pzdhfztII",
        "outputId": "f070eb8e-0dc6-4c43-970c-249ca329458f"
      },
      "execution_count": 12,
      "outputs": [
        {
          "output_type": "stream",
          "name": "stdout",
          "text": [
            "[[5 8 9 6 6 5 8 4 2 8]\n",
            " [2 6 7 2 9 4 7 7 6 2]\n",
            " [4 0 6 5 0 0 9 3 6 7]\n",
            " [0 2 0 7 3 2 0 3 6 9]\n",
            " [3 4 5 3 4 5 7 8 4 0]\n",
            " [4 0 4 3 2 6 0 3 1 2]\n",
            " [5 5 2 3 0 2 0 6 1 8]\n",
            " [4 0 0 7 3 2 2 2 9 6]\n",
            " [8 2 8 7 2 2 5 1 2 5]\n",
            " [3 3 8 8 2 7 7 7 8 1]] Wn [[11 18 18 16 12 12 16 12 18 13]\n",
            " [19 12 11 17 13 16 13 16 17 18]\n",
            " [16 18 17 19 12 11 11 11 14 18]\n",
            " [12 12 18 17 16 13 12 14 11 15]\n",
            " [19 18 11 15 17 19 17 14 17 13]\n",
            " [19 18 15 12 11 19 16 14 17 11]\n",
            " [11 14 16 15 12 18 11 16 15 13]\n",
            " [17 18 11 13 15 12 13 14 18 18]\n",
            " [12 12 11 18 12 19 14 16 14 14]\n",
            " [16 15 13 15 18 16 11 19 12 19]] Wn [[16 26 27 22 18 17 24 16 20 21]\n",
            " [21 18 18 19 22 20 20 23 23 20]\n",
            " [20 18 23 24 12 11 20 14 20 25]\n",
            " [12 14 18 24 19 15 12 17 17 24]\n",
            " [22 22 16 18 21 24 24 22 21 13]\n",
            " [23 18 19 15 13 25 16 17 18 13]\n",
            " [16 19 18 18 12 20 11 22 16 21]\n",
            " [21 18 11 20 18 14 15 16 27 24]\n",
            " [20 14 19 25 14 21 19 17 16 19]\n",
            " [19 18 21 23 20 23 18 26 20 20]]\n"
          ]
        }
      ]
    },
    {
      "cell_type": "markdown",
      "metadata": {
        "id": "2ooPQR0wxstz"
      },
      "source": [
        "#### 식별자\n",
        "    - 변수, 함수, 클래스, 모듈 등의 이름\n",
        "    - 규칙\n",
        "        - 소문자, 대문자, 숫자, _ (low dash / under_score)\n",
        "        - 가장 앞에 숫자 사용 불가\n",
        "        - 예약어 사용 불가 (def, class, int, ...) : 이미 python에서 문법적으로 정의되어 있는 식별자\n",
        "        - Convention\n",
        "            - snake_case : 변수, 함수\n",
        "            - CamelCase : class"
      ]
    },
    {
      "cell_type": "code",
      "execution_count": 14,
      "metadata": {
        "id": "Ok92wVEYxst0",
        "outputId": "dd182bf9-a0bf-4ec6-9b57-f17e6cc5aa5c",
        "colab": {
          "base_uri": "https://localhost:8080/"
        }
      },
      "outputs": [
        {
          "output_type": "stream",
          "name": "stdout",
          "text": [
            "['False', 'None', 'True', 'and', 'as', 'assert', 'async', 'await', 'break', 'class', 'continue', 'def', 'del', 'elif', 'else', 'except', 'finally', 'for', 'from', 'global', 'if', 'import', 'in', 'is', 'lambda', 'nonlocal', 'not', 'or', 'pass', 'raise', 'return', 'try', 'while', 'with', 'yield']\n"
          ]
        }
      ],
      "source": [
        "import keyword # 파이썬에서 사용되는 식별자 쭉 나옴.\n",
        "print(keyword.kwlist)"
      ]
    },
    {
      "cell_type": "code",
      "execution_count": null,
      "metadata": {
        "id": "SGm4gOtwxst0"
      },
      "outputs": [],
      "source": [
        "candy_bar\n",
        "LowDashError\n",
        "# 이 부분 설명 안 하심."
      ]
    },
    {
      "cell_type": "markdown",
      "source": [
        ""
      ],
      "metadata": {
        "id": "5lD5exBs1ghY"
      }
    },
    {
      "cell_type": "code",
      "source": [
        ""
      ],
      "metadata": {
        "id": "SpFTtWZn1jIL"
      },
      "execution_count": null,
      "outputs": []
    },
    {
      "cell_type": "markdown",
      "metadata": {
        "id": "ig-DmiQGxst1"
      },
      "source": [
        "#### 데이터 타입\n",
        "    - RAM 저장 공간을 효율적으로 사용하기 위해서 저장 공간의 타입 설정\n",
        "    - 동적 타이핑\n",
        "        - 변수 선언 시 저장되는 값에 따라서 자동으로 타입이 설정"
      ]
    },
    {
      "cell_type": "code",
      "execution_count": 16,
      "metadata": {
        "id": "8YMMTZtdxst1",
        "outputId": "0442f18d-67fa-4172-fc8d-c81226affeab",
        "colab": {
          "base_uri": "https://localhost:8080/"
        }
      },
      "outputs": [
        {
          "output_type": "stream",
          "name": "stdout",
          "text": [
            "No variables match your requested type.\n"
          ]
        }
      ],
      "source": [
        "%whos # ndarray는 numpyarray임. int는 정수 음의 정수 양의 정수 0 해서 그런 숫자.\n",
        "# flowtype?해서 정수 외 소수나 그런 실수들 실수!!!를 뜻\n",
        "#module 라이브러리 뭐시기...."
      ]
    },
    {
      "cell_type": "code",
      "execution_count": 17,
      "metadata": {
        "id": "kFR7lF3hxst2",
        "outputId": "4a7dd7eb-a4c3-482b-9037-14df8e3d67c7",
        "colab": {
          "base_uri": "https://localhost:8080/"
        }
      },
      "outputs": [
        {
          "output_type": "stream",
          "name": "stdout",
          "text": [
            "Once deleted, variables cannot be recovered. Proceed (y/[n])? y\n",
            "Don't know how to reset  #, please run `%reset?` for details\n",
            "Don't know how to reset  삭제, please run `%reset?` for details\n",
            "Don't know how to reset  하는, please run `%reset?` for details\n",
            "Don't know how to reset  거, please run `%reset?` for details\n",
            "Don't know how to reset  이거, please run `%reset?` for details\n",
            "Don't know how to reset  실행시키면, please run `%reset?` for details\n",
            "Don't know how to reset  숫자, please run `%reset?` for details\n",
            "Don't know how to reset  업서짐., please run `%reset?` for details\n"
          ]
        }
      ],
      "source": [
        "%reset # 삭제 하는 거 이거 실행시키면 숫자 업서짐."
      ]
    },
    {
      "cell_type": "code",
      "source": [
        "a = 1\n",
        "b = 'python'\n",
        "type(a), type(b) # type 하고 뭘 치면 a = 1 이자너 그거가 뭔지를 알려줌 1은 정수니까 int뜨는거임"
      ],
      "metadata": {
        "colab": {
          "base_uri": "https://localhost:8080/"
        },
        "id": "xNTD_C-N2ZnH",
        "outputId": "ed66ac13-8119-4517-cf53-1b5be3c2c47b"
      },
      "execution_count": 20,
      "outputs": [
        {
          "output_type": "execute_result",
          "data": {
            "text/plain": [
              "(int, str)"
            ]
          },
          "metadata": {},
          "execution_count": 20
        }
      ]
    },
    {
      "cell_type": "code",
      "execution_count": null,
      "metadata": {
        "id": "4WRdUEEAxst2",
        "outputId": "a57c870e-1e61-4c80-cfd1-df8addf7bfc2"
      },
      "outputs": [
        {
          "name": "stdout",
          "output_type": "stream",
          "text": [
            "Interactive namespace is empty.\n"
          ]
        }
      ],
      "source": [
        "%whos"
      ]
    },
    {
      "cell_type": "code",
      "execution_count": 21,
      "metadata": {
        "id": "MHqOOh9Zxst3",
        "outputId": "2070d46a-7e4e-4b7b-c44c-b9ef880ec506",
        "colab": {
          "base_uri": "https://localhost:8080/"
        }
      },
      "outputs": [
        {
          "output_type": "stream",
          "name": "stdout",
          "text": [
            "The Zen of Python, by Tim Peters\n",
            "\n",
            "Beautiful is better than ugly.\n",
            "Explicit is better than implicit.\n",
            "Simple is better than complex.\n",
            "Complex is better than complicated.\n",
            "Flat is better than nested.\n",
            "Sparse is better than dense.\n",
            "Readability counts.\n",
            "Special cases aren't special enough to break the rules.\n",
            "Although practicality beats purity.\n",
            "Errors should never pass silently.\n",
            "Unless explicitly silenced.\n",
            "In the face of ambiguity, refuse the temptation to guess.\n",
            "There should be one-- and preferably only one --obvious way to do it.\n",
            "Although that way may not be obvious at first unless you're Dutch.\n",
            "Now is better than never.\n",
            "Although never is often better than *right* now.\n",
            "If the implementation is hard to explain, it's a bad idea.\n",
            "If the implementation is easy to explain, it may be a good idea.\n",
            "Namespaces are one honking great idea -- let's do more of those!\n"
          ]
        }
      ],
      "source": [
        "import this\n",
        "# 심플한 파이썬의 철학 # simple is the best다 이거야"
      ]
    }
  ],
  "metadata": {
    "hide_input": false,
    "kernelspec": {
      "display_name": "Python 3",
      "language": "python",
      "name": "python3"
    },
    "language_info": {
      "codemirror_mode": {
        "name": "ipython",
        "version": 3
      },
      "file_extension": ".py",
      "mimetype": "text/x-python",
      "name": "python",
      "nbconvert_exporter": "python",
      "pygments_lexer": "ipython3",
      "version": "3.8.5"
    },
    "toc": {
      "base_numbering": 1,
      "nav_menu": {},
      "number_sections": true,
      "sideBar": true,
      "skip_h1_title": false,
      "title_cell": "Table of Contents",
      "title_sidebar": "Contents",
      "toc_cell": false,
      "toc_position": {},
      "toc_section_display": true,
      "toc_window_display": false
    },
    "varInspector": {
      "cols": {
        "lenName": 16,
        "lenType": 16,
        "lenVar": 40
      },
      "kernels_config": {
        "python": {
          "delete_cmd_postfix": "",
          "delete_cmd_prefix": "del ",
          "library": "var_list.py",
          "varRefreshCmd": "print(var_dic_list())"
        },
        "r": {
          "delete_cmd_postfix": ") ",
          "delete_cmd_prefix": "rm(",
          "library": "var_list.r",
          "varRefreshCmd": "cat(var_dic_list()) "
        }
      },
      "types_to_exclude": [
        "module",
        "function",
        "builtin_function_or_method",
        "instance",
        "_Feature"
      ],
      "window_display": false
    },
    "colab": {
      "name": "lesson 01. python basic.ipynb",
      "provenance": [],
      "include_colab_link": true
    }
  },
  "nbformat": 4,
  "nbformat_minor": 0
}