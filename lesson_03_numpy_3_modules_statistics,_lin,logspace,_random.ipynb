{
  "cells": [
    {
      "cell_type": "markdown",
      "metadata": {
        "id": "view-in-github",
        "colab_type": "text"
      },
      "source": [
        "<a href=\"https://colab.research.google.com/github/hyunBBB/OMG/blob/main/lesson_03_numpy_3_modules_statistics%2C_lin%2Clogspace%2C_random.ipynb\" target=\"_parent\"><img src=\"https://colab.research.google.com/assets/colab-badge.svg\" alt=\"Open In Colab\"/></a>"
      ]
    },
    {
      "cell_type": "markdown",
      "metadata": {
        "id": "oNAfiHIR3VbB"
      },
      "source": [
        "### Numpy modules"
      ]
    },
    {
      "cell_type": "code",
      "execution_count": 1,
      "metadata": {
        "ExecuteTime": {
          "end_time": "2021-02-02T03:35:32.486108Z",
          "start_time": "2021-02-02T03:35:32.473142Z"
        },
        "colab": {
          "base_uri": "https://localhost:8080/"
        },
        "id": "Qqok_OTP3VbG",
        "outputId": "93cddd7e-60f5-4678-9cd3-ec2bfa419e33"
      },
      "outputs": [
        {
          "output_type": "execute_result",
          "data": {
            "text/plain": [
              "array([26, 28, 30, 35, 27, 31, 44])"
            ]
          },
          "metadata": {},
          "execution_count": 1
        }
      ],
      "source": [
        "import numpy as np\n",
        "\n",
        "ary = np.random.randn(100)\n",
        "ary = [26, 28, 30, 35, 27, 31, 44]\n",
        "ary = np.array(ary)\n",
        "ary"
      ]
    },
    {
      "cell_type": "markdown",
      "metadata": {
        "id": "hgpiRXJ83VbM"
      },
      "source": [
        "#### Statistics modules\n",
        "    - max, min, median, mean, std, var\n",
        "    - cov, corrcoef"
      ]
    },
    {
      "cell_type": "code",
      "execution_count": 2,
      "metadata": {
        "ExecuteTime": {
          "end_time": "2021-02-02T03:38:09.267774Z",
          "start_time": "2021-02-02T03:38:09.249809Z"
        },
        "colab": {
          "base_uri": "https://localhost:8080/"
        },
        "id": "9csK2UEL3VbO",
        "outputId": "f75419d1-0c30-49b9-f9ab-8a6255596920"
      },
      "outputs": [
        {
          "output_type": "execute_result",
          "data": {
            "text/plain": [
              "(44, 26, 31.571428571428573, 33.38775510204081, 5.778213833187624)"
            ]
          },
          "metadata": {},
          "execution_count": 2
        }
      ],
      "source": [
        "np.max(ary), np.min(ary), np.mean(ary), np.var(ary), np.std(ary)"
      ]
    },
    {
      "cell_type": "markdown",
      "source": [
        "최대,최소,평군,편차 예?"
      ],
      "metadata": {
        "id": "MmwVgktm3i2v"
      }
    },
    {
      "cell_type": "markdown",
      "metadata": {
        "id": "N99ID9lK3VbP"
      },
      "source": [
        "#### linspace, logspace\n",
        "    - linspace : 설정한 범위에서 선형적으로 분할한 위치의 값을 출력\n",
        "    - logspace : 설정한 범위에서 로그로 분할한 위치의 값을 출력"
      ]
    },
    {
      "cell_type": "code",
      "execution_count": 3,
      "metadata": {
        "ExecuteTime": {
          "end_time": "2021-02-02T03:51:13.748004Z",
          "start_time": "2021-02-02T03:51:13.730613Z"
        },
        "colab": {
          "base_uri": "https://localhost:8080/"
        },
        "id": "8xRLA1763VbQ",
        "outputId": "6111e12c-2f41-4c23-d318-da6842651515"
      },
      "outputs": [
        {
          "output_type": "execute_result",
          "data": {
            "text/plain": [
              "array([  0.,  25.,  50.,  75., 100.])"
            ]
          },
          "metadata": {},
          "execution_count": 3
        }
      ],
      "source": [
        "np.linspace(0, 100, 5)"
      ]
    },
    {
      "cell_type": "markdown",
      "metadata": {
        "id": "GZZVWdzj3VbR"
      },
      "source": [
        "##### logspace\n",
        "    - log10(x1)=2, log_10(x_2)=4"
      ]
    },
    {
      "cell_type": "code",
      "execution_count": 4,
      "metadata": {
        "ExecuteTime": {
          "end_time": "2021-02-02T03:51:34.294992Z",
          "start_time": "2021-02-02T03:51:34.278064Z"
        },
        "colab": {
          "base_uri": "https://localhost:8080/"
        },
        "id": "YPl8Wj_h3VbS",
        "outputId": "da7eca07-09a7-45f6-a65d-869204b3c104"
      },
      "outputs": [
        {
          "output_type": "execute_result",
          "data": {
            "text/plain": [
              "array([  100.,  1000., 10000.])"
            ]
          },
          "metadata": {},
          "execution_count": 4
        }
      ],
      "source": [
        "np.logspace(2, 4, 3)"
      ]
    },
    {
      "cell_type": "markdown",
      "metadata": {
        "id": "Wdeu_kJw3VbT"
      },
      "source": [
        "##### 2000년 최저시급과 2019년 최저시급을 가정하여 선형적 증가 추세를 보고싶다면?"
      ]
    },
    {
      "cell_type": "code",
      "execution_count": 5,
      "metadata": {
        "ExecuteTime": {
          "end_time": "2021-02-02T03:59:45.411658Z",
          "start_time": "2021-02-02T03:59:45.397700Z"
        },
        "colab": {
          "base_uri": "https://localhost:8080/"
        },
        "id": "vfe0LbR63VbU",
        "outputId": "d01a2e06-caee-40ab-f68a-7dd0cff53c2e"
      },
      "outputs": [
        {
          "output_type": "execute_result",
          "data": {
            "text/plain": [
              "array([1600., 2350., 3100., 3850., 4600., 5350., 6100., 6850., 7600.,\n",
              "       8350.])"
            ]
          },
          "metadata": {},
          "execution_count": 5
        }
      ],
      "source": [
        "time_00 = 1600\n",
        "time_19 = 8350\n",
        "np.linspace(time_00, time_19, 10)"
      ]
    },
    {
      "cell_type": "markdown",
      "metadata": {
        "id": "BthD-mF-3VbV"
      },
      "source": [
        "#### numpy random module\n",
        "    - seed : 랜덤의 설정값\n",
        "    - rand : 균등분포로 난수 생생\n",
        "    - randn : 정규분포로 난수 생성\n",
        "    - randint : 균등분포로 정수 생성\n",
        "    - shuffle : 섞기\n",
        "    - choice : 데이터를 특정 확률로 뽑기"
      ]
    },
    {
      "cell_type": "markdown",
      "metadata": {
        "id": "Nxr_gier3VbW"
      },
      "source": [
        "##### seed"
      ]
    },
    {
      "cell_type": "code",
      "execution_count": 7,
      "metadata": {
        "ExecuteTime": {
          "end_time": "2021-02-02T04:02:41.739869Z",
          "start_time": "2021-02-02T04:02:41.715938Z"
        },
        "colab": {
          "base_uri": "https://localhost:8080/"
        },
        "id": "nKL_VmNz3VbX",
        "outputId": "12387025-87f8-43a9-b1e3-23e6307c2833"
      },
      "outputs": [
        {
          "output_type": "execute_result",
          "data": {
            "text/plain": [
              "(array([47, 22, 82, 19, 85, 15, 89, 74, 26, 11]),\n",
              " array([50, 25, 82, 32, 53, 92, 85, 17, 44, 59]),\n",
              " array([47, 22, 82, 19, 85, 15, 89, 74, 26, 11]))"
            ]
          },
          "metadata": {},
          "execution_count": 7
        }
      ],
      "source": [
        "np.random.seed(1) # arbitaray 랑 랜덤. 랜덤 분포 안에서 뽑는거, 알비트러리는 정말 무작위. \n",
        "res1 = np.random.randint(10, 100, 10)\n",
        "\n",
        "np.random.seed(2)\n",
        "res2 = np.random.randint(10, 100, 10)\n",
        "\n",
        "np.random.seed(1)\n",
        "res3 = np.random.randint(10, 100, 10)\n",
        "\n",
        "res1, res2, res3"
      ]
    },
    {
      "cell_type": "markdown",
      "metadata": {
        "id": "I_sS5ytu3VbY"
      },
      "source": [
        "##### rand"
      ]
    },
    {
      "cell_type": "code",
      "execution_count": 8,
      "metadata": {
        "ExecuteTime": {
          "end_time": "2021-02-02T04:03:09.315915Z",
          "start_time": "2021-02-02T04:03:09.301950Z"
        },
        "colab": {
          "base_uri": "https://localhost:8080/"
        },
        "id": "KWZADBR_3VbY",
        "outputId": "eaacd903-34a8-4966-ed03-2f5e23d51d77"
      },
      "outputs": [
        {
          "output_type": "execute_result",
          "data": {
            "text/plain": [
              "array([0.18626021, 0.34556073, 0.39676747, 0.53881673, 0.41919451,\n",
              "       0.6852195 , 0.20445225, 0.87811744, 0.02738759, 0.67046751])"
            ]
          },
          "metadata": {},
          "execution_count": 8
        }
      ],
      "source": [
        "np.random.rand(10)"
      ]
    },
    {
      "cell_type": "code",
      "execution_count": 9,
      "metadata": {
        "ExecuteTime": {
          "end_time": "2021-02-02T04:03:14.372029Z",
          "start_time": "2021-02-02T04:03:14.354077Z"
        },
        "colab": {
          "base_uri": "https://localhost:8080/"
        },
        "id": "GA4OtC6P3VbZ",
        "outputId": "9c30a468-bdae-432c-b971-84898325813d"
      },
      "outputs": [
        {
          "output_type": "execute_result",
          "data": {
            "text/plain": [
              "array([0.4173048 , 0.55868983, 0.14038694, 0.19810149, 0.80074457,\n",
              "       0.96826158, 0.31342418, 0.69232262, 0.87638915, 0.89460666])"
            ]
          },
          "metadata": {},
          "execution_count": 9
        }
      ],
      "source": [
        "np.random.rand(10)"
      ]
    },
    {
      "cell_type": "code",
      "execution_count": 10,
      "metadata": {
        "ExecuteTime": {
          "end_time": "2021-02-02T04:03:53.774231Z",
          "start_time": "2021-02-02T04:03:53.757305Z"
        },
        "colab": {
          "base_uri": "https://localhost:8080/"
        },
        "id": "4Ng7KiRh3VbZ",
        "outputId": "0e72791a-2b74-48a2-c971-0a9f80815bd3"
      },
      "outputs": [
        {
          "output_type": "execute_result",
          "data": {
            "text/plain": [
              "array([0.08504421, 0.03905478, 0.16983042, 0.8781425 , 0.09834683,\n",
              "       0.42110763, 0.95788953, 0.53316528, 0.69187711, 0.31551563])"
            ]
          },
          "metadata": {},
          "execution_count": 10
        }
      ],
      "source": [
        "np.random.rand(10)"
      ]
    },
    {
      "cell_type": "markdown",
      "metadata": {
        "id": "QiFVE-Pj3Vba"
      },
      "source": [
        "##### randn"
      ]
    },
    {
      "cell_type": "code",
      "execution_count": 11,
      "metadata": {
        "ExecuteTime": {
          "end_time": "2021-02-02T04:04:26.448528Z",
          "start_time": "2021-02-02T04:04:26.427612Z"
        },
        "colab": {
          "base_uri": "https://localhost:8080/"
        },
        "id": "7LSGuc6c3Vba",
        "outputId": "36d49fbb-dd07-4f06-e4c6-1a3df71beaa7"
      },
      "outputs": [
        {
          "output_type": "execute_result",
          "data": {
            "text/plain": [
              "array([ 0.90159072,  0.50249434,  0.90085595, -0.68372786, -0.12289023,\n",
              "       -0.93576943, -0.26788808,  0.53035547, -0.69166075, -0.39675353])"
            ]
          },
          "metadata": {},
          "execution_count": 11
        }
      ],
      "source": [
        "np.random.randn(10)"
      ]
    },
    {
      "cell_type": "markdown",
      "metadata": {
        "id": "xRXUTRMN3Vbb"
      },
      "source": [
        "##### randint"
      ]
    },
    {
      "cell_type": "code",
      "execution_count": 12,
      "metadata": {
        "ExecuteTime": {
          "end_time": "2021-02-02T04:16:06.671231Z",
          "start_time": "2021-02-02T04:16:06.653279Z"
        },
        "colab": {
          "base_uri": "https://localhost:8080/"
        },
        "id": "hHFWOpRr3Vbb",
        "outputId": "54c65d1c-db59-4633-92dc-7f8d7cb0568a"
      },
      "outputs": [
        {
          "output_type": "execute_result",
          "data": {
            "text/plain": [
              "array([[6, 4, 7, 9],\n",
              "       [1, 3, 8, 8],\n",
              "       [8, 4, 1, 9],\n",
              "       [8, 8, 2, 2]])"
            ]
          },
          "metadata": {},
          "execution_count": 12
        }
      ],
      "source": [
        "x = np.random.randint(1, 10, (4, 4))\n",
        "x"
      ]
    },
    {
      "cell_type": "code",
      "execution_count": 13,
      "metadata": {
        "ExecuteTime": {
          "end_time": "2021-02-02T04:16:08.734725Z",
          "start_time": "2021-02-02T04:16:08.721764Z"
        },
        "colab": {
          "base_uri": "https://localhost:8080/"
        },
        "id": "IPBuL8tv3Vbc",
        "outputId": "c8ceeadd-b4e1-45ff-d51e-22b179c798a0"
      },
      "outputs": [
        {
          "output_type": "execute_result",
          "data": {
            "text/plain": [
              "array([[8, 8, 2, 2],\n",
              "       [8, 4, 1, 9],\n",
              "       [6, 4, 7, 9],\n",
              "       [1, 3, 8, 8]])"
            ]
          },
          "metadata": {},
          "execution_count": 13
        }
      ],
      "source": [
        "np.random.shuffle(x)\n",
        "x"
      ]
    }
  ],
  "metadata": {
    "hide_input": false,
    "kernelspec": {
      "display_name": "Python 3",
      "language": "python",
      "name": "python3"
    },
    "language_info": {
      "codemirror_mode": {
        "name": "ipython",
        "version": 3
      },
      "file_extension": ".py",
      "mimetype": "text/x-python",
      "name": "python",
      "nbconvert_exporter": "python",
      "pygments_lexer": "ipython3",
      "version": "3.8.5"
    },
    "toc": {
      "base_numbering": 1,
      "nav_menu": {},
      "number_sections": true,
      "sideBar": true,
      "skip_h1_title": false,
      "title_cell": "Table of Contents",
      "title_sidebar": "Contents",
      "toc_cell": false,
      "toc_position": {},
      "toc_section_display": true,
      "toc_window_display": false
    },
    "varInspector": {
      "cols": {
        "lenName": 16,
        "lenType": 16,
        "lenVar": 40
      },
      "kernels_config": {
        "python": {
          "delete_cmd_postfix": "",
          "delete_cmd_prefix": "del ",
          "library": "var_list.py",
          "varRefreshCmd": "print(var_dic_list())"
        },
        "r": {
          "delete_cmd_postfix": ") ",
          "delete_cmd_prefix": "rm(",
          "library": "var_list.r",
          "varRefreshCmd": "cat(var_dic_list()) "
        }
      },
      "types_to_exclude": [
        "module",
        "function",
        "builtin_function_or_method",
        "instance",
        "_Feature"
      ],
      "window_display": false
    },
    "colab": {
      "name": "lesson 03. numpy 3 - modules statistics, lin,logspace, random.ipynb",
      "provenance": [],
      "include_colab_link": true
    }
  },
  "nbformat": 4,
  "nbformat_minor": 0
}