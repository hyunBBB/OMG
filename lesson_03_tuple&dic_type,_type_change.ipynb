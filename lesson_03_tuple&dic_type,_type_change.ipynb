{
  "cells": [
    {
      "cell_type": "markdown",
      "metadata": {
        "id": "view-in-github",
        "colab_type": "text"
      },
      "source": [
        "<a href=\"https://colab.research.google.com/github/hyunBBB/OMG/blob/main/lesson_03_tuple%26dic_type%2C_type_change.ipynb\" target=\"_parent\"><img src=\"https://colab.research.google.com/assets/colab-badge.svg\" alt=\"Open In Colab\"/></a>"
      ]
    },
    {
      "cell_type": "markdown",
      "metadata": {
        "id": "cCOOOfI6j2bE"
      },
      "source": [
        "### Tuple Function\n",
        "    list보다 같은 데이터를 가졌을 때 공간을 적게 사용"
      ]
    },
    {
      "cell_type": "markdown",
      "source": [
        "좋을 거 같지만 메모리 적어서 좋긴하지만 개발자가 잘 안 씀. 리스트는 pop append 가 가능한데 튜플은 좀... 안 씀"
      ],
      "metadata": {
        "id": "WDwwrxlAf8Bc"
      }
    },
    {
      "cell_type": "code",
      "execution_count": 1,
      "metadata": {
        "id": "EQ9-aEB8j2bI",
        "colab": {
          "base_uri": "https://localhost:8080/"
        },
        "outputId": "7575cb5d-2118-4c6a-abd9-c06a6dbf7f82"
      },
      "outputs": [
        {
          "output_type": "execute_result",
          "data": {
            "text/plain": [
              "(tuple, set, (1, 2, 3), {4, 5, 6})"
            ]
          },
          "metadata": {},
          "execution_count": 1
        }
      ],
      "source": [
        "tp1 = 1, 2, 3\n",
        "tp2 = {4, 5, 6}\n",
        "type(tp1), type(tp2), tp1, tp2"
      ]
    },
    {
      "cell_type": "code",
      "execution_count": 2,
      "metadata": {
        "id": "qG08grXUj2bJ",
        "colab": {
          "base_uri": "https://localhost:8080/"
        },
        "outputId": "4de148bf-7232-4c68-c5f7-3ba8fb29db8d"
      },
      "outputs": [
        {
          "output_type": "execute_result",
          "data": {
            "text/plain": [
              "(10, 20)"
            ]
          },
          "metadata": {},
          "execution_count": 2
        }
      ],
      "source": [
        "a, b = 10, 20\n",
        "a, b # a = 10, b= 20 이랑 같게 나옴"
      ]
    },
    {
      "cell_type": "markdown",
      "source": [
        ""
      ],
      "metadata": {
        "id": "3NaEaSzz-88m"
      }
    },
    {
      "cell_type": "markdown",
      "metadata": {
        "id": "WbzpX4Sqj2bK"
      },
      "source": [
        "#### list와 마찬가지로 offset index 사용 가능"
      ]
    },
    {
      "cell_type": "code",
      "execution_count": 9,
      "metadata": {
        "id": "ySNMfXqOj2bK",
        "colab": {
          "base_uri": "https://localhost:8080/",
          "height": 166
        },
        "outputId": "9e3d39d3-959e-4eed-aa78-bf3b2501c61f"
      },
      "outputs": [
        {
          "output_type": "error",
          "ename": "TypeError",
          "evalue": "ignored",
          "traceback": [
            "\u001b[0;31m---------------------------------------------------------------------------\u001b[0m",
            "\u001b[0;31mTypeError\u001b[0m                                 Traceback (most recent call last)",
            "\u001b[0;32m<ipython-input-9-fe43b47844dd>\u001b[0m in \u001b[0;36m<module>\u001b[0;34m()\u001b[0m\n\u001b[0;32m----> 1\u001b[0;31m \u001b[0mtp1\u001b[0m\u001b[0;34m[\u001b[0m\u001b[0;36m0\u001b[0m\u001b[0;34m]\u001b[0m\u001b[0;34m,\u001b[0m \u001b[0mtp2\u001b[0m\u001b[0;34m[\u001b[0m\u001b[0;34m:\u001b[0m\u001b[0;34m:\u001b[0m\u001b[0;34m-\u001b[0m\u001b[0;36m1\u001b[0m\u001b[0;34m]\u001b[0m\u001b[0;34m\u001b[0m\u001b[0;34m\u001b[0m\u001b[0m\n\u001b[0m",
            "\u001b[0;31mTypeError\u001b[0m: 'set' object is not subscriptable"
          ]
        }
      ],
      "source": [
        "tp1[0], tp2[::-1]"
      ]
    },
    {
      "cell_type": "markdown",
      "metadata": {
        "id": "4T34IxLfj2bL"
      },
      "source": [
        "#### list와 tuple의 저장공간 비교"
      ]
    },
    {
      "cell_type": "code",
      "execution_count": 8,
      "metadata": {
        "id": "antsMB4Oj2bL",
        "colab": {
          "base_uri": "https://localhost:8080/"
        },
        "outputId": "6d014df6-9e88-4ccc-f679-5d866706b564"
      },
      "outputs": [
        {
          "output_type": "stream",
          "name": "stdout",
          "text": [
            "96 80\n"
          ]
        }
      ],
      "source": [
        "import sys\n",
        "\n",
        "ls = [1, 2, 3]\n",
        "tp = (1, 2, 3)\n",
        "print(sys.getsizeof(ls), sys.getsizeof(tp))"
      ]
    },
    {
      "cell_type": "markdown",
      "metadata": {
        "id": "NYH3itGuj2bM"
      },
      "source": [
        "#### tuple 활용\n",
        "    절대로 변경이 되어선 안되는 데이터를 작성하는 경우"
      ]
    },
    {
      "cell_type": "code",
      "execution_count": 12,
      "metadata": {
        "id": "OhmJtql8j2bM",
        "colab": {
          "base_uri": "https://localhost:8080/"
        },
        "outputId": "b3da6d01-66e3-4de8-cd2f-e9c724cbdf63"
      },
      "outputs": [
        {
          "output_type": "stream",
          "name": "stdout",
          "text": [
            "<class 'tuple'> (0, 0.003)\n",
            "<class 'tuple'> (100000, (0, 0.003))\n",
            "300.0\n"
          ]
        }
      ],
      "source": [
        "# 카드 포인트 적립\n",
        "rate = (0, 0.003)\n",
        "print(type(rate), rate)\n",
        "card = 100_000 # 100,000 _가 ,라고 생각해라.\n",
        "# point = card * rate\n",
        "# point = card * 1.0 # 임의로 바꿔버리면 문제 발생!\n",
        "point = (card, rate)\n",
        "print(type(point), point)\n",
        "\n",
        "point_combi = point[0] * point[1][1] # *는 곱셈이다.\n",
        "print(point_combi)"
      ]
    },
    {
      "cell_type": "markdown",
      "source": [
        "### Dictionary(dict)\n",
        "    순서가 없고 {키:값}으로 구성되어 있는 데이터 타입"
      ],
      "metadata": {
        "id": "MMNuiLKMkRhp"
      }
    },
    {
      "cell_type": "markdown",
      "source": [
        "중괄호로 선언\n",
        "가운데 세미콜론 : 형성해줘야함."
      ],
      "metadata": {
        "id": "rdv9ZeliiRcO"
      }
    },
    {
      "cell_type": "code",
      "execution_count": 13,
      "metadata": {
        "id": "tG2RU8BJj2bM",
        "colab": {
          "base_uri": "https://localhost:8080/"
        },
        "outputId": "b3e09df7-3893-4178-e487-e834b8bd93ec"
      },
      "outputs": [
        {
          "output_type": "execute_result",
          "data": {
            "text/plain": [
              "(dict, {1: '첫번째', 3: [3, 4, 5], 'key': 'value', 'second': 2})"
            ]
          },
          "metadata": {},
          "execution_count": 13
        }
      ],
      "source": [
        "dic = {\n",
        "    \"key\":\"value\",\n",
        "    1 : \"첫번째\",\n",
        "    \"second\" : 2,\n",
        "    3 : [3, 4, 5]\n",
        "}\n",
        "type(dic), dic"
      ]
    },
    {
      "cell_type": "markdown",
      "source": [
        "value에 data set 넣고, key에 training data넣으면 data가 다 들어감. "
      ],
      "metadata": {
        "id": "SX5wsHjXinN5"
      }
    },
    {
      "cell_type": "code",
      "execution_count": null,
      "metadata": {
        "id": "eGodFMlqj2bM",
        "colab": {
          "base_uri": "https://localhost:8080/"
        },
        "outputId": "caa952e0-bd61-40c6-8cfc-8d794094a7f6"
      },
      "outputs": [
        {
          "output_type": "execute_result",
          "data": {
            "text/plain": [
              "{'DEEP:PHI': '', 'deepnoid': ''}"
            ]
          },
          "metadata": {},
          "execution_count": 13
        }
      ],
      "source": [
        "# key와 value를 하나씩 직접 입력하여 작성하는 방법\n",
        "dic2 = {}\n",
        "dic2[\"DEEP:PHI\"] = \"\"\n",
        "dic2[\"deepnoid\"] = \"\"\n",
        "dic2"
      ]
    },
    {
      "cell_type": "markdown",
      "source": [
        "이런식으로도 key value 작성 가능하다 이런거임."
      ],
      "metadata": {
        "id": "0IZ2rIAei2nr"
      }
    },
    {
      "cell_type": "markdown",
      "source": [
        "#### dict 출력방법\n",
        "    dict[key값]"
      ],
      "metadata": {
        "id": "USdIb8YwkVZh"
      }
    },
    {
      "cell_type": "code",
      "execution_count": 14,
      "metadata": {
        "id": "AK38Gno7j2bN",
        "colab": {
          "base_uri": "https://localhost:8080/"
        },
        "outputId": "45881824-8c7e-4c1c-e3bf-02d9ae994fa9"
      },
      "outputs": [
        {
          "output_type": "execute_result",
          "data": {
            "text/plain": [
              "('첫번째', 2)"
            ]
          },
          "metadata": {},
          "execution_count": 14
        }
      ],
      "source": [
        "dic[1], dic[\"second\"]"
      ]
    },
    {
      "cell_type": "markdown",
      "source": [
        "1이라는 인덱싱을 한게 아니라, 1에 할당된 키가 나온 것임"
      ],
      "metadata": {
        "id": "FuIkXP_GjKnQ"
      }
    },
    {
      "cell_type": "code",
      "source": [
        "dic[0] #순서가 없는 데이터 타입이므로 index를 사용할 수없음 0 가진 key 값이 없음. ls 땐 됫지만 dic은 놉안됨."
      ],
      "metadata": {
        "id": "KmRhgti6kXXp",
        "colab": {
          "base_uri": "https://localhost:8080/",
          "height": 166
        },
        "outputId": "7331e5f2-7b38-4e08-cd13-948677118e9d"
      },
      "execution_count": 16,
      "outputs": [
        {
          "output_type": "error",
          "ename": "KeyError",
          "evalue": "ignored",
          "traceback": [
            "\u001b[0;31m---------------------------------------------------------------------------\u001b[0m",
            "\u001b[0;31mKeyError\u001b[0m                                  Traceback (most recent call last)",
            "\u001b[0;32m<ipython-input-16-a40ad3945862>\u001b[0m in \u001b[0;36m<module>\u001b[0;34m()\u001b[0m\n\u001b[0;32m----> 1\u001b[0;31m \u001b[0mdic\u001b[0m\u001b[0;34m[\u001b[0m\u001b[0;36m0\u001b[0m\u001b[0;34m]\u001b[0m \u001b[0;31m#순서가 없는 데이터 타입이므로 index를 사용할 수없음 0 가진 key 값이 없음. ls 땐 됫지만 dic은 놉안됨.\u001b[0m\u001b[0;34m\u001b[0m\u001b[0;34m\u001b[0m\u001b[0m\n\u001b[0m",
            "\u001b[0;31mKeyError\u001b[0m: 0"
          ]
        }
      ]
    },
    {
      "cell_type": "markdown",
      "source": [
        "#### dict형 데이터 타입 key, value값 확인\n",
        "    keys() : key값을 확인\n",
        "    values() : value값을 확인\n",
        "        각각 리스트 타입으로 출력\n",
        "    items() : key, value의 쌍으로 출력\n",
        "        쌍을 이루고 수정이 불가능하므로 튜플 타입으로 출력\n",
        "        \n",
        "    ※ 주의 : 출력이 각각 list, tuple 타입으로 나타나지만 본래 데이터는 dict 타입이므로 순서가 없음\n",
        "            즉, offset index를 사용할 수 없다!"
      ],
      "metadata": {
        "id": "stLmThIokYsy"
      }
    },
    {
      "cell_type": "code",
      "source": [
        "dic.keys(), dic.values(), dic.items()"
      ],
      "metadata": {
        "id": "rlpx8Go9kbVZ",
        "colab": {
          "base_uri": "https://localhost:8080/"
        },
        "outputId": "07c824bf-e1f6-4bad-f03c-c19573d467e1"
      },
      "execution_count": 17,
      "outputs": [
        {
          "output_type": "execute_result",
          "data": {
            "text/plain": [
              "(dict_keys(['key', 1, 'second', 3]),\n",
              " dict_values(['value', '첫번째', 2, [3, 4, 5]]),\n",
              " dict_items([('key', 'value'), (1, '첫번째'), ('second', 2), (3, [3, 4, 5])]))"
            ]
          },
          "metadata": {},
          "execution_count": 17
        }
      ]
    },
    {
      "cell_type": "markdown",
      "source": [
        "items 는 쌍으로 같이 보기"
      ],
      "metadata": {
        "id": "e9FHquatjjwZ"
      }
    },
    {
      "cell_type": "code",
      "source": [
        "for key in dic.keys():\n",
        "  print(key)"
      ],
      "metadata": {
        "id": "y6IiaawSkcUV",
        "colab": {
          "base_uri": "https://localhost:8080/"
        },
        "outputId": "bb67836b-c675-408d-8230-c3b51fec532d"
      },
      "execution_count": 18,
      "outputs": [
        {
          "output_type": "stream",
          "name": "stdout",
          "text": [
            "key\n",
            "1\n",
            "second\n",
            "3\n"
          ]
        }
      ]
    },
    {
      "cell_type": "code",
      "source": [
        "for items in dic.items():\n",
        "  print(items)"
      ],
      "metadata": {
        "id": "P3bYtRULkdsR",
        "colab": {
          "base_uri": "https://localhost:8080/"
        },
        "outputId": "457bb0dc-6809-4f98-a419-fc836bc48dbd"
      },
      "execution_count": 19,
      "outputs": [
        {
          "output_type": "stream",
          "name": "stdout",
          "text": [
            "('key', 'value')\n",
            "(1, '첫번째')\n",
            "('second', 2)\n",
            "(3, [3, 4, 5])\n"
          ]
        }
      ]
    },
    {
      "cell_type": "markdown",
      "source": [
        "### length 구하기\n",
        "    문자열, list, tuple, dict 타입의 경우 데이터의 길이(혹은 갯수)를 셀 수 있음\n",
        "```python\n",
        "len(구하고자 하는 데이터타입)\n",
        "```"
      ],
      "metadata": {
        "id": "g_14zkJQkf7a"
      }
    },
    {
      "cell_type": "code",
      "source": [
        "#string type\n",
        "text = \"hello python\"\n",
        "len(text) #공백을 포함한 길이"
      ],
      "metadata": {
        "id": "wAS9O_TbkeYh",
        "colab": {
          "base_uri": "https://localhost:8080/"
        },
        "outputId": "78f66d1d-4b9c-4a72-aaef-14842eb56996"
      },
      "execution_count": 21,
      "outputs": [
        {
          "output_type": "execute_result",
          "data": {
            "text/plain": [
              "12"
            ]
          },
          "metadata": {},
          "execution_count": 21
        }
      ]
    },
    {
      "cell_type": "code",
      "source": [
        "#list type\n",
        "ls = [1, 2, 3, 4, 5]\n",
        "len(ls)\n"
      ],
      "metadata": {
        "id": "3-EIQCTMkh5x",
        "colab": {
          "base_uri": "https://localhost:8080/"
        },
        "outputId": "80532ed2-cc08-47c8-8bd1-afbc296e0755"
      },
      "execution_count": 20,
      "outputs": [
        {
          "output_type": "execute_result",
          "data": {
            "text/plain": [
              "5"
            ]
          },
          "metadata": {},
          "execution_count": 20
        }
      ]
    },
    {
      "cell_type": "code",
      "source": [
        "# tuple type\n",
        "tp = (10, 20, 30, 40)\n",
        "len(tp)"
      ],
      "metadata": {
        "id": "-vtRY7dxkh2h",
        "colab": {
          "base_uri": "https://localhost:8080/"
        },
        "outputId": "a0825ee7-4095-4c80-ae6c-126e6eb9120a"
      },
      "execution_count": 22,
      "outputs": [
        {
          "output_type": "execute_result",
          "data": {
            "text/plain": [
              "4"
            ]
          },
          "metadata": {},
          "execution_count": 22
        }
      ]
    },
    {
      "cell_type": "code",
      "source": [
        "# dic type도 가능할까?\n",
        "dic = {0:\"kim\", a:\"python\", 2:'data'}\n",
        "len(dic)"
      ],
      "metadata": {
        "id": "6GG3IGfzkhz5",
        "colab": {
          "base_uri": "https://localhost:8080/"
        },
        "outputId": "b1326e68-c083-482b-bb79-291a367482fd"
      },
      "execution_count": 23,
      "outputs": [
        {
          "output_type": "execute_result",
          "data": {
            "text/plain": [
              "3"
            ]
          },
          "metadata": {},
          "execution_count": 23
        }
      ]
    },
    {
      "cell_type": "code",
      "source": [
        "# 숫자형은 안되요!\n",
        "nb = 123\n",
        "len(nb)"
      ],
      "metadata": {
        "id": "Bup_hL5UkkgJ",
        "colab": {
          "base_uri": "https://localhost:8080/",
          "height": 201
        },
        "outputId": "8caf4bb4-434c-4d03-98bc-5bb264e085d1"
      },
      "execution_count": 24,
      "outputs": [
        {
          "output_type": "error",
          "ename": "TypeError",
          "evalue": "ignored",
          "traceback": [
            "\u001b[0;31m---------------------------------------------------------------------------\u001b[0m",
            "\u001b[0;31mTypeError\u001b[0m                                 Traceback (most recent call last)",
            "\u001b[0;32m<ipython-input-24-285aa3493528>\u001b[0m in \u001b[0;36m<module>\u001b[0;34m()\u001b[0m\n\u001b[1;32m      1\u001b[0m \u001b[0;31m# 숫자형은 안되요!\u001b[0m\u001b[0;34m\u001b[0m\u001b[0;34m\u001b[0m\u001b[0;34m\u001b[0m\u001b[0m\n\u001b[1;32m      2\u001b[0m \u001b[0mnb\u001b[0m \u001b[0;34m=\u001b[0m \u001b[0;36m123\u001b[0m\u001b[0;34m\u001b[0m\u001b[0;34m\u001b[0m\u001b[0m\n\u001b[0;32m----> 3\u001b[0;31m \u001b[0mlen\u001b[0m\u001b[0;34m(\u001b[0m\u001b[0mnb\u001b[0m\u001b[0;34m)\u001b[0m\u001b[0;34m\u001b[0m\u001b[0;34m\u001b[0m\u001b[0m\n\u001b[0m",
            "\u001b[0;31mTypeError\u001b[0m: object of type 'int' has no len()"
          ]
        }
      ]
    },
    {
      "cell_type": "markdown",
      "source": [
        "### Type change\n",
        "    - 데이터 타입을 변환하는 방법\n",
        "    - 형태의 종류\n",
        "        int, float, bool, str, list, tuple, dict"
      ],
      "metadata": {
        "id": "EJtPSUhnkmo6"
      }
    },
    {
      "cell_type": "code",
      "source": [
        "type(dic.values())"
      ],
      "metadata": {
        "id": "n_fH08Vjkonx",
        "colab": {
          "base_uri": "https://localhost:8080/"
        },
        "outputId": "0ee0d1e2-c7ba-4e36-f404-c8d0670c5d52"
      },
      "execution_count": 29,
      "outputs": [
        {
          "output_type": "execute_result",
          "data": {
            "text/plain": [
              "dict_values"
            ]
          },
          "metadata": {},
          "execution_count": 29
        }
      ]
    },
    {
      "cell_type": "code",
      "source": [
        "type(list(dic.values()))"
      ],
      "metadata": {
        "id": "-GvdXtldkpxJ",
        "colab": {
          "base_uri": "https://localhost:8080/"
        },
        "outputId": "9296b23d-d9c1-4765-fe08-466b0d67b3a2"
      },
      "execution_count": 30,
      "outputs": [
        {
          "output_type": "execute_result",
          "data": {
            "text/plain": [
              "list"
            ]
          },
          "metadata": {},
          "execution_count": 30
        }
      ]
    },
    {
      "cell_type": "markdown",
      "source": [
        "value를 list로 형변환 한것"
      ],
      "metadata": {
        "id": "3vxXn84Xkgni"
      }
    },
    {
      "cell_type": "code",
      "source": [
        "dic_list = list(dic.values())\n",
        "dic_list[0]"
      ],
      "metadata": {
        "id": "C6oc37pJkqlJ",
        "colab": {
          "base_uri": "https://localhost:8080/",
          "height": 35
        },
        "outputId": "a9ee1be3-0b0b-43cb-d0ca-c0efa28b21c5"
      },
      "execution_count": 31,
      "outputs": [
        {
          "output_type": "execute_result",
          "data": {
            "text/plain": [
              "'kim'"
            ],
            "application/vnd.google.colaboratory.intrinsic+json": {
              "type": "string"
            }
          },
          "metadata": {},
          "execution_count": 31
        }
      ]
    },
    {
      "cell_type": "code",
      "source": [
        "a=1  # int\n",
        "print(type(a),a)\n",
        "b=float(a)\n",
        "print(type(b), b)\n",
        "c=str(b)\n",
        "print(type(c), c)"
      ],
      "metadata": {
        "id": "2MEkLrR1krXB",
        "colab": {
          "base_uri": "https://localhost:8080/"
        },
        "outputId": "6711a37e-700e-44b5-ae94-37f6daee28f5"
      },
      "execution_count": 34,
      "outputs": [
        {
          "output_type": "stream",
          "name": "stdout",
          "text": [
            "<class 'int'> 1\n",
            "<class 'float'> 1.0\n",
            "<class 'str'> 1.0\n"
          ]
        }
      ]
    },
    {
      "cell_type": "markdown",
      "source": [
        "str 은 스트링?\n"
      ],
      "metadata": {
        "id": "sqcraLktlAtQ"
      }
    },
    {
      "cell_type": "markdown",
      "source": [
        "#### list -> dict로 만들기\n",
        "    zip : 같은 index끼리 묶어주는 함수"
      ],
      "metadata": {
        "id": "A2_eOW6-kw4U"
      }
    },
    {
      "cell_type": "code",
      "source": [
        "# blank"
      ],
      "metadata": {
        "id": "iAbnwtWbkweT"
      },
      "execution_count": null,
      "outputs": []
    },
    {
      "cell_type": "code",
      "source": [
        "classes = ['Supervised learning', 'Unsupervised learning', 'Reinforcement learning']\n",
        "subject = ['classification, 'clustering', 'game AI']\n",
        "dic = dict(zip(classes, subject))"
      ],
      "metadata": {
        "colab": {
          "base_uri": "https://localhost:8080/",
          "height": 131
        },
        "id": "S52BF624lGLZ",
        "outputId": "e3131d73-cb9d-436d-d6c1-1d10a0986180"
      },
      "execution_count": 38,
      "outputs": [
        {
          "output_type": "error",
          "ename": "SyntaxError",
          "evalue": "ignored",
          "traceback": [
            "\u001b[0;36m  File \u001b[0;32m\"<ipython-input-38-7997c9b53620>\"\u001b[0;36m, line \u001b[0;32m2\u001b[0m\n\u001b[0;31m    subject = ['classification, 'clustering', 'game AI']\u001b[0m\n\u001b[0m                                          ^\u001b[0m\n\u001b[0;31mSyntaxError\u001b[0m\u001b[0;31m:\u001b[0m invalid syntax\n"
          ]
        }
      ]
    },
    {
      "cell_type": "code",
      "source": [
        "dict(zip(classes, subject))\n",
        "type(dic)"
      ],
      "metadata": {
        "id": "LFrDjRmrkyyZ",
        "colab": {
          "base_uri": "https://localhost:8080/",
          "height": 183
        },
        "outputId": "abc53a97-a9dc-49a6-b3af-a4e20be50e27"
      },
      "execution_count": 39,
      "outputs": [
        {
          "output_type": "error",
          "ename": "NameError",
          "evalue": "ignored",
          "traceback": [
            "\u001b[0;31m---------------------------------------------------------------------------\u001b[0m",
            "\u001b[0;31mNameError\u001b[0m                                 Traceback (most recent call last)",
            "\u001b[0;32m<ipython-input-39-038f4779e254>\u001b[0m in \u001b[0;36m<module>\u001b[0;34m()\u001b[0m\n\u001b[0;32m----> 1\u001b[0;31m \u001b[0mdict\u001b[0m\u001b[0;34m(\u001b[0m\u001b[0mzip\u001b[0m\u001b[0;34m(\u001b[0m\u001b[0mclasses\u001b[0m\u001b[0;34m,\u001b[0m \u001b[0msubject\u001b[0m\u001b[0;34m)\u001b[0m\u001b[0;34m)\u001b[0m\u001b[0;34m\u001b[0m\u001b[0;34m\u001b[0m\u001b[0m\n\u001b[0m\u001b[1;32m      2\u001b[0m \u001b[0mtype\u001b[0m\u001b[0;34m(\u001b[0m\u001b[0mdic\u001b[0m\u001b[0;34m)\u001b[0m\u001b[0;34m\u001b[0m\u001b[0;34m\u001b[0m\u001b[0m\n",
            "\u001b[0;31mNameError\u001b[0m: name 'classes' is not defined"
          ]
        }
      ]
    },
    {
      "cell_type": "code",
      "source": [
        "dic\n"
      ],
      "metadata": {
        "colab": {
          "base_uri": "https://localhost:8080/"
        },
        "id": "SbzddD9glwW5",
        "outputId": "d825965e-4b42-4807-9fd7-ac638626ecf9"
      },
      "execution_count": 40,
      "outputs": [
        {
          "output_type": "execute_result",
          "data": {
            "text/plain": [
              "{0: 'kim', 2: 'data', 10: 'python'}"
            ]
          },
          "metadata": {},
          "execution_count": 40
        }
      ]
    },
    {
      "cell_type": "code",
      "source": [
        ""
      ],
      "metadata": {
        "id": "xaeAj_xpmF4k"
      },
      "execution_count": null,
      "outputs": []
    }
  ],
  "metadata": {
    "kernelspec": {
      "display_name": "Python 3",
      "language": "python",
      "name": "python3"
    },
    "language_info": {
      "codemirror_mode": {
        "name": "ipython",
        "version": 3
      },
      "file_extension": ".py",
      "mimetype": "text/x-python",
      "name": "python",
      "nbconvert_exporter": "python",
      "pygments_lexer": "ipython3",
      "version": "3.8.5"
    },
    "toc": {
      "base_numbering": 1,
      "nav_menu": {},
      "number_sections": true,
      "sideBar": true,
      "skip_h1_title": false,
      "title_cell": "Table of Contents",
      "title_sidebar": "Contents",
      "toc_cell": false,
      "toc_position": {},
      "toc_section_display": true,
      "toc_window_display": false
    },
    "colab": {
      "name": "lesson 03. tuple&dic type, type change.ipynb",
      "provenance": [],
      "collapsed_sections": [],
      "include_colab_link": true
    }
  },
  "nbformat": 4,
  "nbformat_minor": 0
}