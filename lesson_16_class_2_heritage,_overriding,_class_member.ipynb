{
  "cells": [
    {
      "cell_type": "markdown",
      "metadata": {
        "id": "view-in-github",
        "colab_type": "text"
      },
      "source": [
        "<a href=\"https://colab.research.google.com/github/hyunBBB/OMG/blob/main/lesson_16_class_2_heritage%2C_overriding%2C_class_member.ipynb\" target=\"_parent\"><img src=\"https://colab.research.google.com/assets/colab-badge.svg\" alt=\"Open In Colab\"/></a>"
      ]
    },
    {
      "cell_type": "markdown",
      "metadata": {
        "id": "anEkEbtIPiPv"
      },
      "source": [
        "### class 상속\n",
        "    - 클래스가 가지고 있는 멤버나 메소드를 상속받는 클래스가 모두 사용\n",
        "    - 상속을 해주는 클래스 : 부모 클래스 또는 슈퍼 클래스\n",
        "    - 상속을 받는 클래스 : 자식 클래스 또는 서브 클래스"
      ]
    },
    {
      "cell_type": "markdown",
      "metadata": {
        "id": "ze6dLyAEPiPz"
      },
      "source": [
        "#### 부모 클래스(슈퍼 클래스)로 상속받기"
      ]
    },
    {
      "cell_type": "code",
      "execution_count": 1,
      "metadata": {
        "id": "ILlg5pKMPiPz"
      },
      "outputs": [],
      "source": [
        "class Account: # 부모 클래스\n",
        "    \n",
        "    def __init__(self):\n",
        "        self.deposit = 0\n",
        "        self.loan = 0\n",
        "        print(\"계좌가 개설되었습니다!\")\n",
        "    \n",
        "    def save(self, money):\n",
        "        self.deposit += money\n",
        "        print(\"현재 계좌 잔액은 {}원 입니다.\".format(self.deposit))\n",
        "        \n",
        "    def withdraw(self, money):\n",
        "        self.deposit -= money\n",
        "        print(\"인출 금액은 {}원 입니다. 현재 계좌 잔액은 {}원 입니다.\".format(self.money, self.deposit))\n",
        "    \n",
        "    def debt(self, d_money):\n",
        "        self.deposit += d_money\n",
        "        self.credit_debt = d_money + self.loan\n",
        "        return -int(self.credit_debt)\n",
        "    \n",
        "    def __del__(self):\n",
        "        print(\"계좌가 폐쇄되었습니다. 이용해주셔서 감사합니다.\")"
      ]
    },
    {
      "cell_type": "code",
      "execution_count": 3,
      "metadata": {
        "id": "312fd4bgPiP0"
      },
      "outputs": [],
      "source": [
        "class Stock(Account): #관호 안에 상속 받는 거를 적어\n",
        "    pass # place holder라고도 함 아무 역할도 안 하지만 문법적 에러가 나니까 걍 붙여주는거임"
      ]
    },
    {
      "cell_type": "code",
      "execution_count": 4,
      "metadata": {
        "id": "xid9XzlCPiP0",
        "colab": {
          "base_uri": "https://localhost:8080/"
        },
        "outputId": "63798df1-15a3-4858-aa40-93c43697394a"
      },
      "outputs": [
        {
          "output_type": "stream",
          "name": "stdout",
          "text": [
            "계좌가 개설되었습니다!\n"
          ]
        }
      ],
      "source": [
        "Stock = Stock()"
      ]
    },
    {
      "cell_type": "markdown",
      "metadata": {
        "id": "hiVgWjBZPiP1"
      },
      "source": [
        "#### overiding\n",
        "    - 부모로부터 상속받은 클래스의 기능들을 수정하거나 대체"
      ]
    },
    {
      "cell_type": "code",
      "execution_count": 5,
      "metadata": {
        "id": "oYe7R0fiPiP2"
      },
      "outputs": [],
      "source": [
        "class Stock(Account):\n",
        "    def trading(self, buy, sell):\n",
        "      self.deposit -= buy\n",
        "      self.deposit += sell\n",
        "      if buy and not sell:\n",
        "            print(\"매수 금액 {}원. 현재 계좌 잔액은 {}원 입니다.\".format(buy, self.deposit))\n",
        "      else:\n",
        "            print(\"매도 금액 {}원. 현재 계좌 잔액은 {}원 입니다.\".format(sell, self.deposit))"
      ]
    },
    {
      "cell_type": "code",
      "execution_count": 6,
      "metadata": {
        "id": "RFNgrqubPiP2",
        "colab": {
          "base_uri": "https://localhost:8080/"
        },
        "outputId": "d4ea38f7-d911-4a94-9c20-b796f7326d93"
      },
      "outputs": [
        {
          "output_type": "stream",
          "name": "stdout",
          "text": [
            "계좌가 개설되었습니다!\n"
          ]
        }
      ],
      "source": [
        "stock = Stock()"
      ]
    },
    {
      "cell_type": "code",
      "execution_count": 7,
      "metadata": {
        "id": "x5VCuCfmPiP2",
        "colab": {
          "base_uri": "https://localhost:8080/"
        },
        "outputId": "6382f49a-2dbf-4783-ba4e-35d53ae94fb7"
      },
      "outputs": [
        {
          "output_type": "stream",
          "name": "stdout",
          "text": [
            "매수 금액 100000원. 현재 계좌 잔액은 -100000원 입니다.\n"
          ]
        }
      ],
      "source": [
        "stock.trading(100000, 0) # blank"
      ]
    },
    {
      "cell_type": "code",
      "execution_count": 9,
      "metadata": {
        "id": "PHLBboK8PiP3"
      },
      "outputs": [],
      "source": [
        "class Employee:\n",
        "    mileage = 0\n",
        "    rate = round(1/10,2)\n",
        "\n",
        "    def __init__(self, name, salary):\n",
        "      print(\"입사를 축하합니다!\")\n",
        "      self.name = name\n",
        "      self.salary = salary\n",
        "      self.mileage = 100_000\n",
        "    \n",
        "    def save_mileage(self, point):\n",
        "        self.mileage += int(point + (self.salary)*Employee.rate)\n",
        "        print(\"추가 포인트는 {}점, 누적 마일리지는 {}점 입니다.\".format(point, self.mileage))"
      ]
    },
    {
      "cell_type": "code",
      "execution_count": 10,
      "metadata": {
        "id": "iYk0ECEnPiP3",
        "colab": {
          "base_uri": "https://localhost:8080/"
        },
        "outputId": "2bae1885-c4b4-45c8-a63e-ea80ea17d8a5"
      },
      "outputs": [
        {
          "output_type": "stream",
          "name": "stdout",
          "text": [
            "입사를 축하합니다!\n"
          ]
        }
      ],
      "source": [
        "emp = Employee('Hyunbi Kim', 10000)"
      ]
    },
    {
      "cell_type": "code",
      "execution_count": 11,
      "metadata": {
        "id": "1M_XDBDSPiP3",
        "colab": {
          "base_uri": "https://localhost:8080/"
        },
        "outputId": "ab5727ab-9f34-425a-c756-65f427e6f5c8"
      },
      "outputs": [
        {
          "output_type": "stream",
          "name": "stdout",
          "text": [
            "추가 포인트는 10000점, 누적 마일리지는 111000점 입니다.\n"
          ]
        }
      ],
      "source": [
        "emp.save_mileage(10000)"
      ]
    },
    {
      "cell_type": "code",
      "execution_count": null,
      "metadata": {
        "id": "mj1FBlU6PiP3"
      },
      "outputs": [],
      "source": [
        ""
      ]
    },
    {
      "cell_type": "code",
      "execution_count": null,
      "metadata": {
        "id": "FcQ9G01JPiP4"
      },
      "outputs": [],
      "source": [
        ""
      ]
    },
    {
      "cell_type": "code",
      "execution_count": null,
      "metadata": {
        "id": "0cJ_t9LWPiP4"
      },
      "outputs": [],
      "source": [
        ""
      ]
    },
    {
      "cell_type": "code",
      "execution_count": null,
      "metadata": {
        "id": "L4ChinhPPiP4"
      },
      "outputs": [],
      "source": [
        ""
      ]
    },
    {
      "cell_type": "code",
      "execution_count": null,
      "metadata": {
        "id": "Noj3ihSKPiP4"
      },
      "outputs": [],
      "source": [
        ""
      ]
    },
    {
      "cell_type": "code",
      "execution_count": null,
      "metadata": {
        "id": "xifSkeg9PiP4"
      },
      "outputs": [],
      "source": [
        ""
      ]
    },
    {
      "cell_type": "code",
      "execution_count": null,
      "metadata": {
        "id": "qo7NXKv4PiP4"
      },
      "outputs": [],
      "source": [
        ""
      ]
    },
    {
      "cell_type": "code",
      "execution_count": null,
      "metadata": {
        "id": "_gyNqiZIPiP5"
      },
      "outputs": [],
      "source": [
        ""
      ]
    },
    {
      "cell_type": "code",
      "execution_count": null,
      "metadata": {
        "id": "evw9h-2DPiP5"
      },
      "outputs": [],
      "source": [
        ""
      ]
    },
    {
      "cell_type": "code",
      "execution_count": null,
      "metadata": {
        "id": "hQYE2TtDPiP5"
      },
      "outputs": [],
      "source": [
        ""
      ]
    },
    {
      "cell_type": "code",
      "execution_count": null,
      "metadata": {
        "id": "w1amTgUfPiP5"
      },
      "outputs": [],
      "source": [
        ""
      ]
    },
    {
      "cell_type": "code",
      "execution_count": null,
      "metadata": {
        "id": "NaIsTtUBPiP5"
      },
      "outputs": [],
      "source": [
        ""
      ]
    },
    {
      "cell_type": "code",
      "execution_count": null,
      "metadata": {
        "id": "JLWXo3MiPiP5"
      },
      "outputs": [],
      "source": [
        ""
      ]
    },
    {
      "cell_type": "code",
      "execution_count": null,
      "metadata": {
        "id": "9rPXGo6BPiP6"
      },
      "outputs": [],
      "source": [
        ""
      ]
    },
    {
      "cell_type": "code",
      "execution_count": null,
      "metadata": {
        "id": "Ud4lFIXUPiP6"
      },
      "outputs": [],
      "source": [
        ""
      ]
    },
    {
      "cell_type": "code",
      "execution_count": null,
      "metadata": {
        "id": "ToUm7-vpPiP6"
      },
      "outputs": [],
      "source": [
        ""
      ]
    },
    {
      "cell_type": "code",
      "execution_count": null,
      "metadata": {
        "id": "2MXeAv-RPiP6"
      },
      "outputs": [],
      "source": [
        ""
      ]
    },
    {
      "cell_type": "code",
      "execution_count": null,
      "metadata": {
        "id": "EUknonK5PiP6"
      },
      "outputs": [],
      "source": [
        ""
      ]
    },
    {
      "cell_type": "code",
      "execution_count": null,
      "metadata": {
        "id": "vqau2p-tPiP6"
      },
      "outputs": [],
      "source": [
        ""
      ]
    },
    {
      "cell_type": "markdown",
      "metadata": {
        "id": "4byjiQXDPiP6"
      },
      "source": [
        "### Quiz\n",
        "    - 사용처에 따라 적립이 다른 카드 종류 만들기\n",
        "    - 1개의 슈퍼클래스, 여러개의 서브 클래스 생성\n",
        "    - 영화관에서 사용할 경우 적립 포인트를 다르게 하여 생성"
      ]
    },
    {
      "cell_type": "code",
      "source": [
        ""
      ],
      "metadata": {
        "id": "RXe3A1ONWdUs"
      },
      "execution_count": null,
      "outputs": []
    },
    {
      "cell_type": "code",
      "source": [
        ""
      ],
      "metadata": {
        "id": "xDf-jpeTWdIr"
      },
      "execution_count": null,
      "outputs": []
    }
  ],
  "metadata": {
    "hide_input": false,
    "kernelspec": {
      "display_name": "Python 3",
      "language": "python",
      "name": "python3"
    },
    "language_info": {
      "codemirror_mode": {
        "name": "ipython",
        "version": 3
      },
      "file_extension": ".py",
      "mimetype": "text/x-python",
      "name": "python",
      "nbconvert_exporter": "python",
      "pygments_lexer": "ipython3",
      "version": "3.8.5"
    },
    "toc": {
      "base_numbering": 1,
      "nav_menu": {},
      "number_sections": true,
      "sideBar": true,
      "skip_h1_title": false,
      "title_cell": "Table of Contents",
      "title_sidebar": "Contents",
      "toc_cell": false,
      "toc_position": {},
      "toc_section_display": true,
      "toc_window_display": false
    },
    "varInspector": {
      "cols": {
        "lenName": 16,
        "lenType": 16,
        "lenVar": 40
      },
      "kernels_config": {
        "python": {
          "delete_cmd_postfix": "",
          "delete_cmd_prefix": "del ",
          "library": "var_list.py",
          "varRefreshCmd": "print(var_dic_list())"
        },
        "r": {
          "delete_cmd_postfix": ") ",
          "delete_cmd_prefix": "rm(",
          "library": "var_list.r",
          "varRefreshCmd": "cat(var_dic_list()) "
        }
      },
      "types_to_exclude": [
        "module",
        "function",
        "builtin_function_or_method",
        "instance",
        "_Feature"
      ],
      "window_display": false
    },
    "colab": {
      "name": "lesson 16. class 2 - heritage, overriding, class member.ipynb",
      "provenance": [],
      "collapsed_sections": [],
      "include_colab_link": true
    }
  },
  "nbformat": 4,
  "nbformat_minor": 0
}