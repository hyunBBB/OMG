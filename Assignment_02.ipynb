{
  "nbformat": 4,
  "nbformat_minor": 0,
  "metadata": {
    "colab": {
      "name": "Assignment 02.ipynb",
      "provenance": [],
      "collapsed_sections": [],
      "include_colab_link": true
    },
    "kernelspec": {
      "name": "python3",
      "display_name": "Python 3"
    },
    "language_info": {
      "name": "python"
    }
  },
  "cells": [
    {
      "cell_type": "markdown",
      "metadata": {
        "id": "view-in-github",
        "colab_type": "text"
      },
      "source": [
        "<a href=\"https://colab.research.google.com/github/hyunBBB/OMG/blob/main/Assignment_02.ipynb\" target=\"_parent\"><img src=\"https://colab.research.google.com/assets/colab-badge.svg\" alt=\"Open In Colab\"/></a>"
      ]
    },
    {
      "cell_type": "code",
      "execution_count": 62,
      "metadata": {
        "colab": {
          "base_uri": "https://localhost:8080/"
        },
        "id": "N9YUsOry9nD0",
        "outputId": "28d2be33-061c-475c-ebc3-61fefd1ccda0"
      },
      "outputs": [
        {
          "output_type": "stream",
          "name": "stdout",
          "text": [
            "김밥의 가격은?\n",
            "value\n",
            "5000\n",
            "3000\n",
            "2000\n"
          ]
        }
      ],
      "source": [
        "# 사전의 구조와 이해\n",
        "\n",
        "dic = {\n",
        "    'key':'value',\n",
        "    '김밥':5000, \n",
        "    '어묵':3000, \n",
        "    '떡볶이':2000\n",
        "}\n",
        "\n",
        "print(\"김밥의 가격은?\")\n",
        "for value in dic.values():\n",
        "  print(value)\n",
        "\n",
        "\n"
      ]
    },
    {
      "cell_type": "code",
      "source": [
        "# 리스트의 슬라이싱을 사용하여 아래를 출력하세요\n",
        "\n",
        "tp = [1,2,3,4,5,6,7]\n",
        "ls = [1,2,3,4,5,6,7]\n",
        "\n",
        "# blank\n",
        "\n",
        "# blank\n",
        "\n",
        "type(tp)\n",
        "# blank\n",
        "\n",
        "# blank\n",
        "\n",
        "# blank\n",
        "\n",
        "\n",
        "ls.sort(reverse=True)\n",
        "print(ls)"
      ],
      "metadata": {
        "colab": {
          "base_uri": "https://localhost:8080/"
        },
        "id": "lQCEERSl-Wba",
        "outputId": "b5ae35ea-6b9e-4e66-aee8-700b85bd361f"
      },
      "execution_count": 46,
      "outputs": [
        {
          "output_type": "stream",
          "name": "stdout",
          "text": [
            "[7, 6, 5, 4, 3, 2, 1]\n"
          ]
        }
      ]
    },
    {
      "cell_type": "code",
      "source": [
        "# 조건문\n",
        "# 점수를 입력받아 등급을 출력하세요\n",
        "# 등급표 81~100\tA / 61~80\tB / 41~60\tC / 21~40\tD / 0~20\tE\n",
        "\n",
        "score = int(input(\"점수를 입력하세요: \"))\n",
        "\n",
        "if score >=81:\n",
        "    print(\"점수는 ()점이며 A등급입니다.\")\n",
        "elif score >=61:\n",
        "     print(\"점수는 ()점이며 B등급입니다.\")\n",
        "elif score >=41:\n",
        "     print(\"점수는 ()점이며 C등급입니다.\")\n",
        "elif score >=21:\n",
        "     print(\"점수는 ()점이며 D등급입니다.\")\n",
        "elif score >=0:\n",
        "     print(\"점수는 ()점이며 E등급입니다.\")\n",
        "\n",
        "# complete the blanks\n",
        "#\n",
        "#\n",
        "######################\n"
      ],
      "metadata": {
        "colab": {
          "base_uri": "https://localhost:8080/"
        },
        "id": "YxX6NxrNCK5z",
        "outputId": "1b5d320b-5837-4a60-8df0-4e9e0ce78f41"
      },
      "execution_count": 65,
      "outputs": [
        {
          "output_type": "stream",
          "name": "stdout",
          "text": [
            "점수를 입력하세요: 67\n",
            "점수는 ()점이며 B등급입니다.\n"
          ]
        }
      ]
    },
    {
      "cell_type": "code",
      "source": [
        "# 함수를 만들고 두 수를 입력받아 연산하세요\n",
        "\n",
        "a = int(input('첫 번째 정수를 입력하세요: '))\n",
        "b = int(input('두 번째 정수를 입력하세요: '))\n",
        "\n",
        "# complete the blanks\n",
        "#\n",
        "print(덧셈 함수 연산: ). print(a + b)\n",
        "print(곱셈 함수 연산: ). print(a * b)\n",
        "print(제곱 함수 연산: ). print(a^b)\n",
        "\n",
        "\n",
        "\n",
        "\n",
        "\n",
        "\n",
        "\n",
        "#\n",
        "######################\n"
      ],
      "metadata": {
        "colab": {
          "base_uri": "https://localhost:8080/",
          "height": 131
        },
        "id": "mD9n7jRG-8qL",
        "outputId": "1eb54788-9fbe-4d4b-b7bc-ec9c7a4dd439"
      },
      "execution_count": 66,
      "outputs": [
        {
          "output_type": "error",
          "ename": "SyntaxError",
          "evalue": "ignored",
          "traceback": [
            "\u001b[0;36m  File \u001b[0;32m\"<ipython-input-66-7262adf93e20>\"\u001b[0;36m, line \u001b[0;32m8\u001b[0m\n\u001b[0;31m    print(덧셈 함수 연산: ). print(a + b)\u001b[0m\n\u001b[0m              ^\u001b[0m\n\u001b[0;31mSyntaxError\u001b[0m\u001b[0;31m:\u001b[0m invalid syntax\n"
          ]
        }
      ]
    },
    {
      "cell_type": "code",
      "source": [
        "# 알고리즘 생성\n",
        "# 피보나치 수열을 계산하는 함수를 생성하고 자연수 10을 넣어 실행하세요\n",
        "\n",
        "# complete the blanks\n",
        "#\n",
        "\n",
        "\n",
        "\n",
        "#\n",
        "######################\n",
        "\n",
        "print(pivo(10))\n"
      ],
      "metadata": {
        "colab": {
          "base_uri": "https://localhost:8080/"
        },
        "id": "OL3QMyusC9V0",
        "outputId": "5b4b0774-7f19-4cea-a237-14504a57eb92"
      },
      "execution_count": null,
      "outputs": [
        {
          "output_type": "stream",
          "name": "stdout",
          "text": [
            "55\n"
          ]
        }
      ]
    },
    {
      "cell_type": "code",
      "source": [
        "# 클래스\n",
        "# 사람 (Human) 클래스를 정의하고 (이름, 나이, 성별)을 받는 생성자를 추가하세요.\n"
      ],
      "metadata": {
        "id": "nYv044w8Ae0Z"
      },
      "execution_count": null,
      "outputs": []
    }
  ]
}