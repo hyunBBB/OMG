{
  "cells": [
    {
      "cell_type": "markdown",
      "metadata": {
        "id": "view-in-github",
        "colab_type": "text"
      },
      "source": [
        "<a href=\"https://colab.research.google.com/github/hyunBBB/OMG/blob/main/lesson_14_function4_map%2C_filter%2C_reduce.ipynb\" target=\"_parent\"><img src=\"https://colab.research.google.com/assets/colab-badge.svg\" alt=\"Open In Colab\"/></a>"
      ]
    },
    {
      "cell_type": "markdown",
      "metadata": {
        "id": "c3q6MBHTIRXN"
      },
      "source": [
        "#### map, filter, reduce"
      ]
    },
    {
      "cell_type": "markdown",
      "metadata": {
        "id": "zu0EcdREIRXQ"
      },
      "source": [
        "##### map\n",
        "    - 순서가 있는 데이터 집합에서 모든 값에 함수를 적용시켜 결과 출력"
      ]
    },
    {
      "cell_type": "code",
      "execution_count": 1,
      "metadata": {
        "id": "bU9904l1IRXQ",
        "colab": {
          "base_uri": "https://localhost:8080/"
        },
        "outputId": "67d62a2a-ac60-465e-b83d-6e7b25eefbd8"
      },
      "outputs": [
        {
          "output_type": "execute_result",
          "data": {
            "text/plain": [
              "['odd', 'even', 'odd', 'even']"
            ]
          },
          "metadata": {},
          "execution_count": 1
        }
      ],
      "source": [
        "ls = [1, 2, 3, 4]\n",
        "def odd_even(n):\n",
        "    return \"odd\" if n%2 else \"even\"\n",
        "\n",
        "list(map(odd_even, ls))"
      ]
    },
    {
      "cell_type": "code",
      "execution_count": 2,
      "metadata": {
        "id": "52qly8PoIRXR",
        "colab": {
          "base_uri": "https://localhost:8080/"
        },
        "outputId": "260d7017-5055-44a3-e964-1fef2ce1e474"
      },
      "outputs": [
        {
          "output_type": "stream",
          "name": "stdout",
          "text": [
            "[10, 12, 14, 16, 18, 20]\n"
          ]
        }
      ],
      "source": [
        "ls2 = [5,6,7,8,9,10]\n",
        "result = map( lambda x: 2*x, ls2)\n",
        "\n",
        "print(list(result))"
      ]
    },
    {
      "cell_type": "markdown",
      "metadata": {
        "id": "NGR1IkKdIRXR"
      },
      "source": [
        "##### quiz : map\n",
        "    - map을 이용하여 입력받는 숫자를 리스트에 바로 담기\n",
        "    - split은 한칸 띄우는 거 input(), list(), split()\n"
      ]
    },
    {
      "cell_type": "code",
      "execution_count": 4,
      "metadata": {
        "id": "Oe6UaHI1IRXS",
        "colab": {
          "base_uri": "https://localhost:8080/"
        },
        "outputId": "7846a0de-ebea-42ce-affb-a969cca6d8d9"
      },
      "outputs": [
        {
          "name": "stdout",
          "output_type": "stream",
          "text": [
            "insert numbers : 5 6 7\n"
          ]
        },
        {
          "output_type": "execute_result",
          "data": {
            "text/plain": [
              "[5, 6, 7]"
            ]
          },
          "metadata": {},
          "execution_count": 4
        }
      ],
      "source": [
        "num = input(\"insert numbers : \")\n",
        "res = num.split(\" \") # \" 안에 띄어쓰기 하나만@!\"\n",
        "res = list(map(int, res))\n",
        "res # list화 된 것임."
      ]
    },
    {
      "cell_type": "code",
      "execution_count": 5,
      "metadata": {
        "id": "OmSw5YBzIRXS",
        "colab": {
          "base_uri": "https://localhost:8080/"
        },
        "outputId": "a5ae1dc0-93ef-4f89-93c3-c7d7ddcd844f"
      },
      "outputs": [
        {
          "output_type": "stream",
          "name": "stdout",
          "text": [
            "[-17.77777777777778, -12.222222222222223, -6.666666666666667, -1.1111111111111112, 4.444444444444445, 10.0]\n"
          ]
        }
      ],
      "source": [
        "def celsius(C):\n",
        "  return (5/9)*(C-32)\n",
        "\n",
        "f_temp = [0,10,20,30,40,50]\n",
        "\n",
        "c_temp = map(celsius, f_temp)\n",
        "print(list(c_temp))"
      ]
    },
    {
      "cell_type": "markdown",
      "metadata": {
        "id": "r_d5PWdJIRXT"
      },
      "source": [
        "##### filter\n",
        "    - list 데이터에서 특정 조건에 맞는 것만 출력"
      ]
    },
    {
      "cell_type": "code",
      "execution_count": 6,
      "metadata": {
        "id": "k5Suf1MQIRXT",
        "colab": {
          "base_uri": "https://localhost:8080/"
        },
        "outputId": "8331c8da-8a95-41fd-bbf5-7e0ccc5df0db"
      },
      "outputs": [
        {
          "output_type": "stream",
          "name": "stdout",
          "text": [
            "range(0, 10)\n"
          ]
        },
        {
          "output_type": "execute_result",
          "data": {
            "text/plain": [
              "[1, 3, 5, 7, 9]"
            ]
          },
          "metadata": {},
          "execution_count": 6
        }
      ],
      "source": [
        "ls = range(10)\n",
        "print(ls)\n",
        "list(filter(lambda x: True if x%2 else False, ls))"
      ]
    },
    {
      "cell_type": "markdown",
      "metadata": {
        "id": "xW0Le5QlIRXU"
      },
      "source": [
        "#### reduce\n",
        "    - list 데이터를 처음부터 순서대로 특정 함수를 실행하여 결과를 누적\n",
        "    functool 이라는 라이브러리를 넣어줘야함.\n",
        "    리듀스는 값이 누적이 된다는 게 특징\n",
        "    람다에서 두가지 변수를 받음 3,1 그걸 더해주고 그걸 더한걸 뒤에 x가 받고 이런식으로 하는게 리듀스 함수"
      ]
    },
    {
      "cell_type": "code",
      "execution_count": 7,
      "metadata": {
        "id": "hVYHFe9-IRXU",
        "colab": {
          "base_uri": "https://localhost:8080/"
        },
        "outputId": "5d358c97-833b-4526-ffff-6b897f471ec4"
      },
      "outputs": [
        {
          "output_type": "execute_result",
          "data": {
            "text/plain": [
              "15"
            ]
          },
          "metadata": {},
          "execution_count": 7
        }
      ],
      "source": [
        "from functools import reduce\n",
        "ls = [3,1,2,4,5,]\n",
        "reduce(lambda x, y:x+y, ls)"
      ]
    },
    {
      "cell_type": "markdown",
      "metadata": {
        "id": "zpwhEpB4IRXV"
      },
      "source": [
        "### Decorator\n",
        "    - 함수에서 코드를 바꾸지 않고 기능을 추가하거나 수정하고 싶을 때 사용\n",
        "    - inner function을 선언했을 때 인스턴트처럼 사용 -> class의 개념\n",
        "    - 큰 틀을 만들어두고 함수를 선언해서 집어넣기"
      ]
    },
    {
      "cell_type": "markdown",
      "metadata": {
        "id": "4x_QQgpjIRXV"
      },
      "source": [
        "```python\n",
        "def mother(func):\n",
        "    def wrapper(*args, **kwargs):\n",
        "        result = func(*args, **kwargs)\n",
        "        return result\n",
        "    return wrapper\n",
        "\n",
        "def son1():\n",
        "    return True\n",
        "\n",
        "def son2():\n",
        "    return False\n",
        "```"
      ]
    },
    {
      "cell_type": "code",
      "execution_count": null,
      "metadata": {
        "id": "d55_m_JQIRXV"
      },
      "outputs": [],
      "source": [
        ""
      ]
    },
    {
      "cell_type": "code",
      "execution_count": null,
      "metadata": {
        "id": "w-uEGrReIRXV"
      },
      "outputs": [],
      "source": [
        ""
      ]
    },
    {
      "cell_type": "code",
      "execution_count": null,
      "metadata": {
        "id": "83Swtri1IRXW"
      },
      "outputs": [],
      "source": [
        ""
      ]
    },
    {
      "cell_type": "code",
      "execution_count": null,
      "metadata": {
        "id": "ox_Opx1_IRXW"
      },
      "outputs": [],
      "source": [
        ""
      ]
    },
    {
      "cell_type": "code",
      "execution_count": null,
      "metadata": {
        "id": "hH2Bcfa3IRXW"
      },
      "outputs": [],
      "source": [
        ""
      ]
    },
    {
      "cell_type": "code",
      "execution_count": null,
      "metadata": {
        "id": "0XgkZ5gmIRXW"
      },
      "outputs": [],
      "source": [
        ""
      ]
    },
    {
      "cell_type": "markdown",
      "metadata": {
        "id": "xsz3KD88IRXW"
      },
      "source": [
        "#### decorator 실행 예제\n",
        "    - 함수의 실행 시간을 출력하는 함수 작성"
      ]
    },
    {
      "cell_type": "code",
      "execution_count": null,
      "metadata": {
        "id": "tirEkqUoIRXX"
      },
      "outputs": [],
      "source": [
        ""
      ]
    },
    {
      "cell_type": "code",
      "execution_count": null,
      "metadata": {
        "id": "26XHxQ7cIRXX"
      },
      "outputs": [],
      "source": [
        ""
      ]
    },
    {
      "cell_type": "code",
      "execution_count": null,
      "metadata": {
        "id": "mJe3sOfVIRXX"
      },
      "outputs": [],
      "source": [
        ""
      ]
    },
    {
      "cell_type": "code",
      "execution_count": null,
      "metadata": {
        "id": "cf82v8g-IRXX"
      },
      "outputs": [],
      "source": [
        ""
      ]
    },
    {
      "cell_type": "code",
      "execution_count": null,
      "metadata": {
        "id": "pF_4Ul0tIRXX"
      },
      "outputs": [],
      "source": [
        ""
      ]
    },
    {
      "cell_type": "code",
      "execution_count": null,
      "metadata": {
        "id": "9UTCK-1lIRXX"
      },
      "outputs": [],
      "source": [
        ""
      ]
    },
    {
      "cell_type": "code",
      "execution_count": null,
      "metadata": {
        "id": "jxoDzQVWIRXX"
      },
      "outputs": [],
      "source": [
        ""
      ]
    },
    {
      "cell_type": "code",
      "execution_count": null,
      "metadata": {
        "id": "cadzwRVpIRXX"
      },
      "outputs": [],
      "source": [
        ""
      ]
    },
    {
      "cell_type": "code",
      "execution_count": null,
      "metadata": {
        "id": "e_-e_cTXIRXX"
      },
      "outputs": [],
      "source": [
        ""
      ]
    },
    {
      "cell_type": "markdown",
      "metadata": {
        "id": "ad2I19TiIRXY"
      },
      "source": [
        "#### 예제\n",
        "     - password가 일치할 때 연산이 가능하도록 decorator 만들기"
      ]
    },
    {
      "cell_type": "code",
      "execution_count": null,
      "metadata": {
        "id": "CrOmt8-xIRXY"
      },
      "outputs": [],
      "source": [
        ""
      ]
    },
    {
      "cell_type": "code",
      "execution_count": null,
      "metadata": {
        "id": "_ovv91ADIRXY"
      },
      "outputs": [],
      "source": [
        ""
      ]
    },
    {
      "cell_type": "code",
      "execution_count": null,
      "metadata": {
        "id": "LjD-3kFGIRXY"
      },
      "outputs": [],
      "source": [
        ""
      ]
    },
    {
      "cell_type": "code",
      "execution_count": null,
      "metadata": {
        "id": "jRa3mRv9IRXY"
      },
      "outputs": [],
      "source": [
        ""
      ]
    },
    {
      "cell_type": "markdown",
      "metadata": {
        "id": "vhhq4H8vIRXY"
      },
      "source": [
        "### Quiz\n",
        "    - dict형의 id와 password datas를 생성하고 datas안에 id와 password가 일치하는 경우에만 실행되도록 생성\n",
        "    - datas는 dict형\n",
        "    - \"id\":\"password\" 형식의 key, value 설정\n",
        "    - decorator로 함수 실행하도록 생성\n",
        "    - 없거나 틀렸을 경우 접속이 불가능하다는 결과 출력"
      ]
    }
  ],
  "metadata": {
    "hide_input": false,
    "kernelspec": {
      "display_name": "Python 3",
      "language": "python",
      "name": "python3"
    },
    "language_info": {
      "codemirror_mode": {
        "name": "ipython",
        "version": 3
      },
      "file_extension": ".py",
      "mimetype": "text/x-python",
      "name": "python",
      "nbconvert_exporter": "python",
      "pygments_lexer": "ipython3",
      "version": "3.8.5"
    },
    "toc": {
      "base_numbering": 1,
      "nav_menu": {},
      "number_sections": true,
      "sideBar": true,
      "skip_h1_title": false,
      "title_cell": "Table of Contents",
      "title_sidebar": "Contents",
      "toc_cell": false,
      "toc_position": {},
      "toc_section_display": true,
      "toc_window_display": false
    },
    "varInspector": {
      "cols": {
        "lenName": 16,
        "lenType": 16,
        "lenVar": 40
      },
      "kernels_config": {
        "python": {
          "delete_cmd_postfix": "",
          "delete_cmd_prefix": "del ",
          "library": "var_list.py",
          "varRefreshCmd": "print(var_dic_list())"
        },
        "r": {
          "delete_cmd_postfix": ") ",
          "delete_cmd_prefix": "rm(",
          "library": "var_list.r",
          "varRefreshCmd": "cat(var_dic_list()) "
        }
      },
      "types_to_exclude": [
        "module",
        "function",
        "builtin_function_or_method",
        "instance",
        "_Feature"
      ],
      "window_display": false
    },
    "colab": {
      "name": "lesson 14. function4 - map, filter, reduce.ipynb",
      "provenance": [],
      "collapsed_sections": [],
      "include_colab_link": true
    }
  },
  "nbformat": 4,
  "nbformat_minor": 0
}