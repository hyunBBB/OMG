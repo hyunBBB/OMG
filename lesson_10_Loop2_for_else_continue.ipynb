{
  "cells": [
    {
      "cell_type": "markdown",
      "metadata": {
        "id": "view-in-github",
        "colab_type": "text"
      },
      "source": [
        "<a href=\"https://colab.research.google.com/github/hyunBBB/OMG/blob/main/lesson_10_Loop2_for_else_continue.ipynb\" target=\"_parent\"><img src=\"https://colab.research.google.com/assets/colab-badge.svg\" alt=\"Open In Colab\"/></a>"
      ]
    },
    {
      "cell_type": "markdown",
      "metadata": {
        "id": "5VYDtipjFPr2"
      },
      "source": [
        "### for loop 2"
      ]
    },
    {
      "cell_type": "markdown",
      "metadata": {
        "id": "7AZVrKX7FPr9"
      },
      "source": [
        "##### zip을 이용한 받아주기"
      ]
    },
    {
      "cell_type": "code",
      "execution_count": 3,
      "metadata": {
        "ExecuteTime": {
          "end_time": "2021-02-05T05:08:34.138928Z",
          "start_time": "2021-02-05T05:08:34.133941Z"
        },
        "id": "Zwl9up5qFPr9",
        "outputId": "6e345826-1bda-486e-b31a-106382985023",
        "colab": {
          "base_uri": "https://localhost:8080/"
        }
      },
      "outputs": [
        {
          "output_type": "stream",
          "name": "stdout",
          "text": [
            "google chrome 1\n",
            "facebook libra 3\n",
            "apple iphone 2\n",
            "tesla e-car 4\n"
          ]
        }
      ],
      "source": [
        "corp = ['google','facebook','apple','tesla']\n",
        "prod = ['chrome','libra','iphone','e-car']\n",
        "rank = [1, 3, 2, 4]\n",
        "\n",
        "for c, p, r in zip(corp, prod, rank):\n",
        "    print(c, p, r)\n"
      ]
    },
    {
      "cell_type": "code",
      "source": [
        "for i, j in enumerate(zip(corp,prod)): # zip으로 corp,prod를 묶어줬잫어 하나의 데이터가 되었다는 거임 한묶음!!!! i는 idx\n",
        "    # print(i+1.j)\n",
        "    print(i,j[0],j[1])"
      ],
      "metadata": {
        "id": "SOyMq28zGSRg",
        "colab": {
          "base_uri": "https://localhost:8080/"
        },
        "outputId": "ca8f5931-458f-4a13-b379-68fa470f7d18"
      },
      "execution_count": 4,
      "outputs": [
        {
          "output_type": "stream",
          "name": "stdout",
          "text": [
            "0 google chrome\n",
            "1 facebook libra\n",
            "2 apple iphone\n",
            "3 tesla e-car\n"
          ]
        }
      ]
    },
    {
      "cell_type": "code",
      "source": [
        "for idx, p in enumerate(corp):\n",
        "    print(idx, p)"
      ],
      "metadata": {
        "colab": {
          "base_uri": "https://localhost:8080/"
        },
        "id": "NH1E-e9qqOZe",
        "outputId": "623aced8-4a26-4418-d9a9-7e81ef8829e9"
      },
      "execution_count": 5,
      "outputs": [
        {
          "output_type": "stream",
          "name": "stdout",
          "text": [
            "0 google\n",
            "1 facebook\n",
            "2 apple\n",
            "3 tesla\n"
          ]
        }
      ]
    },
    {
      "cell_type": "markdown",
      "metadata": {
        "id": "9t3KOMlmFPr-"
      },
      "source": [
        "#### for문 continue\n",
        "    - continue를 사용 : for문의 조건문으로 돌아가서 루프를 실행(다음 순서로 진행)"
      ]
    },
    {
      "cell_type": "code",
      "execution_count": 6,
      "metadata": {
        "ExecuteTime": {
          "end_time": "2021-02-05T05:10:40.700023Z",
          "start_time": "2021-02-05T05:10:40.696033Z"
        },
        "id": "xyQVUuddFPr-",
        "outputId": "526f6744-2c43-4a6e-d330-43531c36c03e",
        "colab": {
          "base_uri": "https://localhost:8080/"
        }
      },
      "outputs": [
        {
          "output_type": "stream",
          "name": "stdout",
          "text": [
            "홀수는 패스\n",
            "2\n",
            "홀수는 패스\n",
            "4\n",
            "홀수는 패스\n"
          ]
        }
      ],
      "source": [
        "ls = [1, 2, 3, 4, 5]\n",
        "for i in ls:\n",
        "      if i % 2: # 여기에서 나머지가 있으면 홀수가되죠. 그럼 홀수는 패스로 입력이 되는 것임. true면 홀수는 패스라고 되는 거 true=홀수 \n",
        "            print(\"홀수는 패스\")\n",
        "            continue\n",
        "      print(i)\n"
      ]
    },
    {
      "cell_type": "markdown",
      "metadata": {
        "id": "o-a7euWwFPr_"
      },
      "source": [
        "#### 중첩 for문"
      ]
    },
    {
      "cell_type": "code",
      "execution_count": null,
      "metadata": {
        "ExecuteTime": {
          "end_time": "2021-02-05T05:14:59.585531Z",
          "start_time": "2021-02-05T05:14:59.579547Z"
        },
        "colab": {
          "base_uri": "https://localhost:8080/",
          "height": 235
        },
        "id": "F09YEtypFPr_",
        "outputId": "3fcfb65c-e12c-413c-bb0d-2c0e02a144ee"
      },
      "outputs": [
        {
          "output_type": "stream",
          "name": "stdout",
          "text": [
            "\n"
          ]
        },
        {
          "output_type": "error",
          "ename": "TypeError",
          "evalue": "ignored",
          "traceback": [
            "\u001b[0;31m---------------------------------------------------------------------------\u001b[0m",
            "\u001b[0;31mTypeError\u001b[0m                                 Traceback (most recent call last)",
            "\u001b[0;32m<ipython-input-11-14842a96918b>\u001b[0m in \u001b[0;36m<module>\u001b[0;34m()\u001b[0m\n\u001b[1;32m      2\u001b[0m \u001b[0;32mfor\u001b[0m \u001b[0mi\u001b[0m \u001b[0;32min\u001b[0m \u001b[0mrange\u001b[0m\u001b[0;34m(\u001b[0m\u001b[0;36m1\u001b[0m\u001b[0;34m,\u001b[0m\u001b[0;36m10\u001b[0m\u001b[0;34m)\u001b[0m\u001b[0;34m:\u001b[0m \u001b[0;31m# 1, 2\u001b[0m\u001b[0;34m\u001b[0m\u001b[0;34m\u001b[0m\u001b[0m\n\u001b[1;32m      3\u001b[0m       \u001b[0mprint\u001b[0m\u001b[0;34m(\u001b[0m\u001b[0;34m)\u001b[0m\u001b[0;34m\u001b[0m\u001b[0;34m\u001b[0m\u001b[0m\n\u001b[0;32m----> 4\u001b[0;31m       \u001b[0;32mfor\u001b[0m \u001b[0mj\u001b[0m \u001b[0;32min\u001b[0m \u001b[0mrange\u001b[0m\u001b[0;34m(\u001b[0m\u001b[0;36m2.10\u001b[0m\u001b[0;34m)\u001b[0m\u001b[0;34m:\u001b[0m \u001b[0;31m# 2~9, 2~9\u001b[0m\u001b[0;34m\u001b[0m\u001b[0;34m\u001b[0m\u001b[0m\n\u001b[0m\u001b[1;32m      5\u001b[0m           \u001b[0mprint\u001b[0m\u001b[0;34m(\u001b[0m\u001b[0;34m\"{} x {} = {}\"\u001b[0m\u001b[0;34m.\u001b[0m\u001b[0mformat\u001b[0m\u001b[0;34m(\u001b[0m\u001b[0mj\u001b[0m\u001b[0;34m,\u001b[0m \u001b[0mi\u001b[0m\u001b[0;34m,\u001b[0m \u001b[0mj\u001b[0m\u001b[0;34m*\u001b[0m\u001b[0mi\u001b[0m\u001b[0;34m)\u001b[0m\u001b[0;34m,\u001b[0m \u001b[0mend\u001b[0m\u001b[0;34m=\u001b[0m\u001b[0;34m\"Wt\"\u001b[0m\u001b[0;34m)\u001b[0m\u001b[0;34m\u001b[0m\u001b[0;34m\u001b[0m\u001b[0m\n",
            "\u001b[0;31mTypeError\u001b[0m: 'float' object cannot be interpreted as an integer"
          ]
        }
      ],
      "source": [
        "# 구구단 전체 출력해보기\n",
        "for i in range(1,10): # 1, 2\n",
        "      print()\n",
        "      for j in range(2.10): # 2~9, 2~9\n",
        "          print(\"{} x {} = {}\".format(j, i, j*i), end=\"Wt\")\n"
      ]
    },
    {
      "cell_type": "code",
      "source": [
        "# 복습\n",
        "for i in range(1, 10): # 뒤에 곱해지는 숫자. 안쪽에 잇는 루프가 먼저 돌게 됨. 아래에 ㅇㅆ는 2를 먼저 받고 3456789순으로 갈거다 이거여. \n",
        "    for j in range(2, 10): # 단에 해당하는 숫자 # 다쓰고 3*1, 4*1 이 순서로 먼저 돌게 되는 것임. \n",
        "        print(f\"{j} x {i} = {j*i}\", end=\"/t\") # t는 탭간격으로 띄울거다 이거임. j 는 2를 먼저 받고 탭 띠고 다음 뤂프 가로로 쭈욱 작성 후 9까지 되면 그 아래로 2가 i로 받고 그런것임.\n",
        "    print(end=\"/n\")\n",
        "\n",
        "    # 3중 루프 이상은 쓰지마라.\n",
        "    \n",
        "\n"
      ],
      "metadata": {
        "colab": {
          "base_uri": "https://localhost:8080/"
        },
        "id": "zHL02WANrW6F",
        "outputId": "82e8bbfd-f16b-43b7-cc29-e2e850428fbe"
      },
      "execution_count": 8,
      "outputs": [
        {
          "output_type": "stream",
          "name": "stdout",
          "text": [
            "2 x 1 = 2/t3 x 1 = 3/t4 x 1 = 4/t5 x 1 = 5/t6 x 1 = 6/t7 x 1 = 7/t8 x 1 = 8/t9 x 1 = 9/t/n2 x 2 = 4/t3 x 2 = 6/t4 x 2 = 8/t5 x 2 = 10/t6 x 2 = 12/t7 x 2 = 14/t8 x 2 = 16/t9 x 2 = 18/t/n2 x 3 = 6/t3 x 3 = 9/t4 x 3 = 12/t5 x 3 = 15/t6 x 3 = 18/t7 x 3 = 21/t8 x 3 = 24/t9 x 3 = 27/t/n2 x 4 = 8/t3 x 4 = 12/t4 x 4 = 16/t5 x 4 = 20/t6 x 4 = 24/t7 x 4 = 28/t8 x 4 = 32/t9 x 4 = 36/t/n2 x 5 = 10/t3 x 5 = 15/t4 x 5 = 20/t5 x 5 = 25/t6 x 5 = 30/t7 x 5 = 35/t8 x 5 = 40/t9 x 5 = 45/t/n2 x 6 = 12/t3 x 6 = 18/t4 x 6 = 24/t5 x 6 = 30/t6 x 6 = 36/t7 x 6 = 42/t8 x 6 = 48/t9 x 6 = 54/t/n2 x 7 = 14/t3 x 7 = 21/t4 x 7 = 28/t5 x 7 = 35/t6 x 7 = 42/t7 x 7 = 49/t8 x 7 = 56/t9 x 7 = 63/t/n2 x 8 = 16/t3 x 8 = 24/t4 x 8 = 32/t5 x 8 = 40/t6 x 8 = 48/t7 x 8 = 56/t8 x 8 = 64/t9 x 8 = 72/t/n2 x 9 = 18/t3 x 9 = 27/t4 x 9 = 36/t5 x 9 = 45/t6 x 9 = 54/t7 x 9 = 63/t8 x 9 = 72/t9 x 9 = 81/t/n"
          ]
        }
      ]
    },
    {
      "cell_type": "code",
      "source": [
        "for i in range(10):\n",
        "  for j in range(5):\n",
        "    print(i,j)"
      ],
      "metadata": {
        "colab": {
          "base_uri": "https://localhost:8080/"
        },
        "id": "KUGhC6ppJNWU",
        "outputId": "8cce3e8b-e2a3-4068-a97f-89c718cd54cb"
      },
      "execution_count": null,
      "outputs": [
        {
          "output_type": "stream",
          "name": "stdout",
          "text": [
            "0 0\n",
            "0 1\n",
            "0 2\n",
            "0 3\n",
            "0 4\n",
            "1 0\n",
            "1 1\n",
            "1 2\n",
            "1 3\n",
            "1 4\n",
            "2 0\n",
            "2 1\n",
            "2 2\n",
            "2 3\n",
            "2 4\n",
            "3 0\n",
            "3 1\n",
            "3 2\n",
            "3 3\n",
            "3 4\n",
            "4 0\n",
            "4 1\n",
            "4 2\n",
            "4 3\n",
            "4 4\n",
            "5 0\n",
            "5 1\n",
            "5 2\n",
            "5 3\n",
            "5 4\n",
            "6 0\n",
            "6 1\n",
            "6 2\n",
            "6 3\n",
            "6 4\n",
            "7 0\n",
            "7 1\n",
            "7 2\n",
            "7 3\n",
            "7 4\n",
            "8 0\n",
            "8 1\n",
            "8 2\n",
            "8 3\n",
            "8 4\n",
            "9 0\n",
            "9 1\n",
            "9 2\n",
            "9 3\n",
            "9 4\n"
          ]
        }
      ]
    },
    {
      "cell_type": "markdown",
      "metadata": {
        "id": "_YpDYqZ5FPr_"
      },
      "source": [
        "#### list comprehension\n",
        "    - list 데이터를 만들 때 for문을 이용하여 생성\n",
        "    - 속도가 빠르고 ram을 적게 사용 ( 연산속도가 빠르다고\n",
        "\n",
        "    한줄로 하는 법. 관리하기편하고 관리도좋고 뭐라는거야 암튼 겉멋? 부럽다"
      ]
    },
    {
      "cell_type": "code",
      "execution_count": 9,
      "metadata": {
        "ExecuteTime": {
          "end_time": "2021-02-05T05:16:45.913248Z",
          "start_time": "2021-02-05T05:16:45.822490Z"
        },
        "id": "cv69Tn-EFPr_",
        "outputId": "b62b4bfb-fb9e-4ebe-b97b-0a597155f287",
        "colab": {
          "base_uri": "https://localhost:8080/"
        }
      },
      "outputs": [
        {
          "output_type": "execute_result",
          "data": {
            "text/plain": [
              "[121, 144, 169, 196]"
            ]
          },
          "metadata": {},
          "execution_count": 9
        }
      ],
      "source": [
        "ls = [11, 12, 13, 14]\n",
        "# ls2 = ls ** 2 # 연산이 불가능\n",
        "\n",
        "ls2 = []\n",
        "for i in ls:\n",
        "  ls2.append(i**2)\n",
        "ls2"
      ]
    },
    {
      "cell_type": "code",
      "execution_count": null,
      "metadata": {
        "ExecuteTime": {
          "end_time": "2021-02-05T05:17:50.965517Z",
          "start_time": "2021-02-05T05:17:50.960530Z"
        },
        "id": "bMuXEsdHFPsA",
        "outputId": "6b3aca74-d717-4f5f-b74e-bad77adfdc79",
        "colab": {
          "base_uri": "https://localhost:8080/"
        }
      },
      "outputs": [
        {
          "output_type": "execute_result",
          "data": {
            "text/plain": [
              "[11, 12, 13, 14]"
            ]
          },
          "metadata": {},
          "execution_count": 13
        }
      ],
      "source": [
        "ls"
      ]
    },
    {
      "cell_type": "code",
      "execution_count": 10,
      "metadata": {
        "ExecuteTime": {
          "end_time": "2021-02-05T05:18:53.695667Z",
          "start_time": "2021-02-05T05:18:53.690679Z"
        },
        "id": "AvdGvXboFPsA",
        "outputId": "fcdcf105-dc42-4398-fda0-cd5dfe16c0f6",
        "colab": {
          "base_uri": "https://localhost:8080/"
        }
      },
      "outputs": [
        {
          "output_type": "execute_result",
          "data": {
            "text/plain": [
              "[121, 144, 169, 196]"
            ]
          },
          "metadata": {},
          "execution_count": 10
        }
      ],
      "source": [
        "ls2 = [i**2 for i in ls]\n",
        "ls2 # list comprehension? 을 쓴거임."
      ]
    },
    {
      "cell_type": "code",
      "source": [
        "ls3 = [i**2 for i in ls]\n",
        "ls3"
      ],
      "metadata": {
        "colab": {
          "base_uri": "https://localhost:8080/"
        },
        "id": "ewcWMk2SKMZ8",
        "outputId": "6eb4ba81-6046-4aef-ac00-5f1721eb41a2"
      },
      "execution_count": null,
      "outputs": [
        {
          "output_type": "execute_result",
          "data": {
            "text/plain": [
              "[121, 144, 169, 196]"
            ]
          },
          "metadata": {},
          "execution_count": 15
        }
      ]
    },
    {
      "cell_type": "code",
      "source": [
        "[data if data %2 else \"짝수\" for data in range(10)]"
      ],
      "metadata": {
        "colab": {
          "base_uri": "https://localhost:8080/"
        },
        "id": "-pFJFZ3KKRgn",
        "outputId": "5240a834-53e4-44f0-aea1-04c4635cca86"
      },
      "execution_count": null,
      "outputs": [
        {
          "output_type": "execute_result",
          "data": {
            "text/plain": [
              "['짝수', 1, '짝수', 3, '짝수', 5, '짝수', 7, '짝수', 9]"
            ]
          },
          "metadata": {},
          "execution_count": 16
        }
      ]
    },
    {
      "cell_type": "code",
      "execution_count": null,
      "metadata": {
        "ExecuteTime": {
          "end_time": "2021-02-05T05:21:02.960104Z",
          "start_time": "2021-02-05T05:21:02.955117Z"
        },
        "id": "uZJ-8EY6FPsB",
        "outputId": "fdfcdf49-dd90-45b5-d6f1-61ab59d2436a"
      },
      "outputs": [
        {
          "data": {
            "text/plain": [
              "['짝수', 1, '짝수', 3, '짝수', 5, '짝수', 7, '짝수', 9]"
            ]
          },
          "execution_count": 18,
          "metadata": {},
          "output_type": "execute_result"
        }
      ],
      "source": [
        "# 10까지 자연수를 출력하면서 짝수는 '짝수'로 홀수는 그 숫자를 출력한다.\n",
        "# comprehension 을 이용해보자.\n",
        "\n",
        "# blank\n"
      ]
    },
    {
      "cell_type": "code",
      "source": [
        "# 10까지 자연수를 출력하면서 짝수는 '짝수'로 홀수는 그 숫자를 출력한다.\n",
        "# comprehension 을 이용해보자.\n",
        "\n",
        "[data if data % 2 else \"짝수\" for data in range(1, 11)]"
      ],
      "metadata": {
        "id": "LjMtOS8gwWUO"
      },
      "execution_count": null,
      "outputs": []
    },
    {
      "cell_type": "markdown",
      "metadata": {
        "id": "CxxJu0ryFPsB"
      },
      "source": [
        "### Quiz\n",
        "    이중 for문을 이용하여 2차원 배열의 원소들 합을 1차원으로 나타내기\n",
        "                                                                      행렬 표현 (2x3)\n",
        "$$\n",
        "    \\begin{pmatrix}\n",
        "    A00 & A01 & A02 \\\\\n",
        "    A10 & A11 & A12 \\\\\n",
        "    \\end{pmatrix}\n",
        "$$"
      ]
    },
    {
      "cell_type": "markdown",
      "metadata": {
        "id": "ialkEGFHFPsB"
      },
      "source": [
        "$$\n",
        "    \\begin{pmatrix}\n",
        "    2 & 4 \\\\\n",
        "    6 & 8 \\\\\n",
        "    \\end{pmatrix}\n",
        "    +\n",
        "    \\begin{pmatrix}\n",
        "    1 & 3 \\\\\n",
        "    5 & 7 \\\\\n",
        "    \\end{pmatrix}\n",
        "    =\n",
        "    \\begin{pmatrix}\n",
        "    3 & 7 \\\\\n",
        "    11 & 15 \\\\\n",
        "    \\end{pmatrix}\n",
        "$$"
      ]
    },
    {
      "cell_type": "code",
      "execution_count": null,
      "metadata": {
        "id": "PLIkX7y_FPsB",
        "colab": {
          "base_uri": "https://localhost:8080/"
        },
        "outputId": "9270e812-632d-48fc-db25-88ded37e9e89"
      },
      "outputs": [
        {
          "output_type": "execute_result",
          "data": {
            "text/plain": [
              "[]"
            ]
          },
          "metadata": {},
          "execution_count": 18
        }
      ],
      "source": [
        "m1 = [[2, 4], [6, 8]]\n",
        "m2 = [[1, 3], [5, 7]]\n",
        "res = []\n",
        "\n",
        "for i in range( len(m1)):\n",
        "    for j in range( len(m2)):\n",
        "        res.append(m1[i][j] + m2[i][j])\n",
        "res\n",
        "result = []\n",
        "\n",
        "# complete the blanks\n",
        "\n",
        "result"
      ]
    },
    {
      "cell_type": "code",
      "source": [
        "# 복습\n",
        "m1 = [[2, 4], [6, 8]]\n",
        "m2 = [[1, 3], [5, 7]]\n",
        "\n",
        "res = []\n",
        "\n",
        "for i in range(len(m1)):\n",
        "    for j in range(len(m2)):\n",
        "        res.append(m1[i][j] + m2[i][j])\n",
        "res"
      ],
      "metadata": {
        "colab": {
          "base_uri": "https://localhost:8080/"
        },
        "id": "AOCvh9qP1KN4",
        "outputId": "17e6fcac-0cb8-411e-c97c-a86f73406322"
      },
      "execution_count": 12,
      "outputs": [
        {
          "output_type": "execute_result",
          "data": {
            "text/plain": [
              "[3, 7, 11, 15]"
            ]
          },
          "metadata": {},
          "execution_count": 12
        }
      ]
    },
    {
      "cell_type": "code",
      "source": [
        "# comprehension 을 이용해보자.\n",
        "res2=[m1[i][j]+m2[i][j] for i in range(len(m1)) for j in range(len(m2)) ]\n",
        "\n",
        "print(res2)"
      ],
      "metadata": {
        "id": "sBvtKXm0HWm4",
        "colab": {
          "base_uri": "https://localhost:8080/"
        },
        "outputId": "6ad895f6-1657-4946-fbef-d1df6af05fdc"
      },
      "execution_count": 13,
      "outputs": [
        {
          "output_type": "stream",
          "name": "stdout",
          "text": [
            "[3, 7, 11, 15]\n"
          ]
        }
      ]
    }
  ],
  "metadata": {
    "hide_input": false,
    "kernelspec": {
      "display_name": "Python 3",
      "language": "python",
      "name": "python3"
    },
    "language_info": {
      "codemirror_mode": {
        "name": "ipython",
        "version": 3
      },
      "file_extension": ".py",
      "mimetype": "text/x-python",
      "name": "python",
      "nbconvert_exporter": "python",
      "pygments_lexer": "ipython3",
      "version": "3.8.5"
    },
    "toc": {
      "base_numbering": 1,
      "nav_menu": {},
      "number_sections": true,
      "sideBar": true,
      "skip_h1_title": false,
      "title_cell": "Table of Contents",
      "title_sidebar": "Contents",
      "toc_cell": false,
      "toc_position": {},
      "toc_section_display": true,
      "toc_window_display": false
    },
    "varInspector": {
      "cols": {
        "lenName": 16,
        "lenType": 16,
        "lenVar": 40
      },
      "kernels_config": {
        "python": {
          "delete_cmd_postfix": "",
          "delete_cmd_prefix": "del ",
          "library": "var_list.py",
          "varRefreshCmd": "print(var_dic_list())"
        },
        "r": {
          "delete_cmd_postfix": ") ",
          "delete_cmd_prefix": "rm(",
          "library": "var_list.r",
          "varRefreshCmd": "cat(var_dic_list()) "
        }
      },
      "types_to_exclude": [
        "module",
        "function",
        "builtin_function_or_method",
        "instance",
        "_Feature"
      ],
      "window_display": false
    },
    "colab": {
      "name": "lesson 10. Loop2 - for else continue.ipynb",
      "provenance": [],
      "collapsed_sections": [],
      "include_colab_link": true
    }
  },
  "nbformat": 4,
  "nbformat_minor": 0
}