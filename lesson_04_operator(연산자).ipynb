{
  "cells": [
    {
      "cell_type": "markdown",
      "metadata": {
        "id": "view-in-github",
        "colab_type": "text"
      },
      "source": [
        "<a href=\"https://colab.research.google.com/github/hyunBBB/OMG/blob/main/lesson_04_operator(%EC%97%B0%EC%82%B0%EC%9E%90).ipynb\" target=\"_parent\"><img src=\"https://colab.research.google.com/assets/colab-badge.svg\" alt=\"Open In Colab\"/></a>"
      ]
    },
    {
      "cell_type": "markdown",
      "metadata": {
        "id": "EdUFrdbbl-wc"
      },
      "source": [
        "### 연산자\n",
        "    - 산술\n",
        "    - 할당\n",
        "    - 비교\n",
        "    - 논리\n",
        "    - 멤버"
      ]
    },
    {
      "cell_type": "markdown",
      "metadata": {
        "id": "Es33FJOIl-wh"
      },
      "source": [
        "#### 산술\n",
        "    +, -, *, /, //, %, **"
      ]
    },
    {
      "cell_type": "markdown",
      "source": [
        "*은 곱셈이기도 에스터리스트?라고도 함. / 나눗셈. // 나눗셈의 몫만 , %나눗셈의 나머지만, **제곱(별두개)"
      ],
      "metadata": {
        "id": "hil8Y8SQxjf9"
      }
    },
    {
      "cell_type": "code",
      "source": [
        ""
      ],
      "metadata": {
        "id": "yHq1xgHixjXN"
      },
      "execution_count": null,
      "outputs": []
    },
    {
      "cell_type": "code",
      "source": [
        ""
      ],
      "metadata": {
        "id": "tpCnOCJWxjE7"
      },
      "execution_count": null,
      "outputs": []
    },
    {
      "cell_type": "code",
      "execution_count": null,
      "metadata": {
        "id": "Obwwmae4l-wi",
        "colab": {
          "base_uri": "https://localhost:8080/"
        },
        "outputId": "592b9687-2493-4571-df8a-130d34fe9092"
      },
      "outputs": [
        {
          "output_type": "execute_result",
          "data": {
            "text/plain": [
              "6.0"
            ]
          },
          "metadata": {},
          "execution_count": 2
        }
      ],
      "source": [
        "8 - 4 * 2 / 2 ** 2"
      ]
    },
    {
      "cell_type": "markdown",
      "metadata": {
        "id": "N9rtuBxCl-wj"
      },
      "source": [
        "#### 할당 (변수 선언과 상당히 유사\n"
      ]
    },
    {
      "cell_type": "code",
      "source": [
        "# list, tuple, dict\n",
        "int, float, string(str )\n",
        "변수 선언을 식별자라고 함."
      ],
      "metadata": {
        "id": "dIYKR2LIQ6by"
      },
      "execution_count": null,
      "outputs": []
    },
    {
      "cell_type": "code",
      "execution_count": 1,
      "metadata": {
        "id": "PxJ4rOayl-wj",
        "colab": {
          "base_uri": "https://localhost:8080/"
        },
        "outputId": "9b220c1f-be75-4c90-d408-9d17a796398b"
      },
      "outputs": [
        {
          "output_type": "execute_result",
          "data": {
            "text/plain": [
              "121.00000000000003"
            ]
          },
          "metadata": {},
          "execution_count": 1
        }
      ],
      "source": [
        "a = 100\n",
        "a *= 1.1  # a = a*1.1 그니까 a한테 1.1을 곱해주고 다시 a에게 돌려준다는 말임. 엥 \n",
        "a *= 1.1\n",
        "a # 만약 정수형으로 나타내고 싶으면 int(a)라고 쓰면 됨."
      ]
    },
    {
      "cell_type": "code",
      "execution_count": 2,
      "metadata": {
        "id": "pGOoz9kUl-wk",
        "colab": {
          "base_uri": "https://localhost:8080/"
        },
        "outputId": "2993a8b0-150a-4d5b-e2f4-d5d1fc29c991"
      },
      "outputs": [
        {
          "output_type": "stream",
          "name": "stdout",
          "text": [
            "1\n",
            "3\n",
            "6\n",
            "10\n",
            "15\n",
            "21\n",
            "28\n",
            "36\n",
            "45\n",
            "55\n"
          ]
        }
      ],
      "source": [
        "b = 0\n",
        "for i in range(1,11):\n",
        "  b += i\n",
        "# a = a + i i 에 1부터 10까지 들어감.\n",
        "  print(b)\n"
      ]
    },
    {
      "cell_type": "markdown",
      "metadata": {
        "id": "WhGoOc1zl-wl"
      },
      "source": [
        "#### 비교\n",
        "    >, <, >=, <=, ==, != ( 다르다는 뜻임)\n",
        "    결과값이 True, False"
      ]
    },
    {
      "cell_type": "code",
      "source": [
        "c = 5\n",
        "d = 8\n",
        "c == d, c >= d, c <= d"
      ],
      "metadata": {
        "colab": {
          "base_uri": "https://localhost:8080/"
        },
        "id": "8QomIhPaSSiC",
        "outputId": "f0e963b5-2581-4f86-d810-03896b09dfb9"
      },
      "execution_count": 3,
      "outputs": [
        {
          "output_type": "execute_result",
          "data": {
            "text/plain": [
              "(False, False, True)"
            ]
          },
          "metadata": {},
          "execution_count": 3
        }
      ]
    },
    {
      "cell_type": "code",
      "execution_count": null,
      "metadata": {
        "id": "c9IvDY9nl-wl",
        "colab": {
          "base_uri": "https://localhost:8080/"
        },
        "outputId": "e020e8ff-b77c-43ab-f0ba-017c77a0a4aa"
      },
      "outputs": [
        {
          "output_type": "stream",
          "name": "stdout",
          "text": [
            "True False\n",
            "False\n"
          ]
        }
      ],
      "source": [
        "b = 3 #int\n",
        "c = 3.0 #float\n",
        "\n",
        "print(b==c, b>c)\n",
        "print(b !=c)"
      ]
    },
    {
      "cell_type": "markdown",
      "metadata": {
        "id": "7GPG_Goul-wm"
      },
      "source": [
        "#### 논리 \n",
        "    and, or, not\n",
        "    True, False로 나타내는 연산\n",
        "    연산은 앞에서부터 순서대로 진행"
      ]
    },
    {
      "cell_type": "code",
      "source": [
        "c and d  # true and false에 대한 결과값을 준다고 하면 참과 거짓이 and 조건이면 false 참과참이 동시에 나오면 true 가 나올 것, 참과 거짓이 또는으로 엮이면 둘 중 누가크냐 라고 따지는건3데 참인거임.\n",
        " # 참 과 거짓 이면 거짓, 참과 참이면 참, 참 또는 거짓이면 참, true 면 같은 조건이어야함. or와 ture가 있으면 ture. 언제 트루 언제 펄스가 나오는지. 앤드일때 둘다 트루일때만 트루이다. \n",
        " # false and false는 false. "
      ],
      "metadata": {
        "colab": {
          "base_uri": "https://localhost:8080/"
        },
        "id": "6lmCPC0fSo7g",
        "outputId": "3be19838-205d-4b94-c15d-c4abb511302f"
      },
      "execution_count": 4,
      "outputs": [
        {
          "output_type": "execute_result",
          "data": {
            "text/plain": [
              "8"
            ]
          },
          "metadata": {},
          "execution_count": 4
        }
      ]
    },
    {
      "cell_type": "code",
      "execution_count": null,
      "metadata": {
        "id": "n3TPm0PEl-wm",
        "colab": {
          "base_uri": "https://localhost:8080/"
        },
        "outputId": "1361f828-4595-439f-fbfc-b3730ea8b6fb"
      },
      "outputs": [
        {
          "output_type": "stream",
          "name": "stdout",
          "text": [
            "False True False\n",
            "True False True\n"
          ]
        }
      ],
      "source": [
        "print(True and False, True or False, not True or False)\n",
        "print(True and True, False or False, not False or False)"
      ]
    },
    {
      "cell_type": "markdown",
      "metadata": {
        "id": "KZlXYwOJl-wn"
      },
      "source": [
        "#### 멤버\n",
        "    in, not in\n",
        "    특정 데이터가 있는지 확인할 때 사용"
      ]
    },
    {
      "cell_type": "code",
      "execution_count": null,
      "metadata": {
        "id": "tNj-_A6el-wn",
        "colab": {
          "base_uri": "https://localhost:8080/"
        },
        "outputId": "9f786138-108c-4210-99b7-4fea95eff390"
      },
      "outputs": [
        {
          "output_type": "execute_result",
          "data": {
            "text/plain": [
              "(True, False, False)"
            ]
          },
          "metadata": {},
          "execution_count": 10
        }
      ],
      "source": [
        "a = ['python', 'AI', 'class', 'deep learning']\n",
        "'python' in a, 'CNN' in a, 'ai' in a"
      ]
    }
  ],
  "metadata": {
    "kernelspec": {
      "display_name": "Python 3",
      "language": "python",
      "name": "python3"
    },
    "language_info": {
      "codemirror_mode": {
        "name": "ipython",
        "version": 3
      },
      "file_extension": ".py",
      "mimetype": "text/x-python",
      "name": "python",
      "nbconvert_exporter": "python",
      "pygments_lexer": "ipython3",
      "version": "3.8.5"
    },
    "toc": {
      "base_numbering": 1,
      "nav_menu": {},
      "number_sections": true,
      "sideBar": true,
      "skip_h1_title": false,
      "title_cell": "Table of Contents",
      "title_sidebar": "Contents",
      "toc_cell": false,
      "toc_position": {},
      "toc_section_display": true,
      "toc_window_display": false
    },
    "colab": {
      "name": "lesson 04. operator(연산자).ipynb",
      "provenance": [],
      "collapsed_sections": [],
      "include_colab_link": true
    }
  },
  "nbformat": 4,
  "nbformat_minor": 0
}